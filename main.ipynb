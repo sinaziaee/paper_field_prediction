{
  "cells": [
    {
      "cell_type": "markdown",
      "metadata": {
        "id": "view-in-github",
        "colab_type": "text"
      },
      "source": [
        "<a href=\"https://colab.research.google.com/github/sinaziaee/paper_field_prediction/blob/main/main.ipynb\" target=\"_parent\"><img src=\"https://colab.research.google.com/assets/colab-badge.svg\" alt=\"Open In Colab\"/></a>"
      ]
    },
    {
      "cell_type": "markdown",
      "metadata": {
        "id": "4Ogqgug4_1hN"
      },
      "source": [
        "### important fields used in the code(do not run this cell)"
      ]
    },
    {
      "cell_type": "code",
      "execution_count": null,
      "metadata": {
        "id": "p1f4QNhC-Atw"
      },
      "outputs": [],
      "source": [
        "study_fields # list of all fields to all papers that they are associated with\n",
        "study_fields_list # list of the number of papers that each field is assiciated with \n",
        "papers_dict # a dictionary that contains the fields each paper has\n",
        "field_of_study_with_max_papers # the field of study that is used in all papers\n",
        "study_fields_dict # dictionary that contains the number of papers for each paper\n",
        "sorted_dict # a sorted dictionary of study_fields_dict dictionary\n",
        "papers_study_fields # a list for all papers that contains the field of study which is associated with the highest number of papers\n",
        "new_y # the torch tensor that is used to replace the data.y field"
      ]
    },
    {
      "cell_type": "markdown",
      "metadata": {
        "id": "aDbleer8iEKF"
      },
      "source": [
        "# Loading modules and libraries"
      ]
    },
    {
      "cell_type": "code",
      "execution_count": 1,
      "metadata": {
        "colab": {
          "base_uri": "https://localhost:8080/"
        },
        "id": "0cwaXYxf-bXn",
        "outputId": "1cb538f5-773b-4b97-ce62-5e620cbacda4"
      },
      "outputs": [
        {
          "output_type": "stream",
          "name": "stdout",
          "text": [
            "PyTorch has version 1.12.1+cu113\n",
            "2.1.0\n",
            "Downloading http://snap.stanford.edu/ogb/data/nodeproppred/mag.zip\n"
          ]
        },
        {
          "output_type": "stream",
          "name": "stderr",
          "text": [
            "Downloaded 0.40 GB: 100%|██████████| 413/413 [00:30<00:00, 13.74it/s]\n"
          ]
        },
        {
          "output_type": "stream",
          "name": "stdout",
          "text": [
            "Extracting dataset/mag.zip\n"
          ]
        },
        {
          "output_type": "stream",
          "name": "stderr",
          "text": [
            "Processing...\n"
          ]
        },
        {
          "output_type": "stream",
          "name": "stdout",
          "text": [
            "Loading necessary files...\n",
            "This might take a while.\n",
            "Processing graphs...\n"
          ]
        },
        {
          "output_type": "stream",
          "name": "stderr",
          "text": [
            "100%|██████████| 1/1 [00:00<00:00, 6553.60it/s]\n"
          ]
        },
        {
          "output_type": "stream",
          "name": "stdout",
          "text": [
            "Converting graphs into PyG objects...\n"
          ]
        },
        {
          "output_type": "stream",
          "name": "stderr",
          "text": [
            "100%|██████████| 1/1 [00:00<00:00, 1471.69it/s]"
          ]
        },
        {
          "output_type": "stream",
          "name": "stdout",
          "text": [
            "Saving...\n"
          ]
        },
        {
          "output_type": "stream",
          "name": "stderr",
          "text": [
            "\n",
            "Done!\n"
          ]
        }
      ],
      "source": [
        "import torch\n",
        "from torch.nn import Parameter, ModuleDict, ModuleList, Linear, ParameterDict\n",
        "print(\"PyTorch has version {}\".format(torch.__version__))\n",
        "# Install torch geometric\n",
        "!pip install -q torch-scatter -f https://pytorch-geometric.com/whl/torch-1.12.0+cu113.html &> /dev/null\n",
        "!pip install -q torch-sparse -f https://pytorch-geometric.com/whl/torch-1.12.0+cu113.html &> /dev/null\n",
        "!pip install -q torch-geometric &> /dev/null\n",
        "!pip install ogb &> /dev/null\n",
        "!pip install matplotlib==3.1.3 &> /dev/null\n",
        "!pip install pytorch-memlab &> /dev/null\n",
        "\n",
        "##\n",
        "import torch_geometric\n",
        "print(torch_geometric.__version__)\n",
        "import numpy as np\n",
        "import pandas as pd\n",
        "import matplotlib.pyplot as plt\n",
        "# Dataset loader\n",
        "from ogb.nodeproppred import PygNodePropPredDataset, Evaluator\n",
        "dataset = PygNodePropPredDataset(name='ogbn-mag')\n",
        "from torch_geometric.profile.profile import profileit\n",
        "from torch_sparse import SparseTensor\n",
        "\n",
        "import warnings\n",
        "warnings.simplefilter(action='ignore', category=FutureWarning)\n",
        "\n",
        "import time\n",
        "import copy\n",
        "from tqdm import tqdm\n",
        "from copy import copy"
      ]
    },
    {
      "cell_type": "code",
      "execution_count": 2,
      "metadata": {
        "id": "cndMPgQCdoM9"
      },
      "outputs": [],
      "source": [
        "# imporiting libraries\n",
        "import torch.nn.functional as F\n",
        "\n",
        "from torch_geometric.data import Data\n",
        "import torch_geometric.transforms as T\n",
        "from torch_geometric.nn import GCNConv, SAGEConv, RGCNConv\n",
        "from sklearn.metrics import f1_score\n",
        "\n",
        "from torch_geometric.utils import to_undirected\n",
        "from torch_geometric.data import Data, GraphSAINTRandomWalkSampler\n",
        "from torch_geometric.utils.hetero import group_hetero_graph\n",
        "from torch_geometric.nn import MessagePassing"
      ]
    },
    {
      "cell_type": "code",
      "execution_count": 3,
      "metadata": {
        "id": "zv1uGJ0QnqWm"
      },
      "outputs": [],
      "source": [
        "# hyper parameters\n",
        "log_steps = 1\n",
        "num_layers = 2\n",
        "hidden_channels = 256\n",
        "dropout = 0.5\n",
        "lr = 0.01\n",
        "batch_size = 2000\n",
        "num_steps = 30\n",
        "walk_length = 2\n",
        "epochs = 101\n",
        "runs = 1\n",
        "device = f'cuda' if torch.cuda.is_available() else 'cpu'\n",
        "device = torch.device(device)"
      ]
    },
    {
      "cell_type": "code",
      "execution_count": 5,
      "metadata": {
        "colab": {
          "base_uri": "https://localhost:8080/"
        },
        "id": "so98s70r2Onw",
        "outputId": "f218a6d5-28ca-4400-9440-e68573ebfe2a"
      },
      "outputs": [
        {
          "output_type": "execute_result",
          "data": {
            "text/plain": [
              "Data(\n",
              "  num_nodes_dict={\n",
              "    author=1134649,\n",
              "    field_of_study=59965,\n",
              "    institution=8740,\n",
              "    paper=736389\n",
              "  },\n",
              "  edge_index_dict={\n",
              "    (author, affiliated_with, institution)=[2, 1043998],\n",
              "    (author, writes, paper)=[2, 7145660],\n",
              "    (paper, cites, paper)=[2, 5416271],\n",
              "    (paper, has_topic, field_of_study)=[2, 7505078]\n",
              "  },\n",
              "  x_dict={ paper=[736389, 128] },\n",
              "  node_year={ paper=[736389, 1] },\n",
              "  edge_reltype={\n",
              "    (author, affiliated_with, institution)=[1043998, 1],\n",
              "    (author, writes, paper)=[7145660, 1],\n",
              "    (paper, cites, paper)=[5416271, 1],\n",
              "    (paper, has_topic, field_of_study)=[7505078, 1]\n",
              "  },\n",
              "  y_dict={ paper=[736389, 1] }\n",
              ")"
            ]
          },
          "metadata": {},
          "execution_count": 5
        }
      ],
      "source": [
        "dataset[0]"
      ]
    },
    {
      "cell_type": "markdown",
      "metadata": {
        "id": "W86pdGKfsCSI"
      },
      "source": [
        "# Preparing the dataset"
      ]
    },
    {
      "cell_type": "code",
      "execution_count": 6,
      "metadata": {
        "colab": {
          "base_uri": "https://localhost:8080/"
        },
        "id": "pTwhUFrgvGBH",
        "outputId": "ad5496c1-26a6-4a2c-c60e-04af432f0903"
      },
      "outputs": [
        {
          "output_type": "stream",
          "name": "stdout",
          "text": [
            "no paper: 736389\n",
            "no study fields: 59965\n",
            "no paper study fields: 7505078\n"
          ]
        }
      ],
      "source": [
        "data = dataset[0]\n",
        "no_paper = data.num_nodes_dict['paper']\n",
        "no_study_fields = data.num_nodes_dict['field_of_study']\n",
        "m_key = 'paper', 'has_topic', 'field_of_study'\n",
        "no_paper_study_fields = data.edge_index_dict[m_key].shape[1]\n",
        "print('no paper:', no_paper)\n",
        "print('no study fields:', no_study_fields)\n",
        "print('no paper study fields:', no_paper_study_fields)"
      ]
    },
    {
      "cell_type": "markdown",
      "metadata": {
        "id": "49OxldfvACNA"
      },
      "source": [
        "### rest"
      ]
    },
    {
      "cell_type": "code",
      "execution_count": 7,
      "metadata": {
        "colab": {
          "base_uri": "https://localhost:8080/"
        },
        "id": "xezrtqQTQUH2",
        "outputId": "62be7604-40a1-4ff7-c1a9-e2e8ed54ae66"
      },
      "outputs": [
        {
          "output_type": "stream",
          "name": "stdout",
          "text": [
            "[  145  2215  3205 ... 21458 22283 31934]\n",
            "number of papers for each study field:  [   7 1353  609 ...    2    1    1]\n",
            "16758\n",
            "[ 87464 129205  96621  86355  70668  67323 189963 736389  71231]\n",
            "field of study with the maximum number of papers:  14055\n"
          ]
        }
      ],
      "source": [
        "# selecting edges connected to field of studies\n",
        "study_fields = data.edge_index_dict[m_key][1].numpy()\n",
        "print(study_fields)\n",
        "study_fields = list(study_fields)\n",
        "study_fields_list = [0 for i in range(no_study_fields)]\n",
        "for each in study_fields:\n",
        "  study_fields_list[each] += 1\n",
        "# number of papers with each field of studies\n",
        "study_fields_list = np.array(study_fields_list)\n",
        "print('number of papers for each study field: ', study_fields_list)\n",
        "# creating a dictionary of papers and their corresponding fields of studies\n",
        "papers_dict = dict(zip([i for i in range(no_paper)], [[] for i in range(no_paper)]))\n",
        "for each in data.edge_index_dict[m_key].T.numpy():\n",
        "  paper = each[0]\n",
        "  field = each[1]\n",
        "  papers_dict[paper].append(field)\n",
        "\n",
        "print(study_fields_list[study_fields_list==1].shape[0])\n",
        "print(study_fields_list[study_fields_list>50000])\n",
        "print('field of study with the maximum number of papers: ', study_fields_list.argmax())\n",
        "field_of_study_with_max_papers = study_fields_list.argmax()"
      ]
    },
    {
      "cell_type": "markdown",
      "metadata": {
        "id": "7aNFtfigF8Mw"
      },
      "source": [
        "16758 fields of study are used only in one paper. Field of study \"14055\" is used in all papers. 3 papers only have 14055 as their only field of study.\n",
        "We will select the fields of study that are used in most number of papers. we will filter them based on fields that are used higher than 10000, 20000, ..., 50000 papers."
      ]
    },
    {
      "cell_type": "code",
      "execution_count": 8,
      "metadata": {
        "colab": {
          "base_uri": "https://localhost:8080/",
          "height": 0
        },
        "id": "YwlD97Y6XhPQ",
        "outputId": "c88c5f81-88b5-4dbc-b7fd-042b59c883b9"
      },
      "outputs": [
        {
          "output_type": "display_data",
          "data": {
            "text/plain": [
              "<Figure size 432x576 with 1 Axes>"
            ],
            "image/png": "[encoded data removed]"
          },
          "metadata": {
            "needs_background": "light"
          }
        },
        {
          "output_type": "stream",
          "name": "stdout",
          "text": [
            "\n",
            "number of papers:     [0, 10000, 20000, 30000, 40000, 50000]\n",
            "number of study fields: [59965, 68, 23, 15, 11, 9]\n"
          ]
        }
      ],
      "source": [
        "# selecting threshold list for visualization of the number of papers in each field of study\n",
        "threshold_list = [i * 10000 for i in range(6)]\n",
        "# threshold_list = [0, 1, 100, 5000]\n",
        "result_list = []\n",
        "# finding the number of papers on each threshold\n",
        "for each in threshold_list:\n",
        "  result_list.append(study_fields_list[study_fields_list>each].shape[0])\n",
        "# visualization\n",
        "plt.figure(figsize=(6, 8))\n",
        "plt.scatter(threshold_list[1:], result_list[1:])\n",
        "plt.plot(threshold_list[1:], result_list[1:])\n",
        "plt.xlabel('Thresholds of the number of papers')\n",
        "plt.ylabel('The number of fields of study')\n",
        "# for i in range(len(result_list)):\n",
        "#     plt.annotate(result_list[i], (threshold_list[i], result_list[i] + 0.2))\n",
        "plt.show()\n",
        "print(f'\\nnumber of papers:     {threshold_list}')\n",
        "print(f'number of study fields: {result_list}')"
      ]
    },
    {
      "cell_type": "code",
      "execution_count": 9,
      "metadata": {
        "id": "rHxC-q2r0W9m"
      },
      "outputs": [],
      "source": [
        "keys = [i for i in range(no_study_fields)] # study fields\n",
        "values = list(study_fields_list) # number of papers\n",
        "study_fields_dict = dict(zip(keys, values))\n",
        "sorted_dict = dict(sorted(study_fields_dict.items(), key=lambda item: item[1]))\n",
        "\n",
        "def find_field_with_max_no_papers(temp_dict, study_fields_list_in_each_paper):\n",
        "  temp_list = []\n",
        "  # removing the most used field of study (14055)\n",
        "  if len(study_fields_list_in_each_paper) == 1: # if the list only has 14055 as study field then return it, otherwise find the next max field\n",
        "    # print(study_fields_list_in_each_paper)\n",
        "    return field_of_study_with_max_papers\n",
        "  study_fields_list_in_each_paper.remove(field_of_study_with_max_papers)\n",
        "  # find the order (higher number -> higer priority)\n",
        "  for field in study_fields_list_in_each_paper:\n",
        "    temp_list.append(temp_dict[field])\n",
        "  # finding the study field with maximum number of papers\n",
        "  maximum = max(temp_list)\n",
        "  # finding it's index\n",
        "  max_index = temp_list.index(maximum)\n",
        "  # returning the field of study itself (not the index)\n",
        "  study_field_with_max_no_papers = study_fields_list_in_each_paper[max_index]\n",
        "  return study_field_with_max_no_papers\n",
        "\n",
        "papers_study_fields = [field_of_study_with_max_papers for i in range(no_paper)]\n",
        "temp_dict = dict(zip(list(sorted_dict.keys()), [i for i in range(len(list(sorted_dict.keys())))]))\n",
        "# find the most used field of study\n",
        "for i in range(no_paper):\n",
        "  study_fields_list_in_each_paper = papers_dict[i][:]\n",
        "  study_field_with_max_no_papers = find_field_with_max_no_papers(temp_dict, study_fields_list_in_each_paper) \n",
        "  papers_study_fields[i] = study_field_with_max_no_papers\n",
        "# saving the result as it may take a while\n",
        "papers_study_fields = np.array(papers_study_fields)\n",
        "np.savetxt('saved_list.txt', papers_study_fields, fmt='%d')\n",
        "b = np.loadtxt('saved_list.txt', dtype=int)"
      ]
    },
    {
      "cell_type": "code",
      "execution_count": 10,
      "metadata": {
        "id": "jLfT3I88Tl45"
      },
      "outputs": [],
      "source": [
        "temp_set = list()\n",
        "for each in list(papers_study_fields):\n",
        "  if each not in temp_set:\n",
        "    temp_set.append(each)\n",
        "\n",
        "my_dict = dict(zip(list(temp_set), [0 for i in range(len(temp_set))]))\n",
        "for each in list(papers_study_fields):\n",
        "  my_dict[each]+=1\n",
        "\n",
        "new_y_dict = dict()\n",
        "reverse_new_y_dict = dict()\n",
        "\n",
        "for i, each in enumerate(temp_set):\n",
        "  new_y_dict[each] = i\n",
        "  reverse_new_y_dict[i] = each\n",
        "\n",
        "new_y = []\n",
        "for each in list(papers_study_fields):\n",
        "  new_y.append(new_y_dict[each])\n",
        "new_y = np.array(new_y)\n",
        "\n",
        "new_y = torch.from_numpy(new_y.reshape((new_y.shape[0], 1)))\n",
        "\n",
        "num_classes = len(temp_set)"
      ]
    },
    {
      "cell_type": "markdown",
      "metadata": {
        "id": "l-pI9lfgiIpE"
      },
      "source": [
        "# Pipeline"
      ]
    },
    {
      "cell_type": "markdown",
      "metadata": {
        "id": "CVDDBd6tfKLZ"
      },
      "source": [
        "## GraphSage and GCN model architecture"
      ]
    },
    {
      "cell_type": "code",
      "execution_count": 11,
      "metadata": {
        "id": "DFwXDobQjiXt"
      },
      "outputs": [],
      "source": [
        "class GCN(torch.nn.Module):\n",
        "    def __init__(self, in_channels, hidden_channels, out_channels, num_layers,\n",
        "                 dropout):\n",
        "        super(GCN, self).__init__()\n",
        "\n",
        "        self.convs = torch.nn.ModuleList()\n",
        "        self.convs.append(\n",
        "            GCNConv(in_channels, hidden_channels, normalize=False))\n",
        "        for _ in range(num_layers - 2):\n",
        "            self.convs.append(\n",
        "                GCNConv(hidden_channels, hidden_channels, normalize=False))\n",
        "        self.convs.append(\n",
        "            GCNConv(hidden_channels, out_channels, normalize=False))\n",
        "\n",
        "        self.dropout = dropout\n",
        "\n",
        "    def reset_parameters(self):\n",
        "        for conv in self.convs:\n",
        "            conv.reset_parameters()\n",
        "\n",
        "    def forward(self, x, adj_t):\n",
        "        for i, conv in enumerate(self.convs[:-1]):\n",
        "            x = conv(x, adj_t)\n",
        "            x = F.relu(x)\n",
        "            x = F.dropout(x, p=self.dropout, training=self.training)\n",
        "        x = self.convs[-1](x, adj_t)\n",
        "        return x.log_softmax(dim=-1)"
      ]
    },
    {
      "cell_type": "code",
      "execution_count": 12,
      "metadata": {
        "id": "IDl_g_uUj4zW"
      },
      "outputs": [],
      "source": [
        "class SAGE(torch.nn.Module):\n",
        "    def __init__(self, in_channels, hidden_channels, out_channels, num_layers,\n",
        "                 dropout):\n",
        "        super(SAGE, self).__init__()\n",
        "\n",
        "        self.convs = torch.nn.ModuleList()\n",
        "        self.convs.append(SAGEConv(in_channels, hidden_channels))\n",
        "        for _ in range(num_layers - 2):\n",
        "            self.convs.append(SAGEConv(hidden_channels, hidden_channels))\n",
        "        self.convs.append(SAGEConv(hidden_channels, out_channels))\n",
        "\n",
        "        self.dropout = dropout\n",
        "\n",
        "    def reset_parameters(self):\n",
        "        for conv in self.convs:\n",
        "            conv.reset_parameters()\n",
        "\n",
        "    def forward(self, x, adj_t):\n",
        "        for i, conv in enumerate(self.convs[:-1]):\n",
        "            x = conv(x, adj_t)\n",
        "            x = F.relu(x)\n",
        "            x = F.dropout(x, p=self.dropout, training=self.training)\n",
        "        x = self.convs[-1](x, adj_t)\n",
        "        return x.log_softmax(dim=-1)"
      ]
    },
    {
      "cell_type": "code",
      "execution_count": 13,
      "metadata": {
        "id": "h01iCdTsj6D6"
      },
      "outputs": [],
      "source": [
        "@profileit()\n",
        "def train(model, data, train_idx, optimizer):\n",
        "    model.train()\n",
        "\n",
        "    optimizer.zero_grad()\n",
        "    out = model(data.x, data.adj_t)[train_idx]\n",
        "    \n",
        "    loss = F.nll_loss(out, data.y.squeeze(1)[train_idx])\n",
        "    loss.backward()\n",
        "    optimizer.step()\n",
        "\n",
        "    return loss.item()\n",
        "  \n",
        "@torch.no_grad()\n",
        "def test(model, data, split_idx, evaluator):\n",
        "    model.eval()\n",
        "\n",
        "    out = model(data.x, data.adj_t)\n",
        "    y_pred = out.argmax(dim=-1, keepdim=True)\n",
        "\n",
        "    train_acc = evaluator.eval({\n",
        "        'y_true': data.y[split_idx['train']['paper']],\n",
        "        'y_pred': y_pred[split_idx['train']['paper']],\n",
        "    })['acc']\n",
        "    valid_acc = evaluator.eval({\n",
        "        'y_true': data.y[split_idx['valid']['paper']],\n",
        "        'y_pred': y_pred[split_idx['valid']['paper']],\n",
        "    })['acc']\n",
        "    test_acc = evaluator.eval({\n",
        "        'y_true': data.y[split_idx['test']['paper']],\n",
        "        'y_pred': y_pred[split_idx['test']['paper']],\n",
        "    })['acc']\n",
        "\n",
        "    # print(data.y[split_idx['test']['paper']])\n",
        "    # print(y_pred[split_idx['test']['paper']])\n",
        "\n",
        "    score = f1_score(data.y[split_idx['test']['paper']].cpu(), \n",
        "                     y_pred[split_idx['test']['paper']].cpu(), \n",
        "                     average='micro')\n",
        "\n",
        "    return train_acc, valid_acc, test_acc, score"
      ]
    },
    {
      "cell_type": "markdown",
      "metadata": {
        "id": "RZ4xizKdQoEu"
      },
      "source": [
        "## Sage graph model result"
      ]
    },
    {
      "cell_type": "code",
      "execution_count": 14,
      "metadata": {
        "colab": {
          "base_uri": "https://localhost:8080/"
        },
        "id": "P0HBdduWclV9",
        "outputId": "a65df0f2-4c24-4fda-c48e-4f4540a5b730"
      },
      "outputs": [
        {
          "output_type": "stream",
          "name": "stdout",
          "text": [
            "mem = aloc: 0.0 all: 0.0\n"
          ]
        }
      ],
      "source": [
        "print('mem =', 'aloc:', torch.cuda.memory_allocated(0)/1024/1024/1024, 'all:', torch.cuda.memory_reserved(0)/1024/1024/1024)"
      ]
    },
    {
      "cell_type": "code",
      "execution_count": 17,
      "metadata": {
        "colab": {
          "base_uri": "https://localhost:8080/"
        },
        "id": "OLVE8HlZoF4I",
        "outputId": "fa4f4ada-23db-430f-f582-bdc4d0e61cb1"
      },
      "outputs": [
        {
          "output_type": "stream",
          "name": "stdout",
          "text": [
            "Data(x=[736389, 128], edge_index=[2, 5416271], y=[736389, 1])\n"
          ]
        }
      ],
      "source": [
        "rel_data = dataset[0]\n",
        "\n",
        "# We are only interested in paper <-> paper relations.\n",
        "data = Data(\n",
        "    x=rel_data.x_dict['paper'],\n",
        "    edge_index=rel_data.edge_index_dict[('paper', 'cites', 'paper')],\n",
        "    y=rel_data.y_dict['paper'])\n",
        "    # y=new_y)\n",
        "\n",
        "print(data)\n",
        "\n",
        "data = T.ToSparseTensor()(data)\n",
        "data.adj_t = data.adj_t.to_symmetric()\n",
        "\n",
        "split_idx = dataset.get_idx_split()\n",
        "train_idx = split_idx['train']['paper'].to(device)\n",
        "\n",
        "which_model = 0\n",
        "\n",
        "# Sage model\n",
        "if which_model == 0:\n",
        "    model = SAGE(data.num_features, hidden_channels,\n",
        "                  num_classes, num_layers,\n",
        "                  dropout).to(device)\n",
        "# GCN model\n",
        "else:\n",
        "    model = GCN(data.num_features, hidden_channels,\n",
        "                num_classes, num_layers,\n",
        "                dropout).to(device)\n",
        "\n",
        "    # Pre-compute GCN normalization.\n",
        "    adj_t = data.adj_t.set_diag()\n",
        "    deg = adj_t.sum(dim=1).to(torch.float)\n",
        "    deg_inv_sqrt = deg.pow(-0.5)\n",
        "    deg_inv_sqrt[deg_inv_sqrt == float('inf')] = 0\n",
        "    adj_t = deg_inv_sqrt.view(-1, 1) * adj_t * deg_inv_sqrt.view(1, -1)\n",
        "    data.adj_t = adj_t"
      ]
    },
    {
      "cell_type": "code",
      "execution_count": 18,
      "metadata": {
        "colab": {
          "base_uri": "https://localhost:8080/"
        },
        "id": "xGoarr7HrppC",
        "outputId": "5189b118-543f-4156-fa75-831a9c3b2321"
      },
      "outputs": [
        {
          "output_type": "stream",
          "name": "stdout",
          "text": [
            "Run: 0 ####################################################################################################\n",
            "Run: 01, Epoch: 00, Loss: 6.7062, Train: 4.59%, Valid: 3.29% Test: 3.35% F1-Score: 3.35%\n",
            "Stats(time=1.150097900390625, max_allocated_cuda=7895.96, max_reserved_cuda=8356.0, max_active_cuda=7895.96, nvidia_smi_free_cuda=1689.13, nvidia_smi_used_cuda=14152.65)\n",
            "Run: 01, Epoch: 20, Loss: 3.5278, Train: 20.99%, Valid: 21.02% Test: 22.85% F1-Score: 22.85%\n",
            "Stats(time=1.1304151611328126, max_allocated_cuda=7901.48, max_reserved_cuda=8358.0, max_active_cuda=7901.48, nvidia_smi_free_cuda=1689.13, nvidia_smi_used_cuda=14152.65)\n",
            "Run: 01, Epoch: 40, Loss: 3.0785, Train: 26.10%, Valid: 25.76% Test: 27.27% F1-Score: 27.27%\n",
            "Stats(time=1.259049072265625, max_allocated_cuda=7901.48, max_reserved_cuda=8358.0, max_active_cuda=7901.48, nvidia_smi_free_cuda=1689.13, nvidia_smi_used_cuda=14152.65)\n",
            "Run: 01, Epoch: 60, Loss: 2.9150, Train: 28.12%, Valid: 28.19% Test: 29.35% F1-Score: 29.35%\n",
            "Stats(time=1.20804541015625, max_allocated_cuda=7901.48, max_reserved_cuda=8358.0, max_active_cuda=7901.48, nvidia_smi_free_cuda=1689.13, nvidia_smi_used_cuda=14152.65)\n",
            "Run: 01, Epoch: 80, Loss: 2.8234, Train: 29.37%, Valid: 29.16% Test: 30.23% F1-Score: 30.23%\n",
            "Stats(time=1.2321156005859375, max_allocated_cuda=7901.48, max_reserved_cuda=8358.0, max_active_cuda=7901.48, nvidia_smi_free_cuda=1689.13, nvidia_smi_used_cuda=14152.65)\n",
            "Run: 01, Epoch: 100, Loss: 2.7637, Train: 30.28%, Valid: 30.00% Test: 31.08% F1-Score: 31.08%\n",
            "Stats(time=1.2177252197265624, max_allocated_cuda=7901.48, max_reserved_cuda=8358.0, max_active_cuda=7901.48, nvidia_smi_free_cuda=1689.13, nvidia_smi_used_cuda=14152.65)\n",
            "Run: 01, Epoch: 120, Loss: 2.7230, Train: 30.94%, Valid: 30.62% Test: 31.63% F1-Score: 31.63%\n",
            "Stats(time=1.2436971435546875, max_allocated_cuda=7901.48, max_reserved_cuda=8358.0, max_active_cuda=7901.48, nvidia_smi_free_cuda=1689.13, nvidia_smi_used_cuda=14152.65)\n",
            "Run: 01, Epoch: 140, Loss: 2.6910, Train: 31.44%, Valid: 31.00% Test: 32.07% F1-Score: 32.07%\n",
            "Stats(time=1.2217769775390626, max_allocated_cuda=7901.48, max_reserved_cuda=8358.0, max_active_cuda=7901.48, nvidia_smi_free_cuda=1689.13, nvidia_smi_used_cuda=14152.65)\n",
            "Run: 01, Epoch: 160, Loss: 2.6661, Train: 31.91%, Valid: 31.46% Test: 32.43% F1-Score: 32.43%\n",
            "Stats(time=1.2303690185546876, max_allocated_cuda=7901.48, max_reserved_cuda=8358.0, max_active_cuda=7901.48, nvidia_smi_free_cuda=1689.13, nvidia_smi_used_cuda=14152.65)\n",
            "Run: 01, Epoch: 180, Loss: 2.6457, Train: 32.25%, Valid: 31.81% Test: 32.75% F1-Score: 32.75%\n",
            "Stats(time=1.22181201171875, max_allocated_cuda=7901.48, max_reserved_cuda=8358.0, max_active_cuda=7901.48, nvidia_smi_free_cuda=1689.13, nvidia_smi_used_cuda=14152.65)\n",
            "Run: 01, Epoch: 200, Loss: 2.6276, Train: 32.60%, Valid: 31.98% Test: 32.91% F1-Score: 32.91%\n",
            "Stats(time=1.2227042236328125, max_allocated_cuda=7901.48, max_reserved_cuda=8358.0, max_active_cuda=7901.48, nvidia_smi_free_cuda=1689.13, nvidia_smi_used_cuda=14152.65)\n",
            "Training time: 392.8833293914795s\n"
          ]
        }
      ],
      "source": [
        "data = data.to(device)\n",
        "\n",
        "evaluator = Evaluator(name='ogbn-mag')\n",
        "loss_list = []\n",
        "train_acc_list = []\n",
        "val_acc_list = []\n",
        "test_acc_list = []\n",
        "\n",
        "for run in range(runs):\n",
        "  print(\"Run:\", run, '#'*100)\n",
        "  model.reset_parameters()\n",
        "  optimizer = torch.optim.Adam(model.parameters(), lr=lr)\n",
        "  start = time.time()\n",
        "  for epoch in range(0, 201):\n",
        "    loss, stats = train(model, data, train_idx, optimizer)\n",
        "    result = test(model, data, split_idx, evaluator)\n",
        "    loss_list.append(loss)\n",
        "    train_acc, valid_acc, test_acc, test_f1 = result\n",
        "    train_acc_list.append(train_acc)\n",
        "    val_acc_list.append(valid_acc)\n",
        "    test_acc_list.append(test_acc)\n",
        "    if epoch % 20 == 0:\n",
        "      print(f'Run: {run + 1:02d}, '\n",
        "                  f'Epoch: {epoch:02d}, '\n",
        "                  f'Loss: {loss:.4f}, '\n",
        "                  f'Train: {100 * train_acc:.2f}%, '\n",
        "                  f'Valid: {100 * valid_acc:.2f}% '\n",
        "                  f'Test: {100 * test_acc:.2f}% '\n",
        "                  f'F1-Score: {100 * test_f1:.2f}%')\n",
        "      print(stats)\n",
        "  stop = time.time()\n",
        "  print(f\"Training time: {stop - start}s\")\n"
      ]
    },
    {
      "cell_type": "code",
      "execution_count": 19,
      "metadata": {
        "colab": {
          "base_uri": "https://localhost:8080/",
          "height": 388
        },
        "id": "4l8SVpbyRlzM",
        "outputId": "6bdb0467-1a76-4475-d245-ecf9194cded8"
      },
      "outputs": [
        {
          "output_type": "display_data",
          "data": {
            "text/plain": [
              "<Figure size 1008x432 with 2 Axes>"
            ],
            "image/png": "[encoded data removed]"
          },
          "metadata": {
            "needs_background": "light"
          }
        }
      ],
      "source": [
        "#\n",
        "plt.figure(figsize=(14, 6))\n",
        "#\n",
        "plt.subplot(121)\n",
        "plt.plot(loss_list)\n",
        "plt.xlabel('epoch')\n",
        "plt.ylabel('loss')\n",
        "#\n",
        "plt.subplot(122)\n",
        "plt.plot(train_acc_list, label='Train')\n",
        "plt.plot(val_acc_list, label='Valid')\n",
        "plt.plot(test_acc_list, label='Test')\n",
        "plt.xlabel('epoch')\n",
        "plt.ylabel('accuracy')\n",
        "#\n",
        "plt.legend()\n",
        "plt.show()"
      ]
    },
    {
      "cell_type": "markdown",
      "metadata": {
        "id": "73AEkP4SQvRK"
      },
      "source": [
        "## GCN model result"
      ]
    },
    {
      "cell_type": "code",
      "execution_count": null,
      "metadata": {
        "colab": {
          "base_uri": "https://localhost:8080/"
        },
        "id": "M6jPWn-JcxGl",
        "outputId": "685f6be0-c2b4-49e9-85de-1b30707fa99b"
      },
      "outputs": [
        {
          "name": "stdout",
          "output_type": "stream",
          "text": [
            "mem = aloc: 0.6798944473266602 all: 12.53125\n"
          ]
        }
      ],
      "source": [
        "print('mem =', 'aloc:', torch.cuda.memory_allocated(0)/1024/1024/1024, 'all:', torch.cuda.memory_reserved(0)/1024/1024/1024)"
      ]
    },
    {
      "cell_type": "code",
      "execution_count": null,
      "metadata": {
        "colab": {
          "base_uri": "https://localhost:8080/"
        },
        "id": "FrXqH7Rbx_4c",
        "outputId": "6c116595-fc4d-41f7-b18b-86ffb3d2eb66"
      },
      "outputs": [
        {
          "name": "stdout",
          "output_type": "stream",
          "text": [
            "Data(x=[736389, 128], edge_index=[2, 5416271], y=[736389, 1])\n"
          ]
        }
      ],
      "source": [
        "rel_data = dataset[0]\n",
        "\n",
        "data = Data(\n",
        "    x=rel_data.x_dict['paper'],\n",
        "    edge_index=rel_data.edge_index_dict[('paper', 'cites', 'paper')],\n",
        "    # y=rel_data.y_dict['paper'])\n",
        "    y=new_y)\n",
        "\n",
        "print(data)\n",
        "\n",
        "num_classes = len(temp_set)\n",
        "\n",
        "data = T.ToSparseTensor()(data)\n",
        "data.adj_t = data.adj_t.to_symmetric()\n",
        "\n",
        "split_idx = dataset.get_idx_split()\n",
        "train_idx = split_idx['train']['paper'].to(device)\n",
        "\n",
        "which_model = 1\n",
        "\n",
        "# Sage model\n",
        "if which_model == 0:\n",
        "    model = SAGE(data.num_features, hidden_channels,\n",
        "                  num_classes, num_layers,\n",
        "                  dropout).to(device)\n",
        "# GCN model\n",
        "else:\n",
        "    model = GCN(data.num_features, 128,\n",
        "                num_classes, num_layers,\n",
        "                dropout).to(device)\n",
        "\n",
        "    # Pre-compute GCN normalization.\n",
        "    adj_t = data.adj_t.set_diag()\n",
        "    deg = adj_t.sum(dim=1).to(torch.float)\n",
        "    deg_inv_sqrt = deg.pow(-0.5)\n",
        "    deg_inv_sqrt[deg_inv_sqrt == float('inf')] = 0\n",
        "    adj_t = deg_inv_sqrt.view(-1, 1) * adj_t * deg_inv_sqrt.view(1, -1)\n",
        "    data.adj_t = adj_t"
      ]
    },
    {
      "cell_type": "code",
      "execution_count": null,
      "metadata": {
        "colab": {
          "base_uri": "https://localhost:8080/"
        },
        "id": "IG5VRtreQ21w",
        "outputId": "a97c68f3-c038-4c5b-8396-4ccdb43cf882"
      },
      "outputs": [
        {
          "name": "stdout",
          "output_type": "stream",
          "text": [
            "Run: 0 ####################################################################################################\n",
            "Run: 01, Epoch: 00, Loss: 6.7018, Train: 38.84%, Valid: 30.38% Test: 32.27% F1-Score: 32.27%\n",
            "Stats(time=1.3770419921875, max_allocated_cuda=8700.64, max_reserved_cuda=9074.0, max_active_cuda=8700.64, nvidia_smi_free_cuda=948.89, nvidia_smi_used_cuda=14892.89)\n",
            "Run: 01, Epoch: 20, Loss: 2.2167, Train: 52.43%, Valid: 45.02% Test: 45.29% F1-Score: 45.29%\n",
            "Stats(time=1.3010291748046876, max_allocated_cuda=8702.03, max_reserved_cuda=8992.0, max_active_cuda=8702.03, nvidia_smi_free_cuda=760.16, nvidia_smi_used_cuda=15081.62)\n",
            "Run: 01, Epoch: 40, Loss: 1.5989, Train: 62.86%, Valid: 57.92% Test: 58.16% F1-Score: 58.16%\n",
            "Stats(time=1.26175390625, max_allocated_cuda=8702.03, max_reserved_cuda=8992.0, max_active_cuda=8702.03, nvidia_smi_free_cuda=760.16, nvidia_smi_used_cuda=15081.62)\n",
            "Run: 01, Epoch: 60, Loss: 1.3811, Train: 66.38%, Valid: 61.06% Test: 61.06% F1-Score: 61.06%\n",
            "Stats(time=1.3159833984375, max_allocated_cuda=8702.03, max_reserved_cuda=8992.0, max_active_cuda=8702.03, nvidia_smi_free_cuda=760.16, nvidia_smi_used_cuda=15081.62)\n",
            "Run: 01, Epoch: 80, Loss: 1.2895, Train: 67.54%, Valid: 61.95% Test: 61.86% F1-Score: 61.86%\n",
            "Stats(time=1.3188399658203125, max_allocated_cuda=8702.03, max_reserved_cuda=8992.0, max_active_cuda=8702.03, nvidia_smi_free_cuda=760.16, nvidia_smi_used_cuda=15081.62)\n",
            "Run: 01, Epoch: 100, Loss: 1.2404, Train: 68.18%, Valid: 62.50% Test: 62.52% F1-Score: 62.52%\n",
            "Stats(time=1.26237890625, max_allocated_cuda=8702.03, max_reserved_cuda=8992.0, max_active_cuda=8702.03, nvidia_smi_free_cuda=760.16, nvidia_smi_used_cuda=15081.62)\n",
            "Run: 01, Epoch: 120, Loss: 1.2091, Train: 68.54%, Valid: 62.75% Test: 62.75% F1-Score: 62.75%\n",
            "Stats(time=1.3093028564453124, max_allocated_cuda=8702.03, max_reserved_cuda=8992.0, max_active_cuda=8702.03, nvidia_smi_free_cuda=760.16, nvidia_smi_used_cuda=15081.62)\n",
            "Run: 01, Epoch: 140, Loss: 1.1858, Train: 68.80%, Valid: 63.02% Test: 63.10% F1-Score: 63.10%\n",
            "Stats(time=1.265591552734375, max_allocated_cuda=8702.03, max_reserved_cuda=8992.0, max_active_cuda=8702.03, nvidia_smi_free_cuda=760.16, nvidia_smi_used_cuda=15081.62)\n",
            "Run: 01, Epoch: 160, Loss: 1.1689, Train: 69.01%, Valid: 63.17% Test: 63.11% F1-Score: 63.11%\n",
            "Stats(time=1.2588365478515624, max_allocated_cuda=8702.03, max_reserved_cuda=8992.0, max_active_cuda=8702.03, nvidia_smi_free_cuda=760.16, nvidia_smi_used_cuda=15081.62)\n",
            "Run: 01, Epoch: 180, Loss: 1.1537, Train: 69.18%, Valid: 63.29% Test: 63.21% F1-Score: 63.21%\n",
            "Stats(time=1.313676025390625, max_allocated_cuda=8702.03, max_reserved_cuda=8992.0, max_active_cuda=8702.03, nvidia_smi_free_cuda=760.16, nvidia_smi_used_cuda=15081.62)\n",
            "Run: 01, Epoch: 200, Loss: 1.1425, Train: 69.28%, Valid: 63.36% Test: 63.23% F1-Score: 63.23%\n",
            "Stats(time=1.3072398681640625, max_allocated_cuda=8702.03, max_reserved_cuda=8992.0, max_active_cuda=8702.03, nvidia_smi_free_cuda=760.16, nvidia_smi_used_cuda=15081.62)\n",
            "Training time: 422.76872301101685s\n"
          ]
        }
      ],
      "source": [
        "data = data.to(device)\n",
        "\n",
        "evaluator = Evaluator(name='ogbn-mag')\n",
        "loss_list = []\n",
        "train_acc_list = []\n",
        "val_acc_list = []\n",
        "test_acc_list = []\n",
        "\n",
        "for run in range(runs):\n",
        "  print(\"Run:\", run, '#'*100)\n",
        "  model.reset_parameters()\n",
        "  optimizer = torch.optim.Adam(model.parameters(), lr=lr)\n",
        "  start = time.time()\n",
        "  for epoch in range(0, epochs):\n",
        "    loss, stats = train(model, data, train_idx, optimizer)\n",
        "    result = test(model, data, split_idx, evaluator)\n",
        "    train_acc, valid_acc, test_acc, test_f1 = result\n",
        "    loss_list.append(loss)\n",
        "    train_acc_list.append(train_acc)\n",
        "    val_acc_list.append(valid_acc)\n",
        "    test_acc_list.append(test_acc)\n",
        "    if epoch % 20 == 0:\n",
        "      print(f'Run: {run + 1:02d}, '\n",
        "                  f'Epoch: {epoch:02d}, '\n",
        "                  f'Loss: {loss:.4f}, '\n",
        "                  f'Train: {100 * train_acc:.2f}%, '\n",
        "                  f'Valid: {100 * valid_acc:.2f}% '\n",
        "                  f'Test: {100 * test_acc:.2f}% '\n",
        "                  f'F1-Score: {100 * test_f1:.2f}%')\n",
        "      print(stats)\n",
        "  stop = time.time()\n",
        "  print(f\"Training time: {stop - start}s\")"
      ]
    },
    {
      "cell_type": "code",
      "execution_count": null,
      "metadata": {
        "colab": {
          "base_uri": "https://localhost:8080/",
          "height": 388
        },
        "id": "VEZOyCC_RAMY",
        "outputId": "611451cf-d953-4ca9-9483-31de672d28e7"
      },
      "outputs": [
        {
          "data": {
            "image/png": "[encoded data removed]",
            "text/plain": [
              "<Figure size 1008x432 with 2 Axes>"
            ]
          },
          "metadata": {},
          "output_type": "display_data"
        }
      ],
      "source": [
        "#\n",
        "plt.figure(figsize=(14, 6))\n",
        "#\n",
        "plt.subplot(121)\n",
        "plt.plot(loss_list)\n",
        "plt.xlabel('epoch')\n",
        "plt.ylabel('loss')\n",
        "#\n",
        "plt.subplot(122)\n",
        "plt.plot(train_acc_list, label='Train')\n",
        "plt.plot(val_acc_list, label='Valid')\n",
        "plt.plot(test_acc_list, label='Test')\n",
        "plt.xlabel('epoch')\n",
        "plt.ylabel('accuracy')\n",
        "#\n",
        "plt.legend()\n",
        "plt.show()"
      ]
    },
    {
      "cell_type": "markdown",
      "metadata": {
        "id": "gGGNaSznld38"
      },
      "source": [
        "## RGCN model result"
      ]
    },
    {
      "cell_type": "code",
      "execution_count": 20,
      "metadata": {
        "colab": {
          "base_uri": "https://localhost:8080/"
        },
        "id": "vYlDsCn9e0Yj",
        "outputId": "8bd5e24a-c508-4fec-e27f-bce7f1cc53e0"
      },
      "outputs": [
        {
          "output_type": "stream",
          "name": "stdout",
          "text": [
            "mem = aloc: 0.538823127746582 all: 12.369140625 max_res: 12.369140625\n"
          ]
        }
      ],
      "source": [
        "print('mem =', 'aloc:', torch.cuda.memory_allocated(0)/1024/1024/1024, 'all:', torch.cuda.memory_reserved(0)/1024/1024/1024, 'max_res:', torch.cuda.max_memory_reserved(0)/1024/1024/1024)"
      ]
    },
    {
      "cell_type": "code",
      "execution_count": 26,
      "metadata": {
        "id": "lE3Vgy_blhXB"
      },
      "outputs": [],
      "source": [
        "class RGCNConv(torch.nn.Module):\n",
        "    def __init__(self, in_channels, out_channels, node_types, edge_types):\n",
        "        super(RGCNConv, self).__init__()\n",
        "\n",
        "        self.in_channels = in_channels\n",
        "        self.out_channels = out_channels\n",
        "\n",
        "        # `ModuleDict` does not allow tuples :(\n",
        "        self.rel_lins = ModuleDict({\n",
        "            f'{key[0]}_{key[1]}_{key[2]}': Linear(in_channels, out_channels,\n",
        "                                                  bias=False)\n",
        "            for key in edge_types\n",
        "        })\n",
        "\n",
        "        self.root_lins = ModuleDict({\n",
        "            key: Linear(in_channels, out_channels, bias=True)\n",
        "            for key in node_types\n",
        "        })\n",
        "\n",
        "        self.reset_parameters()\n",
        "\n",
        "    def reset_parameters(self):\n",
        "        for lin in self.rel_lins.values():\n",
        "            lin.reset_parameters()\n",
        "        for lin in self.root_lins.values():\n",
        "            lin.reset_parameters()\n",
        "\n",
        "    def forward(self, x_dict, adj_t_dict):\n",
        "        out_dict = {}\n",
        "        for key, x in x_dict.items():\n",
        "            out_dict[key] = self.root_lins[key](x)\n",
        "\n",
        "        for key, adj_t in adj_t_dict.items():\n",
        "            key_str = f'{key[0]}_{key[1]}_{key[2]}'\n",
        "            x = x_dict[key[0]]\n",
        "            out = self.rel_lins[key_str](adj_t.matmul(x, reduce='mean'))\n",
        "            out_dict[key[2]].add_(out)\n",
        "\n",
        "        return out_dict\n",
        "\n",
        "\n",
        "class RGCN(torch.nn.Module):\n",
        "    def __init__(self, in_channels, hidden_channels, out_channels, num_layers,\n",
        "                 dropout, num_nodes_dict, x_types, edge_types):\n",
        "        super(RGCN, self).__init__()\n",
        "\n",
        "        node_types = list(num_nodes_dict.keys())\n",
        "\n",
        "        self.embs = ParameterDict({\n",
        "            key: Parameter(torch.Tensor(num_nodes_dict[key], in_channels))\n",
        "            for key in set(node_types).difference(set(x_types))\n",
        "        })\n",
        "\n",
        "        self.convs = ModuleList()\n",
        "        self.convs.append(\n",
        "            RGCNConv(in_channels, hidden_channels, node_types, edge_types))\n",
        "        for _ in range(num_layers - 2):\n",
        "            self.convs.append(\n",
        "                RGCNConv(hidden_channels, hidden_channels, node_types,\n",
        "                         edge_types))\n",
        "        self.convs.append(\n",
        "            RGCNConv(hidden_channels, out_channels, node_types, edge_types))\n",
        "\n",
        "        self.dropout = dropout\n",
        "\n",
        "        self.reset_parameters()\n",
        "\n",
        "    def reset_parameters(self):\n",
        "        for emb in self.embs.values():\n",
        "            torch.nn.init.xavier_uniform_(emb)\n",
        "        for conv in self.convs:\n",
        "            conv.reset_parameters()\n",
        "\n",
        "    def forward(self, x_dict, adj_t_dict):\n",
        "        x_dict = copy(x_dict)\n",
        "        for key, emb in self.embs.items():\n",
        "            x_dict[key] = emb\n",
        "\n",
        "        for conv in self.convs[:-1]:\n",
        "            x_dict = conv(x_dict, adj_t_dict)\n",
        "            for key, x in x_dict.items():\n",
        "                x_dict[key] = F.relu(x)\n",
        "                x_dict[key] = F.dropout(x, p=self.dropout,\n",
        "                                        training=self.training)\n",
        "        return self.convs[-1](x_dict, adj_t_dict)"
      ]
    },
    {
      "cell_type": "code",
      "execution_count": 27,
      "metadata": {
        "id": "4a17FeeVrT7N"
      },
      "outputs": [],
      "source": [
        "@profileit()\n",
        "def train(model, x_dict, adj_t_dict, y_true, train_idx, optimizer):\n",
        "    model.train()\n",
        "\n",
        "    optimizer.zero_grad()\n",
        "    out = model(x_dict, adj_t_dict)['paper'].log_softmax(dim=-1)\n",
        "    loss = F.nll_loss(out[train_idx], y_true[train_idx].squeeze())\n",
        "    loss.backward()\n",
        "    optimizer.step()\n",
        "\n",
        "    return loss.item()\n",
        "\n",
        "\n",
        "@torch.no_grad()\n",
        "def test(model, x_dict, adj_t_dict, y_true, split_idx, evaluator):\n",
        "    model.eval()\n",
        "\n",
        "    out = model(x_dict, adj_t_dict)['paper']\n",
        "    y_pred = out.argmax(dim=-1, keepdim=True)\n",
        "\n",
        "    train_acc = evaluator.eval({\n",
        "        'y_true': y_true[split_idx['train']['paper']],\n",
        "        'y_pred': y_pred[split_idx['train']['paper']],\n",
        "    })['acc']\n",
        "    valid_acc = evaluator.eval({\n",
        "        'y_true': y_true[split_idx['valid']['paper']],\n",
        "        'y_pred': y_pred[split_idx['valid']['paper']],\n",
        "    })['acc']\n",
        "    test_acc = evaluator.eval({\n",
        "        'y_true': y_true[split_idx['test']['paper']],\n",
        "        'y_pred': y_pred[split_idx['test']['paper']],\n",
        "    })['acc']\n",
        "\n",
        "    return train_acc, valid_acc, test_acc"
      ]
    },
    {
      "cell_type": "code",
      "execution_count": 28,
      "metadata": {
        "id": "nswxREyaxPA1",
        "colab": {
          "base_uri": "https://localhost:8080/"
        },
        "outputId": "deb7392f-82bb-4ebc-ea39-6da90988a37d"
      },
      "outputs": [
        {
          "output_type": "stream",
          "name": "stdout",
          "text": [
            "Data(\n",
            "  num_nodes_dict={\n",
            "    author=1134649,\n",
            "    field_of_study=59965,\n",
            "    institution=8740,\n",
            "    paper=736389\n",
            "  },\n",
            "  edge_index_dict={\n",
            "    (author, affiliated_with, institution)=[2, 1043998],\n",
            "    (author, writes, paper)=[2, 7145660],\n",
            "    (paper, cites, paper)=[2, 5416271],\n",
            "    (paper, has_topic, field_of_study)=[2, 7505078]\n",
            "  },\n",
            "  x_dict={ paper=[736389, 128] },\n",
            "  y_dict={ paper=[736389, 1] }\n",
            ")\n",
            "\n",
            "Data(\n",
            "  num_nodes_dict={\n",
            "    author=1134649,\n",
            "    field_of_study=59965,\n",
            "    institution=8740,\n",
            "    paper=736389\n",
            "  },\n",
            "  x_dict={ paper=[736389, 128] },\n",
            "  y_dict={ paper=[736389, 1] },\n",
            "  adj_t_dict={\n",
            "    (author, affiliated_with, institution)=[8740, 1134649, nnz=1043998],\n",
            "    (institution, to, author)=[1134649, 8740, nnz=1043998],\n",
            "    (author, writes, paper)=[736389, 1134649, nnz=7145660],\n",
            "    (paper, to, author)=[1134649, 736389, nnz=7145660],\n",
            "    (paper, cites, paper)=[736389, 736389, nnz=10792672],\n",
            "    (paper, has_topic, field_of_study)=[59965, 736389, nnz=7505078],\n",
            "    (field_of_study, to, paper)=[736389, 59965, nnz=7505078]\n",
            "  }\n",
            ")\n"
          ]
        }
      ],
      "source": [
        "split_idx = dataset.get_idx_split()\n",
        "data = dataset[0]\n",
        "data.y_dict['paper'] = new_y\n",
        "\n",
        "# We do not consider those attributes for now.\n",
        "data.node_year = None\n",
        "data.edge_reltype = None\n",
        "# data.num_nodes_dict['field_of_study'] = None\n",
        "# t_key = 'paper', 'has_topic', 'field_of_study'\n",
        "# data.edge_index_dict[t_key] = None\n",
        "print(data)\n",
        "\n",
        "epochs = 100\n",
        "device = torch.device('cuda' if torch.cuda.is_available() else 'cpu')\n",
        "# Convert to new transposed `SparseTensor` format and add reverse edges.\n",
        "data.adj_t_dict = {}\n",
        "for keys, (row, col) in data.edge_index_dict.items():\n",
        "    sizes = (data.num_nodes_dict[keys[0]], data.num_nodes_dict[keys[2]])\n",
        "    adj = SparseTensor(row=row, col=col, sparse_sizes=sizes)\n",
        "    # adj = SparseTensor(row=row, col=col)[:sizes[0], :sizes[1]] # TEST\n",
        "    if keys[0] != keys[2]:\n",
        "        data.adj_t_dict[keys] = adj.t()\n",
        "        data.adj_t_dict[(keys[2], 'to', keys[0])] = adj\n",
        "    else:\n",
        "        data.adj_t_dict[keys] = adj.to_symmetric()\n",
        "data.edge_index_dict = None\n",
        "print()\n",
        "print(data)"
      ]
    },
    {
      "cell_type": "code",
      "execution_count": 29,
      "metadata": {
        "id": "A63HkJlK3ydW",
        "colab": {
          "base_uri": "https://localhost:8080/"
        },
        "outputId": "e0687685-b77a-4fa3-8333-c8e3bdfcb467"
      },
      "outputs": [
        {
          "output_type": "stream",
          "name": "stdout",
          "text": [
            "mem = aloc: 1.8059477806091309 all: 2.0546875 max_res: 2.0546875\n"
          ]
        }
      ],
      "source": [
        "print('mem =', 'aloc:', torch.cuda.memory_allocated(0)/1024/1024/1024, 'all:', torch.cuda.memory_reserved(0)/1024/1024/1024, 'max_res:', torch.cuda.max_memory_reserved(0)/1024/1024/1024)"
      ]
    },
    {
      "cell_type": "code",
      "execution_count": 30,
      "metadata": {
        "id": "8voSSAbhomDW",
        "colab": {
          "base_uri": "https://localhost:8080/",
          "height": 0
        },
        "outputId": "1e83e239-9e03-413c-ae34-26be14649f9e"
      },
      "outputs": [
        {
          "output_type": "stream",
          "name": "stdout",
          "text": [
            "Run: 0 ####################################################################################################\n"
          ]
        },
        {
          "output_type": "error",
          "ename": "RuntimeError",
          "evalue": "ignored",
          "traceback": [
            "\u001b[0;31m---------------------------------------------------------------------------\u001b[0m",
            "\u001b[0;31mRuntimeError\u001b[0m                              Traceback (most recent call last)",
            "\u001b[0;32m<ipython-input-30-c21c98e14b03>\u001b[0m in \u001b[0;36m<module>\u001b[0;34m\u001b[0m\n\u001b[1;32m     27\u001b[0m     \u001b[0;32mfor\u001b[0m \u001b[0mepoch\u001b[0m \u001b[0;32min\u001b[0m \u001b[0mrange\u001b[0m\u001b[0;34m(\u001b[0m\u001b[0;36m0\u001b[0m\u001b[0;34m,\u001b[0m \u001b[0mepochs\u001b[0m\u001b[0;34m)\u001b[0m\u001b[0;34m:\u001b[0m\u001b[0;34m\u001b[0m\u001b[0;34m\u001b[0m\u001b[0m\n\u001b[1;32m     28\u001b[0m         loss, stats = train(model, data.x_dict, data.adj_t_dict,\n\u001b[0;32m---> 29\u001b[0;31m                         data.y_dict['paper'], train_idx, optimizer)\n\u001b[0m\u001b[1;32m     30\u001b[0m         result = test(model, data.x_dict, data.adj_t_dict,\n\u001b[1;32m     31\u001b[0m                         data.y_dict['paper'], split_idx, evaluator)\n",
            "\u001b[0;32m/usr/local/lib/python3.7/dist-packages/torch_geometric/profile/profile.py\u001b[0m in \u001b[0;36mwrapper\u001b[0;34m(*args, **kwargs)\u001b[0m\n\u001b[1;32m     69\u001b[0m             \u001b[0mstart\u001b[0m\u001b[0;34m.\u001b[0m\u001b[0mrecord\u001b[0m\u001b[0;34m(\u001b[0m\u001b[0;34m)\u001b[0m\u001b[0;34m\u001b[0m\u001b[0;34m\u001b[0m\u001b[0m\n\u001b[1;32m     70\u001b[0m \u001b[0;34m\u001b[0m\u001b[0m\n\u001b[0;32m---> 71\u001b[0;31m             \u001b[0mout\u001b[0m \u001b[0;34m=\u001b[0m \u001b[0mfunc\u001b[0m\u001b[0;34m(\u001b[0m\u001b[0;34m*\u001b[0m\u001b[0margs\u001b[0m\u001b[0;34m,\u001b[0m \u001b[0;34m**\u001b[0m\u001b[0mkwargs\u001b[0m\u001b[0;34m)\u001b[0m\u001b[0;34m\u001b[0m\u001b[0;34m\u001b[0m\u001b[0m\n\u001b[0m\u001b[1;32m     72\u001b[0m \u001b[0;34m\u001b[0m\u001b[0m\n\u001b[1;32m     73\u001b[0m             \u001b[0mend\u001b[0m\u001b[0;34m.\u001b[0m\u001b[0mrecord\u001b[0m\u001b[0;34m(\u001b[0m\u001b[0;34m)\u001b[0m\u001b[0;34m\u001b[0m\u001b[0;34m\u001b[0m\u001b[0m\n",
            "\u001b[0;32m<ipython-input-27-ed5a42b113bf>\u001b[0m in \u001b[0;36mtrain\u001b[0;34m(model, x_dict, adj_t_dict, y_true, train_idx, optimizer)\u001b[0m\n\u001b[1;32m      4\u001b[0m \u001b[0;34m\u001b[0m\u001b[0m\n\u001b[1;32m      5\u001b[0m     \u001b[0moptimizer\u001b[0m\u001b[0;34m.\u001b[0m\u001b[0mzero_grad\u001b[0m\u001b[0;34m(\u001b[0m\u001b[0;34m)\u001b[0m\u001b[0;34m\u001b[0m\u001b[0;34m\u001b[0m\u001b[0m\n\u001b[0;32m----> 6\u001b[0;31m     \u001b[0mout\u001b[0m \u001b[0;34m=\u001b[0m \u001b[0mmodel\u001b[0m\u001b[0;34m(\u001b[0m\u001b[0mx_dict\u001b[0m\u001b[0;34m,\u001b[0m \u001b[0madj_t_dict\u001b[0m\u001b[0;34m)\u001b[0m\u001b[0;34m[\u001b[0m\u001b[0;34m'paper'\u001b[0m\u001b[0;34m]\u001b[0m\u001b[0;34m.\u001b[0m\u001b[0mlog_softmax\u001b[0m\u001b[0;34m(\u001b[0m\u001b[0mdim\u001b[0m\u001b[0;34m=\u001b[0m\u001b[0;34m-\u001b[0m\u001b[0;36m1\u001b[0m\u001b[0;34m)\u001b[0m\u001b[0;34m\u001b[0m\u001b[0;34m\u001b[0m\u001b[0m\n\u001b[0m\u001b[1;32m      7\u001b[0m     \u001b[0mloss\u001b[0m \u001b[0;34m=\u001b[0m \u001b[0mF\u001b[0m\u001b[0;34m.\u001b[0m\u001b[0mnll_loss\u001b[0m\u001b[0;34m(\u001b[0m\u001b[0mout\u001b[0m\u001b[0;34m[\u001b[0m\u001b[0mtrain_idx\u001b[0m\u001b[0;34m]\u001b[0m\u001b[0;34m,\u001b[0m \u001b[0my_true\u001b[0m\u001b[0;34m[\u001b[0m\u001b[0mtrain_idx\u001b[0m\u001b[0;34m]\u001b[0m\u001b[0;34m.\u001b[0m\u001b[0msqueeze\u001b[0m\u001b[0;34m(\u001b[0m\u001b[0;34m)\u001b[0m\u001b[0;34m)\u001b[0m\u001b[0;34m\u001b[0m\u001b[0;34m\u001b[0m\u001b[0m\n\u001b[1;32m      8\u001b[0m     \u001b[0mloss\u001b[0m\u001b[0;34m.\u001b[0m\u001b[0mbackward\u001b[0m\u001b[0;34m(\u001b[0m\u001b[0;34m)\u001b[0m\u001b[0;34m\u001b[0m\u001b[0;34m\u001b[0m\u001b[0m\n",
            "\u001b[0;32m/usr/local/lib/python3.7/dist-packages/torch/nn/modules/module.py\u001b[0m in \u001b[0;36m_call_impl\u001b[0;34m(self, *input, **kwargs)\u001b[0m\n\u001b[1;32m   1128\u001b[0m         if not (self._backward_hooks or self._forward_hooks or self._forward_pre_hooks or _global_backward_hooks\n\u001b[1;32m   1129\u001b[0m                 or _global_forward_hooks or _global_forward_pre_hooks):\n\u001b[0;32m-> 1130\u001b[0;31m             \u001b[0;32mreturn\u001b[0m \u001b[0mforward_call\u001b[0m\u001b[0;34m(\u001b[0m\u001b[0;34m*\u001b[0m\u001b[0minput\u001b[0m\u001b[0;34m,\u001b[0m \u001b[0;34m**\u001b[0m\u001b[0mkwargs\u001b[0m\u001b[0;34m)\u001b[0m\u001b[0;34m\u001b[0m\u001b[0;34m\u001b[0m\u001b[0m\n\u001b[0m\u001b[1;32m   1131\u001b[0m         \u001b[0;31m# Do not call functions when jit is used\u001b[0m\u001b[0;34m\u001b[0m\u001b[0;34m\u001b[0m\u001b[0;34m\u001b[0m\u001b[0m\n\u001b[1;32m   1132\u001b[0m         \u001b[0mfull_backward_hooks\u001b[0m\u001b[0;34m,\u001b[0m \u001b[0mnon_full_backward_hooks\u001b[0m \u001b[0;34m=\u001b[0m \u001b[0;34m[\u001b[0m\u001b[0;34m]\u001b[0m\u001b[0;34m,\u001b[0m \u001b[0;34m[\u001b[0m\u001b[0;34m]\u001b[0m\u001b[0;34m\u001b[0m\u001b[0;34m\u001b[0m\u001b[0m\n",
            "\u001b[0;32m<ipython-input-26-b8dd657aadfc>\u001b[0m in \u001b[0;36mforward\u001b[0;34m(self, x_dict, adj_t_dict)\u001b[0m\n\u001b[1;32m     83\u001b[0m                 x_dict[key] = F.dropout(x, p=self.dropout,\n\u001b[1;32m     84\u001b[0m                                         training=self.training)\n\u001b[0;32m---> 85\u001b[0;31m         \u001b[0;32mreturn\u001b[0m \u001b[0mself\u001b[0m\u001b[0;34m.\u001b[0m\u001b[0mconvs\u001b[0m\u001b[0;34m[\u001b[0m\u001b[0;34m-\u001b[0m\u001b[0;36m1\u001b[0m\u001b[0;34m]\u001b[0m\u001b[0;34m(\u001b[0m\u001b[0mx_dict\u001b[0m\u001b[0;34m,\u001b[0m \u001b[0madj_t_dict\u001b[0m\u001b[0;34m)\u001b[0m\u001b[0;34m\u001b[0m\u001b[0;34m\u001b[0m\u001b[0m\n\u001b[0m",
            "\u001b[0;32m/usr/local/lib/python3.7/dist-packages/torch/nn/modules/module.py\u001b[0m in \u001b[0;36m_call_impl\u001b[0;34m(self, *input, **kwargs)\u001b[0m\n\u001b[1;32m   1128\u001b[0m         if not (self._backward_hooks or self._forward_hooks or self._forward_pre_hooks or _global_backward_hooks\n\u001b[1;32m   1129\u001b[0m                 or _global_forward_hooks or _global_forward_pre_hooks):\n\u001b[0;32m-> 1130\u001b[0;31m             \u001b[0;32mreturn\u001b[0m \u001b[0mforward_call\u001b[0m\u001b[0;34m(\u001b[0m\u001b[0;34m*\u001b[0m\u001b[0minput\u001b[0m\u001b[0;34m,\u001b[0m \u001b[0;34m**\u001b[0m\u001b[0mkwargs\u001b[0m\u001b[0;34m)\u001b[0m\u001b[0;34m\u001b[0m\u001b[0;34m\u001b[0m\u001b[0m\n\u001b[0m\u001b[1;32m   1131\u001b[0m         \u001b[0;31m# Do not call functions when jit is used\u001b[0m\u001b[0;34m\u001b[0m\u001b[0;34m\u001b[0m\u001b[0;34m\u001b[0m\u001b[0m\n\u001b[1;32m   1132\u001b[0m         \u001b[0mfull_backward_hooks\u001b[0m\u001b[0;34m,\u001b[0m \u001b[0mnon_full_backward_hooks\u001b[0m \u001b[0;34m=\u001b[0m \u001b[0;34m[\u001b[0m\u001b[0;34m]\u001b[0m\u001b[0;34m,\u001b[0m \u001b[0;34m[\u001b[0m\u001b[0;34m]\u001b[0m\u001b[0;34m\u001b[0m\u001b[0;34m\u001b[0m\u001b[0m\n",
            "\u001b[0;32m<ipython-input-26-b8dd657aadfc>\u001b[0m in \u001b[0;36mforward\u001b[0;34m(self, x_dict, adj_t_dict)\u001b[0m\n\u001b[1;32m     34\u001b[0m             \u001b[0mkey_str\u001b[0m \u001b[0;34m=\u001b[0m \u001b[0;34mf'{key[0]}_{key[1]}_{key[2]}'\u001b[0m\u001b[0;34m\u001b[0m\u001b[0;34m\u001b[0m\u001b[0m\n\u001b[1;32m     35\u001b[0m             \u001b[0mx\u001b[0m \u001b[0;34m=\u001b[0m \u001b[0mx_dict\u001b[0m\u001b[0;34m[\u001b[0m\u001b[0mkey\u001b[0m\u001b[0;34m[\u001b[0m\u001b[0;36m0\u001b[0m\u001b[0;34m]\u001b[0m\u001b[0;34m]\u001b[0m\u001b[0;34m\u001b[0m\u001b[0;34m\u001b[0m\u001b[0m\n\u001b[0;32m---> 36\u001b[0;31m             \u001b[0mout\u001b[0m \u001b[0;34m=\u001b[0m \u001b[0mself\u001b[0m\u001b[0;34m.\u001b[0m\u001b[0mrel_lins\u001b[0m\u001b[0;34m[\u001b[0m\u001b[0mkey_str\u001b[0m\u001b[0;34m]\u001b[0m\u001b[0;34m(\u001b[0m\u001b[0madj_t\u001b[0m\u001b[0;34m.\u001b[0m\u001b[0mmatmul\u001b[0m\u001b[0;34m(\u001b[0m\u001b[0mx\u001b[0m\u001b[0;34m,\u001b[0m \u001b[0mreduce\u001b[0m\u001b[0;34m=\u001b[0m\u001b[0;34m'mean'\u001b[0m\u001b[0;34m)\u001b[0m\u001b[0;34m)\u001b[0m\u001b[0;34m\u001b[0m\u001b[0;34m\u001b[0m\u001b[0m\n\u001b[0m\u001b[1;32m     37\u001b[0m             \u001b[0mout_dict\u001b[0m\u001b[0;34m[\u001b[0m\u001b[0mkey\u001b[0m\u001b[0;34m[\u001b[0m\u001b[0;36m2\u001b[0m\u001b[0;34m]\u001b[0m\u001b[0;34m]\u001b[0m\u001b[0;34m.\u001b[0m\u001b[0madd_\u001b[0m\u001b[0;34m(\u001b[0m\u001b[0mout\u001b[0m\u001b[0;34m)\u001b[0m\u001b[0;34m\u001b[0m\u001b[0;34m\u001b[0m\u001b[0m\n\u001b[1;32m     38\u001b[0m \u001b[0;34m\u001b[0m\u001b[0m\n",
            "\u001b[0;32m/usr/local/lib/python3.7/dist-packages/torch/nn/modules/module.py\u001b[0m in \u001b[0;36m_call_impl\u001b[0;34m(self, *input, **kwargs)\u001b[0m\n\u001b[1;32m   1128\u001b[0m         if not (self._backward_hooks or self._forward_hooks or self._forward_pre_hooks or _global_backward_hooks\n\u001b[1;32m   1129\u001b[0m                 or _global_forward_hooks or _global_forward_pre_hooks):\n\u001b[0;32m-> 1130\u001b[0;31m             \u001b[0;32mreturn\u001b[0m \u001b[0mforward_call\u001b[0m\u001b[0;34m(\u001b[0m\u001b[0;34m*\u001b[0m\u001b[0minput\u001b[0m\u001b[0;34m,\u001b[0m \u001b[0;34m**\u001b[0m\u001b[0mkwargs\u001b[0m\u001b[0;34m)\u001b[0m\u001b[0;34m\u001b[0m\u001b[0;34m\u001b[0m\u001b[0m\n\u001b[0m\u001b[1;32m   1131\u001b[0m         \u001b[0;31m# Do not call functions when jit is used\u001b[0m\u001b[0;34m\u001b[0m\u001b[0;34m\u001b[0m\u001b[0;34m\u001b[0m\u001b[0m\n\u001b[1;32m   1132\u001b[0m         \u001b[0mfull_backward_hooks\u001b[0m\u001b[0;34m,\u001b[0m \u001b[0mnon_full_backward_hooks\u001b[0m \u001b[0;34m=\u001b[0m \u001b[0;34m[\u001b[0m\u001b[0;34m]\u001b[0m\u001b[0;34m,\u001b[0m \u001b[0;34m[\u001b[0m\u001b[0;34m]\u001b[0m\u001b[0;34m\u001b[0m\u001b[0;34m\u001b[0m\u001b[0m\n",
            "\u001b[0;32m/usr/local/lib/python3.7/dist-packages/torch/nn/modules/linear.py\u001b[0m in \u001b[0;36mforward\u001b[0;34m(self, input)\u001b[0m\n\u001b[1;32m    112\u001b[0m \u001b[0;34m\u001b[0m\u001b[0m\n\u001b[1;32m    113\u001b[0m     \u001b[0;32mdef\u001b[0m \u001b[0mforward\u001b[0m\u001b[0;34m(\u001b[0m\u001b[0mself\u001b[0m\u001b[0;34m,\u001b[0m \u001b[0minput\u001b[0m\u001b[0;34m:\u001b[0m \u001b[0mTensor\u001b[0m\u001b[0;34m)\u001b[0m \u001b[0;34m->\u001b[0m \u001b[0mTensor\u001b[0m\u001b[0;34m:\u001b[0m\u001b[0;34m\u001b[0m\u001b[0;34m\u001b[0m\u001b[0m\n\u001b[0;32m--> 114\u001b[0;31m         \u001b[0;32mreturn\u001b[0m \u001b[0mF\u001b[0m\u001b[0;34m.\u001b[0m\u001b[0mlinear\u001b[0m\u001b[0;34m(\u001b[0m\u001b[0minput\u001b[0m\u001b[0;34m,\u001b[0m \u001b[0mself\u001b[0m\u001b[0;34m.\u001b[0m\u001b[0mweight\u001b[0m\u001b[0;34m,\u001b[0m \u001b[0mself\u001b[0m\u001b[0;34m.\u001b[0m\u001b[0mbias\u001b[0m\u001b[0;34m)\u001b[0m\u001b[0;34m\u001b[0m\u001b[0;34m\u001b[0m\u001b[0m\n\u001b[0m\u001b[1;32m    115\u001b[0m \u001b[0;34m\u001b[0m\u001b[0m\n\u001b[1;32m    116\u001b[0m     \u001b[0;32mdef\u001b[0m \u001b[0mextra_repr\u001b[0m\u001b[0;34m(\u001b[0m\u001b[0mself\u001b[0m\u001b[0;34m)\u001b[0m \u001b[0;34m->\u001b[0m \u001b[0mstr\u001b[0m\u001b[0;34m:\u001b[0m\u001b[0;34m\u001b[0m\u001b[0;34m\u001b[0m\u001b[0m\n",
            "\u001b[0;31mRuntimeError\u001b[0m: CUDA out of memory. Tried to allocate 3.43 GiB (GPU 0; 14.76 GiB total capacity; 11.82 GiB already allocated; 2.02 GiB free; 11.92 GiB reserved in total by PyTorch) If reserved memory is >> allocated memory try setting max_split_size_mb to avoid fragmentation.  See documentation for Memory Management and PYTORCH_CUDA_ALLOC_CONF"
          ]
        }
      ],
      "source": [
        "x_types = list(data.x_dict.keys())\n",
        "edge_types = list(data.adj_t_dict.keys())\n",
        "\n",
        "# model = RGCN(data.x_dict['paper'].size(-1), 64,\n",
        "#                 dataset.num_classes, num_layers, dropout,\n",
        "#                 data.num_nodes_dict, x_types, edge_types)\n",
        "\n",
        "model = RGCN(data.x_dict['paper'].size(-1), 2,\n",
        "                num_classes, num_layers, dropout,\n",
        "                data.num_nodes_dict, x_types, edge_types)\n",
        "\n",
        "data = data.to(device)\n",
        "model = model.to(device)\n",
        "train_idx = split_idx['train']['paper'].to(device)\n",
        "\n",
        "evaluator = Evaluator(name='ogbn-mag')\n",
        "\n",
        "loss_list = []\n",
        "train_acc_list = []\n",
        "val_acc_list = []\n",
        "test_acc_list = []\n",
        "\n",
        "for run in range(runs):\n",
        "    print(\"Run:\", run, '#'*100)\n",
        "    model.reset_parameters()\n",
        "    optimizer = torch.optim.Adam(model.parameters(), lr=lr)\n",
        "    for epoch in range(0, epochs):\n",
        "        loss, stats = train(model, data.x_dict, data.adj_t_dict,\n",
        "                        data.y_dict['paper'], train_idx, optimizer)\n",
        "        result = test(model, data.x_dict, data.adj_t_dict,\n",
        "                        data.y_dict['paper'], split_idx, evaluator)\n",
        "        train_acc, valid_acc, test_acc = result\n",
        "        loss_list.append(loss)\n",
        "        train_acc_list.append(train_acc)\n",
        "        val_acc_list.append(valid_acc)\n",
        "        test_acc_list.append(test_acc)\n",
        "        if epoch % 5 == 0:\n",
        "            print(f'Run: {run + 1:02d}, '\n",
        "                        f'Epoch: {epoch:02d}, '\n",
        "                        f'Loss: {loss:.4f}, '\n",
        "                        f'Train: {100 * train_acc:.2f}%, '\n",
        "                        f'Valid: {100 * valid_acc:.2f}% '\n",
        "                        f'Test: {100 * test_acc:.2f}% ')\n",
        "            print(stats)\n",
        "        "
      ]
    },
    {
      "cell_type": "code",
      "execution_count": 31,
      "metadata": {
        "id": "cAsU1nu5gy4m",
        "colab": {
          "base_uri": "https://localhost:8080/"
        },
        "outputId": "d1a3cb64-a4ca-4444-e562-98987da883ed"
      },
      "outputs": [
        {
          "output_type": "stream",
          "name": "stdout",
          "text": [
            "mem = aloc: 11.824731349945068 all: 11.923828125 max_res: 11.923828125\n"
          ]
        }
      ],
      "source": [
        "print('mem =', 'aloc:', torch.cuda.memory_allocated(0)/1024/1024/1024, 'all:', torch.cuda.memory_reserved(0)/1024/1024/1024, 'max_res:', torch.cuda.max_memory_reserved(0)/1024/1024/1024)"
      ]
    },
    {
      "cell_type": "code",
      "execution_count": null,
      "metadata": {
        "id": "k76yONWZv56B"
      },
      "outputs": [],
      "source": [
        "# visualizing the loss and the train/val/test accuracies.\n",
        "plt.figure(figsize=(14, 6))\n",
        "#\n",
        "plt.subplot(121)\n",
        "plt.plot(loss_list)\n",
        "plt.xlabel('epoch')\n",
        "plt.ylabel('loss')\n",
        "#\n",
        "plt.subplot(122)\n",
        "plt.plot(train_acc_list, label='Train')\n",
        "plt.plot(val_acc_list, label='Valid')\n",
        "plt.plot(test_acc_list, label='Test')\n",
        "plt.xlabel('epoch')\n",
        "plt.ylabel('accuracy')\n",
        "#\n",
        "plt.legend()\n",
        "plt.show()"
      ]
    },
    {
      "cell_type": "markdown",
      "metadata": {
        "id": "YQAmgnbLlTsA"
      },
      "source": [
        "## GRAPHSAINT model result"
      ]
    },
    {
      "cell_type": "code",
      "execution_count": null,
      "metadata": {
        "id": "tx_8k68KEnR2"
      },
      "outputs": [],
      "source": [
        "device = f'cuda' if torch.cuda.is_available() else 'cpu'"
      ]
    },
    {
      "cell_type": "code",
      "execution_count": 14,
      "metadata": {
        "colab": {
          "base_uri": "https://localhost:8080/"
        },
        "id": "de2sTbu5lbVJ",
        "outputId": "cf1c6a79-12a4-40bd-a996-55fde36ecde3"
      },
      "outputs": [
        {
          "output_type": "stream",
          "name": "stdout",
          "text": [
            "##################################################\n",
            "Data(edge_index=[2, 42182144], edge_attr=[42182144], node_type=[1939743], local_node_idx=[1939743], num_nodes=1939743)\n"
          ]
        }
      ],
      "source": [
        "data = dataset[0]\n",
        "split_idx = dataset.get_idx_split()\n",
        "evaluator = Evaluator(name='ogbn-mag')\n",
        "\n",
        "# We do not consider those attributes for now.\n",
        "data.node_year_dict = None\n",
        "data.edge_reltype_dict = None\n",
        "\n",
        "# print(data)\n",
        "\n",
        "edge_index_dict = data.edge_index_dict\n",
        "\n",
        "# We need to add reverse edges to the heterogeneous graph.\n",
        "r, c = edge_index_dict[('author', 'affiliated_with', 'institution')]\n",
        "edge_index_dict[('institution', 'to', 'author')] = torch.stack([c, r])\n",
        "\n",
        "r, c = edge_index_dict[('author', 'writes', 'paper')]\n",
        "edge_index_dict[('paper', 'to', 'author')] = torch.stack([c, r])\n",
        "\n",
        "r, c = edge_index_dict[('paper', 'has_topic', 'field_of_study')]\n",
        "edge_index_dict[('field_of_study', 'to', 'paper')] = torch.stack([c, r])\n",
        "\n",
        "# Convert to undirected paper <-> paper relation.\n",
        "edge_index = to_undirected(edge_index_dict[('paper', 'cites', 'paper')])\n",
        "edge_index_dict[('paper', 'cites', 'paper')] = edge_index\n",
        "\n",
        "# We convert the individual graphs into a single big one, so that sampling\n",
        "# neighbors does not need to care about different edge types.\n",
        "# This will return the following:\n",
        "# * `edge_index`: The new global edge connectivity.\n",
        "# * `edge_type`: The edge type for each edge.\n",
        "# * `node_type`: The node type for each node.\n",
        "# * `local_node_idx`: The original index for each node.\n",
        "# * `local2global`: A dictionary mapping original (local) node indices of\n",
        "#    type `key` to global ones.\n",
        "# `key2int`: A dictionary that maps original keys to their new canonical type.\n",
        "out = group_hetero_graph(data.edge_index_dict, data.num_nodes_dict)\n",
        "edge_index, edge_type, node_type, local_node_idx, local2global, key2int = out\n",
        "\n",
        "homo_data = Data(edge_index=edge_index, edge_attr=edge_type,\n",
        "                 node_type=node_type, local_node_idx=local_node_idx,\n",
        "                 num_nodes=node_type.size(0))\n",
        "print('#'*50)\n",
        "print(homo_data)"
      ]
    },
    {
      "cell_type": "code",
      "execution_count": 15,
      "metadata": {
        "colab": {
          "base_uri": "https://localhost:8080/"
        },
        "id": "-I8VjkfRC6Co",
        "outputId": "0bf41a75-11a5-4063-ac4e-138e1700200e"
      },
      "outputs": [
        {
          "output_type": "stream",
          "name": "stdout",
          "text": [
            "Data(edge_index=[2, 42182144], edge_attr=[42182144], node_type=[1939743], local_node_idx=[1939743], num_nodes=1939743, y=[1939743, 1], train_mask=[1939743])\n"
          ]
        }
      ],
      "source": [
        "homo_data.y = node_type.new_full((node_type.size(0), 1), -1)\n",
        "# homo_data.y[local2global['paper']] = data.y_dict['paper']\n",
        "homo_data.y[local2global['paper']] = new_y\n",
        "\n",
        "homo_data.train_mask = torch.zeros((node_type.size(0)), dtype=torch.bool)\n",
        "homo_data.train_mask[local2global['paper'][split_idx['train']['paper']]] = True\n",
        "\n",
        "print(homo_data)"
      ]
    },
    {
      "cell_type": "code",
      "execution_count": 16,
      "metadata": {
        "colab": {
          "base_uri": "https://localhost:8080/"
        },
        "id": "BQnYwj_HDHZ8",
        "outputId": "8adc8dac-30ab-43d4-d1ab-7d32c44c63f7"
      },
      "outputs": [
        {
          "output_type": "stream",
          "name": "stderr",
          "text": [
            "/usr/local/lib/python3.7/dist-packages/torch_geometric/deprecation.py:12: UserWarning: 'data.GraphSAINTRandomWalkSampler' is deprecated, use 'loader.GraphSAINTRandomWalkSampler' instead\n",
            "  warnings.warn(out)\n"
          ]
        }
      ],
      "source": [
        "train_loader = GraphSAINTRandomWalkSampler(homo_data,\n",
        "                                           batch_size=batch_size,\n",
        "                                           walk_length=num_layers,\n",
        "                                           num_steps=num_steps,\n",
        "                                           sample_coverage=0,\n",
        "                                           save_dir=dataset.processed_dir)\n",
        "\n",
        "# Map informations to their canonical type.\n",
        "x_dict = {}\n",
        "for key, x in data.x_dict.items():\n",
        "    x_dict[key2int[key]] = x\n",
        "\n",
        "num_nodes_dict = {}\n",
        "for key, N in data.num_nodes_dict.items():\n",
        "    num_nodes_dict[key2int[key]] = N"
      ]
    },
    {
      "cell_type": "code",
      "execution_count": 17,
      "metadata": {
        "id": "sDIiEFjDDNyP"
      },
      "outputs": [],
      "source": [
        "class RGCNConv(MessagePassing):\n",
        "    def __init__(self, in_channels, out_channels, num_node_types,\n",
        "                 num_edge_types):\n",
        "        super(RGCNConv, self).__init__(aggr='mean')\n",
        "\n",
        "        self.in_channels = in_channels\n",
        "        self.out_channels = out_channels\n",
        "        self.num_node_types = num_node_types\n",
        "        self.num_edge_types = num_edge_types\n",
        "\n",
        "        self.rel_lins = ModuleList([\n",
        "            Linear(in_channels, out_channels, bias=False)\n",
        "            for _ in range(num_edge_types)\n",
        "        ])\n",
        "\n",
        "        self.root_lins = ModuleList([\n",
        "            Linear(in_channels, out_channels, bias=True)\n",
        "            for _ in range(num_node_types)\n",
        "        ])\n",
        "\n",
        "        self.reset_parameters()\n",
        "\n",
        "    def reset_parameters(self):\n",
        "        for lin in self.rel_lins:\n",
        "            lin.reset_parameters()\n",
        "        for lin in self.root_lins:\n",
        "            lin.reset_parameters()\n",
        "\n",
        "    def forward(self, x, edge_index, edge_type, node_type):\n",
        "        out = x.new_zeros(x.size(0), self.out_channels)\n",
        "\n",
        "        for i in range(self.num_edge_types):\n",
        "            mask = edge_type == i\n",
        "            out.add_(self.propagate(edge_index[:, mask], x=x, edge_type=i))\n",
        "\n",
        "        for i in range(self.num_node_types):\n",
        "            mask = node_type == i\n",
        "            out[mask] += self.root_lins[i](x[mask])\n",
        "\n",
        "        return out\n",
        "\n",
        "    def message(self, x_j, edge_type: int):\n",
        "        return self.rel_lins[edge_type](x_j)\n",
        "\n",
        "\n",
        "class RGCN(torch.nn.Module):\n",
        "    def __init__(self, in_channels, hidden_channels, out_channels, num_layers,\n",
        "                 dropout, num_nodes_dict, x_types, num_edge_types):\n",
        "        super(RGCN, self).__init__()\n",
        "\n",
        "        self.in_channels = in_channels\n",
        "        self.hidden_channels = hidden_channels\n",
        "        self.out_channels = out_channels\n",
        "        self.num_layers = num_layers\n",
        "        self.dropout = dropout\n",
        "\n",
        "        node_types = list(num_nodes_dict.keys())\n",
        "        num_node_types = len(node_types)\n",
        "\n",
        "        self.num_node_types = num_node_types\n",
        "        self.num_edge_types = num_edge_types\n",
        "\n",
        "        # Create embeddings for all node types that do not come with features.\n",
        "        self.emb_dict = ParameterDict({\n",
        "            f'{key}': Parameter(torch.Tensor(num_nodes_dict[key], in_channels))\n",
        "            for key in set(node_types).difference(set(x_types))\n",
        "        })\n",
        "\n",
        "        I, H, O = in_channels, hidden_channels, out_channels  # noqa\n",
        "\n",
        "        # Create `num_layers` many message passing layers.\n",
        "        self.convs = ModuleList()\n",
        "        self.convs.append(RGCNConv(I, H, num_node_types, num_edge_types))\n",
        "        for _ in range(num_layers - 2):\n",
        "            self.convs.append(RGCNConv(H, H, num_node_types, num_edge_types))\n",
        "        self.convs.append(RGCNConv(H, O, self.num_node_types, num_edge_types))\n",
        "\n",
        "        self.reset_parameters()\n",
        "\n",
        "    def reset_parameters(self):\n",
        "        for emb in self.emb_dict.values():\n",
        "            torch.nn.init.xavier_uniform_(emb)\n",
        "        for conv in self.convs:\n",
        "            conv.reset_parameters()\n",
        "\n",
        "    def group_input(self, x_dict, node_type, local_node_idx):\n",
        "        # Create global node feature matrix.\n",
        "        h = torch.zeros((node_type.size(0), self.in_channels),\n",
        "                        device=node_type.device)\n",
        "\n",
        "        for key, x in x_dict.items():\n",
        "            mask = node_type == key\n",
        "            h[mask] = x[local_node_idx[mask]]\n",
        "\n",
        "        for key, emb in self.emb_dict.items():\n",
        "            mask = node_type == int(key)\n",
        "            h[mask] = emb[local_node_idx[mask]]\n",
        "\n",
        "        return h\n",
        "\n",
        "    def forward(self, x_dict, edge_index, edge_type, node_type,\n",
        "                local_node_idx):\n",
        "\n",
        "        x = self.group_input(x_dict, node_type, local_node_idx)\n",
        "\n",
        "        for i, conv in enumerate(self.convs):\n",
        "            x = conv(x, edge_index, edge_type, node_type)\n",
        "            if i != self.num_layers - 1:\n",
        "                x = F.relu(x)\n",
        "                x = F.dropout(x, p=0.5, training=self.training)\n",
        "\n",
        "        return x.log_softmax(dim=-1)\n",
        "\n",
        "    def inference(self, x_dict, edge_index_dict, key2int):\n",
        "        # We can perform full-batch inference on GPU.\n",
        "\n",
        "        device = list(x_dict.values())[0].device\n",
        "\n",
        "        x_dict = copy(x_dict)\n",
        "        for key, emb in self.emb_dict.items():\n",
        "            x_dict[int(key)] = emb\n",
        "\n",
        "        adj_t_dict = {}\n",
        "        for key, (row, col) in edge_index_dict.items():\n",
        "            adj_t_dict[key] = SparseTensor(row=col, col=row).to(device)\n",
        "\n",
        "        for i, conv in enumerate(self.convs):\n",
        "            out_dict = {}\n",
        "\n",
        "            for j, x in x_dict.items():\n",
        "                out_dict[j] = conv.root_lins[j](x)\n",
        "\n",
        "            for keys, adj_t in adj_t_dict.items():\n",
        "                src_key, target_key = keys[0], keys[-1]\n",
        "                out = out_dict[key2int[target_key]]\n",
        "                tmp = adj_t.matmul(x_dict[key2int[src_key]], reduce='mean')\n",
        "                out.add_(conv.rel_lins[key2int[keys]](tmp))\n",
        "\n",
        "            if i != self.num_layers - 1:\n",
        "                for j in range(self.num_node_types):\n",
        "                    F.relu_(out_dict[j])\n",
        "\n",
        "            x_dict = out_dict\n",
        "\n",
        "        return x_dict"
      ]
    },
    {
      "cell_type": "code",
      "execution_count": 18,
      "metadata": {
        "id": "JxySPKi9EFXD"
      },
      "outputs": [],
      "source": [
        "# model = RGCN(128, hidden_channels, dataset.num_classes, num_layers,\n",
        "#              dropout, num_nodes_dict, list(x_dict.keys()),\n",
        "#              len(edge_index_dict.keys())).to(device)\n",
        "\n",
        "model = RGCN(128, hidden_channels, num_classes, num_layers,\n",
        "             dropout, num_nodes_dict, list(x_dict.keys()),\n",
        "             len(edge_index_dict.keys())).to(device)\n",
        "\n",
        "x_dict = {k: v.to(device) for k, v in x_dict.items()}"
      ]
    },
    {
      "cell_type": "code",
      "execution_count": 19,
      "metadata": {
        "id": "b053cLvUE9Qs"
      },
      "outputs": [],
      "source": [
        "# @profileit()\n",
        "def train(epoch):\n",
        "    model.train()\n",
        "\n",
        "    pbar = tqdm(total=num_steps * batch_size)\n",
        "    pbar.set_description(f'Epoch {epoch:02d}')\n",
        "\n",
        "    total_loss = total_examples = 0\n",
        "    for data in train_loader:\n",
        "        data = data.to(device)\n",
        "        optimizer.zero_grad()\n",
        "        out = model(x_dict, data.edge_index, data.edge_attr, data.node_type,\n",
        "                    data.local_node_idx)\n",
        "        out = out[data.train_mask]\n",
        "        y = data.y[data.train_mask].squeeze()\n",
        "        loss = F.nll_loss(out, y)\n",
        "        loss.backward()\n",
        "        optimizer.step()\n",
        "\n",
        "        num_examples = data.train_mask.sum().item()\n",
        "        total_loss += loss.item() * num_examples\n",
        "        total_examples += num_examples\n",
        "        pbar.update(batch_size)\n",
        "\n",
        "    pbar.close()\n",
        "\n",
        "    return total_loss / total_examples\n",
        "\n",
        "@torch.no_grad()\n",
        "def test():\n",
        "    model.eval()\n",
        "\n",
        "    out = model.inference(x_dict, edge_index_dict, key2int)\n",
        "    model.inference()\n",
        "    out = out[key2int['paper']]\n",
        "\n",
        "    # train_acc, valid_acc, test_acc = 0, 0, 0\n",
        "\n",
        "    y_pred = out.argmax(dim=-1, keepdim=True).cpu()\n",
        "    y_true = data.y_dict['paper']\n",
        "\n",
        "    train_acc = evaluator.eval({\n",
        "        'y_true': y_true[split_idx['train']['paper']],\n",
        "        'y_pred': y_pred[split_idx['train']['paper']],\n",
        "    })['acc']\n",
        "    valid_acc = evaluator.eval({\n",
        "        'y_true': y_true[split_idx['valid']['paper']],\n",
        "        'y_pred': y_pred[split_idx['valid']['paper']],\n",
        "    })['acc']\n",
        "    test_acc = evaluator.eval({\n",
        "        'y_true': y_true[split_idx['test']['paper']],\n",
        "        'y_pred': y_pred[split_idx['test']['paper']],\n",
        "    })['acc']\n",
        "\n",
        "    return train_acc, valid_acc, test_acc"
      ]
    },
    {
      "cell_type": "code",
      "execution_count": 20,
      "metadata": {
        "colab": {
          "base_uri": "https://localhost:8080/",
          "height": 397
        },
        "id": "wjTS6kyDFS3R",
        "outputId": "272afe71-d25a-40db-c1a3-13b3747fe254"
      },
      "outputs": [
        {
          "output_type": "error",
          "ename": "RuntimeError",
          "evalue": "ignored",
          "traceback": [
            "\u001b[0;31m---------------------------------------------------------------------------\u001b[0m",
            "\u001b[0;31mRuntimeError\u001b[0m                              Traceback (most recent call last)",
            "\u001b[0;32m<ipython-input-20-fe08bb9d50c2>\u001b[0m in \u001b[0;36m<module>\u001b[0;34m\u001b[0m\n\u001b[1;32m      1\u001b[0m \u001b[0;31m# torch.cuda.empty_cache()\u001b[0m\u001b[0;34m\u001b[0m\u001b[0;34m\u001b[0m\u001b[0;34m\u001b[0m\u001b[0m\n\u001b[0;32m----> 2\u001b[0;31m \u001b[0mtest\u001b[0m\u001b[0;34m(\u001b[0m\u001b[0;34m)\u001b[0m  \u001b[0;31m# Test if inference on GPU succeeds.\u001b[0m\u001b[0;34m\u001b[0m\u001b[0;34m\u001b[0m\u001b[0m\n\u001b[0m\u001b[1;32m      3\u001b[0m \u001b[0mepochs\u001b[0m \u001b[0;34m=\u001b[0m \u001b[0;36m10\u001b[0m\u001b[0;34m\u001b[0m\u001b[0;34m\u001b[0m\u001b[0m\n\u001b[1;32m      4\u001b[0m \u001b[0;32mfor\u001b[0m \u001b[0mrun\u001b[0m \u001b[0;32min\u001b[0m \u001b[0mrange\u001b[0m\u001b[0;34m(\u001b[0m\u001b[0mruns\u001b[0m\u001b[0;34m)\u001b[0m\u001b[0;34m:\u001b[0m\u001b[0;34m\u001b[0m\u001b[0;34m\u001b[0m\u001b[0m\n\u001b[1;32m      5\u001b[0m     \u001b[0mprint\u001b[0m\u001b[0;34m(\u001b[0m\u001b[0;34m'#'\u001b[0m\u001b[0;34m*\u001b[0m\u001b[0;36m100\u001b[0m\u001b[0;34m)\u001b[0m\u001b[0;34m\u001b[0m\u001b[0;34m\u001b[0m\u001b[0m\n",
            "\u001b[0;32m/usr/local/lib/python3.7/dist-packages/torch/autograd/grad_mode.py\u001b[0m in \u001b[0;36mdecorate_context\u001b[0;34m(*args, **kwargs)\u001b[0m\n\u001b[1;32m     25\u001b[0m         \u001b[0;32mdef\u001b[0m \u001b[0mdecorate_context\u001b[0m\u001b[0;34m(\u001b[0m\u001b[0;34m*\u001b[0m\u001b[0margs\u001b[0m\u001b[0;34m,\u001b[0m \u001b[0;34m**\u001b[0m\u001b[0mkwargs\u001b[0m\u001b[0;34m)\u001b[0m\u001b[0;34m:\u001b[0m\u001b[0;34m\u001b[0m\u001b[0;34m\u001b[0m\u001b[0m\n\u001b[1;32m     26\u001b[0m             \u001b[0;32mwith\u001b[0m \u001b[0mself\u001b[0m\u001b[0;34m.\u001b[0m\u001b[0mclone\u001b[0m\u001b[0;34m(\u001b[0m\u001b[0;34m)\u001b[0m\u001b[0;34m:\u001b[0m\u001b[0;34m\u001b[0m\u001b[0;34m\u001b[0m\u001b[0m\n\u001b[0;32m---> 27\u001b[0;31m                 \u001b[0;32mreturn\u001b[0m \u001b[0mfunc\u001b[0m\u001b[0;34m(\u001b[0m\u001b[0;34m*\u001b[0m\u001b[0margs\u001b[0m\u001b[0;34m,\u001b[0m \u001b[0;34m**\u001b[0m\u001b[0mkwargs\u001b[0m\u001b[0;34m)\u001b[0m\u001b[0;34m\u001b[0m\u001b[0;34m\u001b[0m\u001b[0m\n\u001b[0m\u001b[1;32m     28\u001b[0m         \u001b[0;32mreturn\u001b[0m \u001b[0mcast\u001b[0m\u001b[0;34m(\u001b[0m\u001b[0mF\u001b[0m\u001b[0;34m,\u001b[0m \u001b[0mdecorate_context\u001b[0m\u001b[0;34m)\u001b[0m\u001b[0;34m\u001b[0m\u001b[0;34m\u001b[0m\u001b[0m\n\u001b[1;32m     29\u001b[0m \u001b[0;34m\u001b[0m\u001b[0m\n",
            "\u001b[0;32m<ipython-input-19-e673fde9418a>\u001b[0m in \u001b[0;36mtest\u001b[0;34m()\u001b[0m\n\u001b[1;32m     31\u001b[0m     \u001b[0mmodel\u001b[0m\u001b[0;34m.\u001b[0m\u001b[0meval\u001b[0m\u001b[0;34m(\u001b[0m\u001b[0;34m)\u001b[0m\u001b[0;34m\u001b[0m\u001b[0;34m\u001b[0m\u001b[0m\n\u001b[1;32m     32\u001b[0m \u001b[0;34m\u001b[0m\u001b[0m\n\u001b[0;32m---> 33\u001b[0;31m     \u001b[0mout\u001b[0m \u001b[0;34m=\u001b[0m \u001b[0mmodel\u001b[0m\u001b[0;34m.\u001b[0m\u001b[0minference\u001b[0m\u001b[0;34m(\u001b[0m\u001b[0mx_dict\u001b[0m\u001b[0;34m,\u001b[0m \u001b[0medge_index_dict\u001b[0m\u001b[0;34m,\u001b[0m \u001b[0mkey2int\u001b[0m\u001b[0;34m)\u001b[0m\u001b[0;34m\u001b[0m\u001b[0;34m\u001b[0m\u001b[0m\n\u001b[0m\u001b[1;32m     34\u001b[0m     \u001b[0mmodel\u001b[0m\u001b[0;34m.\u001b[0m\u001b[0minference\u001b[0m\u001b[0;34m(\u001b[0m\u001b[0;34m)\u001b[0m\u001b[0;34m\u001b[0m\u001b[0;34m\u001b[0m\u001b[0m\n\u001b[1;32m     35\u001b[0m     \u001b[0mout\u001b[0m \u001b[0;34m=\u001b[0m \u001b[0mout\u001b[0m\u001b[0;34m[\u001b[0m\u001b[0mkey2int\u001b[0m\u001b[0;34m[\u001b[0m\u001b[0;34m'paper'\u001b[0m\u001b[0;34m]\u001b[0m\u001b[0;34m]\u001b[0m\u001b[0;34m\u001b[0m\u001b[0;34m\u001b[0m\u001b[0m\n",
            "\u001b[0;32m<ipython-input-17-95d4236eb714>\u001b[0m in \u001b[0;36minference\u001b[0;34m(self, x_dict, edge_index_dict, key2int)\u001b[0m\n\u001b[1;32m    135\u001b[0m                 \u001b[0mout\u001b[0m \u001b[0;34m=\u001b[0m \u001b[0mout_dict\u001b[0m\u001b[0;34m[\u001b[0m\u001b[0mkey2int\u001b[0m\u001b[0;34m[\u001b[0m\u001b[0mtarget_key\u001b[0m\u001b[0;34m]\u001b[0m\u001b[0;34m]\u001b[0m\u001b[0;34m\u001b[0m\u001b[0;34m\u001b[0m\u001b[0m\n\u001b[1;32m    136\u001b[0m                 \u001b[0mtmp\u001b[0m \u001b[0;34m=\u001b[0m \u001b[0madj_t\u001b[0m\u001b[0;34m.\u001b[0m\u001b[0mmatmul\u001b[0m\u001b[0;34m(\u001b[0m\u001b[0mx_dict\u001b[0m\u001b[0;34m[\u001b[0m\u001b[0mkey2int\u001b[0m\u001b[0;34m[\u001b[0m\u001b[0msrc_key\u001b[0m\u001b[0;34m]\u001b[0m\u001b[0;34m]\u001b[0m\u001b[0;34m,\u001b[0m \u001b[0mreduce\u001b[0m\u001b[0;34m=\u001b[0m\u001b[0;34m'mean'\u001b[0m\u001b[0;34m)\u001b[0m\u001b[0;34m\u001b[0m\u001b[0;34m\u001b[0m\u001b[0m\n\u001b[0;32m--> 137\u001b[0;31m                 \u001b[0mout\u001b[0m\u001b[0;34m.\u001b[0m\u001b[0madd_\u001b[0m\u001b[0;34m(\u001b[0m\u001b[0mconv\u001b[0m\u001b[0;34m.\u001b[0m\u001b[0mrel_lins\u001b[0m\u001b[0;34m[\u001b[0m\u001b[0mkey2int\u001b[0m\u001b[0;34m[\u001b[0m\u001b[0mkeys\u001b[0m\u001b[0;34m]\u001b[0m\u001b[0;34m]\u001b[0m\u001b[0;34m(\u001b[0m\u001b[0mtmp\u001b[0m\u001b[0;34m)\u001b[0m\u001b[0;34m)\u001b[0m\u001b[0;34m\u001b[0m\u001b[0;34m\u001b[0m\u001b[0m\n\u001b[0m\u001b[1;32m    138\u001b[0m \u001b[0;34m\u001b[0m\u001b[0m\n\u001b[1;32m    139\u001b[0m             \u001b[0;32mif\u001b[0m \u001b[0mi\u001b[0m \u001b[0;34m!=\u001b[0m \u001b[0mself\u001b[0m\u001b[0;34m.\u001b[0m\u001b[0mnum_layers\u001b[0m \u001b[0;34m-\u001b[0m \u001b[0;36m1\u001b[0m\u001b[0;34m:\u001b[0m\u001b[0;34m\u001b[0m\u001b[0;34m\u001b[0m\u001b[0m\n",
            "\u001b[0;32m/usr/local/lib/python3.7/dist-packages/torch/nn/modules/module.py\u001b[0m in \u001b[0;36m_call_impl\u001b[0;34m(self, *input, **kwargs)\u001b[0m\n\u001b[1;32m   1128\u001b[0m         if not (self._backward_hooks or self._forward_hooks or self._forward_pre_hooks or _global_backward_hooks\n\u001b[1;32m   1129\u001b[0m                 or _global_forward_hooks or _global_forward_pre_hooks):\n\u001b[0;32m-> 1130\u001b[0;31m             \u001b[0;32mreturn\u001b[0m \u001b[0mforward_call\u001b[0m\u001b[0;34m(\u001b[0m\u001b[0;34m*\u001b[0m\u001b[0minput\u001b[0m\u001b[0;34m,\u001b[0m \u001b[0;34m**\u001b[0m\u001b[0mkwargs\u001b[0m\u001b[0;34m)\u001b[0m\u001b[0;34m\u001b[0m\u001b[0;34m\u001b[0m\u001b[0m\n\u001b[0m\u001b[1;32m   1131\u001b[0m         \u001b[0;31m# Do not call functions when jit is used\u001b[0m\u001b[0;34m\u001b[0m\u001b[0;34m\u001b[0m\u001b[0;34m\u001b[0m\u001b[0m\n\u001b[1;32m   1132\u001b[0m         \u001b[0mfull_backward_hooks\u001b[0m\u001b[0;34m,\u001b[0m \u001b[0mnon_full_backward_hooks\u001b[0m \u001b[0;34m=\u001b[0m \u001b[0;34m[\u001b[0m\u001b[0;34m]\u001b[0m\u001b[0;34m,\u001b[0m \u001b[0;34m[\u001b[0m\u001b[0;34m]\u001b[0m\u001b[0;34m\u001b[0m\u001b[0;34m\u001b[0m\u001b[0m\n",
            "\u001b[0;32m/usr/local/lib/python3.7/dist-packages/torch/nn/modules/linear.py\u001b[0m in \u001b[0;36mforward\u001b[0;34m(self, input)\u001b[0m\n\u001b[1;32m    112\u001b[0m \u001b[0;34m\u001b[0m\u001b[0m\n\u001b[1;32m    113\u001b[0m     \u001b[0;32mdef\u001b[0m \u001b[0mforward\u001b[0m\u001b[0;34m(\u001b[0m\u001b[0mself\u001b[0m\u001b[0;34m,\u001b[0m \u001b[0minput\u001b[0m\u001b[0;34m:\u001b[0m \u001b[0mTensor\u001b[0m\u001b[0;34m)\u001b[0m \u001b[0;34m->\u001b[0m \u001b[0mTensor\u001b[0m\u001b[0;34m:\u001b[0m\u001b[0;34m\u001b[0m\u001b[0;34m\u001b[0m\u001b[0m\n\u001b[0;32m--> 114\u001b[0;31m         \u001b[0;32mreturn\u001b[0m \u001b[0mF\u001b[0m\u001b[0;34m.\u001b[0m\u001b[0mlinear\u001b[0m\u001b[0;34m(\u001b[0m\u001b[0minput\u001b[0m\u001b[0;34m,\u001b[0m \u001b[0mself\u001b[0m\u001b[0;34m.\u001b[0m\u001b[0mweight\u001b[0m\u001b[0;34m,\u001b[0m \u001b[0mself\u001b[0m\u001b[0;34m.\u001b[0m\u001b[0mbias\u001b[0m\u001b[0;34m)\u001b[0m\u001b[0;34m\u001b[0m\u001b[0;34m\u001b[0m\u001b[0m\n\u001b[0m\u001b[1;32m    115\u001b[0m \u001b[0;34m\u001b[0m\u001b[0m\n\u001b[1;32m    116\u001b[0m     \u001b[0;32mdef\u001b[0m \u001b[0mextra_repr\u001b[0m\u001b[0;34m(\u001b[0m\u001b[0mself\u001b[0m\u001b[0;34m)\u001b[0m \u001b[0;34m->\u001b[0m \u001b[0mstr\u001b[0m\u001b[0;34m:\u001b[0m\u001b[0;34m\u001b[0m\u001b[0;34m\u001b[0m\u001b[0m\n",
            "\u001b[0;31mRuntimeError\u001b[0m: CUDA out of memory. Tried to allocate 2.23 GiB (GPU 0; 14.76 GiB total capacity; 10.18 GiB already allocated; 1.58 GiB free; 12.37 GiB reserved in total by PyTorch) If reserved memory is >> allocated memory try setting max_split_size_mb to avoid fragmentation.  See documentation for Memory Management and PYTORCH_CUDA_ALLOC_CONF"
          ]
        }
      ],
      "source": [
        "# torch.cuda.empty_cache()\n",
        "test()  # Test if inference on GPU succeeds.\n",
        "epochs = 10\n",
        "for run in range(runs):\n",
        "    print('#'*100)\n",
        "    model.reset_parameters()\n",
        "    optimizer = torch.optim.Adam(model.parameters(), lr=lr)\n",
        "    for epoch in range(0, 101):\n",
        "        # loss, stats = train(epoch)\n",
        "        loss = train(epoch)\n",
        "        # torch.cuda.empty_cache()\n",
        "        result = test()\n",
        "        train_acc, valid_acc, test_acc = result\n",
        "        if epoch % 10 == 0:\n",
        "            print(f'Run: {run + 1:02d}, '\n",
        "                f'Epoch: {epoch:02d}, '\n",
        "                f'Loss: {loss:.4f}, '\n",
        "                f'Train: {100 * train_acc:.2f}%, '\n",
        "                f'Valid: {100 * valid_acc:.2f}%, '\n",
        "                f'Test: {100 * test_acc:.2f}%')\n",
        "            # print(stats)"
      ]
    },
    {
      "cell_type": "code",
      "execution_count": null,
      "metadata": {
        "id": "ThP2aHwxGJba"
      },
      "outputs": [],
      "source": [
        "\n"
      ]
    }
  ],
  "metadata": {
    "accelerator": "GPU",
    "colab": {
      "collapsed_sections": [
        "4Ogqgug4_1hN",
        "aDbleer8iEKF",
        "W86pdGKfsCSI",
        "CVDDBd6tfKLZ",
        "73AEkP4SQvRK",
        "gGGNaSznld38"
      ],
      "provenance": [],
      "include_colab_link": true
    },
    "gpuClass": "standard",
    "kernelspec": {
      "display_name": "Python 3",
      "name": "python3"
    },
    "language_info": {
      "name": "python"
    }
  },
  "nbformat": 4,
  "nbformat_minor": 0
}