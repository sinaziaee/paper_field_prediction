{
  "cells": [
    {
      "cell_type": "markdown",
      "metadata": {
        "id": "view-in-github",
        "colab_type": "text"
      },
      "source": [
        "<a href=\"https://colab.research.google.com/github/sinaziaee/paper_field_prediction/blob/main/main.ipynb\" target=\"_parent\"><img src=\"https://colab.research.google.com/assets/colab-badge.svg\" alt=\"Open In Colab\"/></a>"
      ]
    },
    {
      "cell_type": "markdown",
      "source": [
        "# Loading modules and libraries"
      ],
      "metadata": {
        "id": "aDbleer8iEKF"
      }
    },
    {
      "cell_type": "code",
      "execution_count": 1,
      "metadata": {
        "colab": {
          "base_uri": "https://localhost:8080/"
        },
        "id": "0cwaXYxf-bXn",
        "outputId": "948db14d-be61-4ebd-aa5b-6bc3a5da9b67"
      },
      "outputs": [
        {
          "output_type": "stream",
          "name": "stdout",
          "text": [
            "PyTorch has version 1.12.1+cu113\n",
            "2.1.0\n",
            "Downloading http://snap.stanford.edu/ogb/data/nodeproppred/mag.zip\n"
          ]
        },
        {
          "output_type": "stream",
          "name": "stderr",
          "text": [
            "Downloaded 0.40 GB: 100%|██████████| 413/413 [00:08<00:00, 48.93it/s]\n"
          ]
        },
        {
          "output_type": "stream",
          "name": "stdout",
          "text": [
            "Extracting dataset/mag.zip\n"
          ]
        },
        {
          "output_type": "stream",
          "name": "stderr",
          "text": [
            "Processing...\n"
          ]
        },
        {
          "output_type": "stream",
          "name": "stdout",
          "text": [
            "Loading necessary files...\n",
            "This might take a while.\n",
            "Processing graphs...\n"
          ]
        },
        {
          "output_type": "stream",
          "name": "stderr",
          "text": [
            "100%|██████████| 1/1 [00:00<00:00, 3302.60it/s]\n"
          ]
        },
        {
          "output_type": "stream",
          "name": "stdout",
          "text": [
            "Converting graphs into PyG objects...\n"
          ]
        },
        {
          "output_type": "stream",
          "name": "stderr",
          "text": [
            "100%|██████████| 1/1 [00:00<00:00, 1639.68it/s]"
          ]
        },
        {
          "output_type": "stream",
          "name": "stdout",
          "text": [
            "Saving...\n"
          ]
        },
        {
          "output_type": "stream",
          "name": "stderr",
          "text": [
            "\n",
            "Done!\n"
          ]
        }
      ],
      "source": [
        "import torch\n",
        "from torch.nn import Parameter, ModuleDict, ModuleList, Linear, ParameterDict\n",
        "print(\"PyTorch has version {}\".format(torch.__version__))\n",
        "# Install torch geometric\n",
        "!pip install -q torch-scatter -f https://pytorch-geometric.com/whl/torch-1.12.0+cu113.html &> /dev/null\n",
        "!pip install -q torch-sparse -f https://pytorch-geometric.com/whl/torch-1.12.0+cu113.html &> /dev/null\n",
        "!pip install -q torch-geometric &> /dev/null\n",
        "!pip install ogb &> /dev/null\n",
        "!pip install matplotlib==3.1.3 &> /dev/null\n",
        "!pip install pytorch-memlab &> /dev/null\n",
        "\n",
        "##\n",
        "import torch_geometric\n",
        "print(torch_geometric.__version__)\n",
        "import numpy as np\n",
        "import pandas as pd\n",
        "import matplotlib.pyplot as plt\n",
        "# Dataset loader\n",
        "from ogb.nodeproppred import PygNodePropPredDataset, Evaluator\n",
        "dataset = PygNodePropPredDataset(name='ogbn-mag')\n",
        "from torch_geometric.profile.profile import profileit\n",
        "from torch_sparse import SparseTensor\n",
        "\n",
        "import warnings\n",
        "warnings.simplefilter(action='ignore', category=FutureWarning)\n",
        "\n",
        "import time\n",
        "import copy\n",
        "from tqdm import tqdm\n",
        "from copy import copy"
      ]
    },
    {
      "cell_type": "code",
      "source": [
        "# imporiting libraries\n",
        "import torch.nn.functional as F\n",
        "\n",
        "from torch_geometric.data import Data\n",
        "import torch_geometric.transforms as T\n",
        "from torch_geometric.nn import GCNConv, SAGEConv, RGCNConv\n",
        "from sklearn.metrics import f1_score\n",
        "\n",
        "from torch_geometric.utils import to_undirected\n",
        "from torch_geometric.data import Data, GraphSAINTRandomWalkSampler\n",
        "from torch_geometric.utils.hetero import group_hetero_graph\n",
        "from torch_geometric.nn import MessagePassing"
      ],
      "metadata": {
        "id": "cndMPgQCdoM9"
      },
      "execution_count": 2,
      "outputs": []
    },
    {
      "cell_type": "code",
      "source": [
        "# hyper parameters\n",
        "log_steps = 1\n",
        "num_layers = 2\n",
        "hidden_channels = 256\n",
        "dropout = 0.5\n",
        "lr = 0.01\n",
        "batch_size = 2000\n",
        "num_steps = 30\n",
        "walk_length = 2\n",
        "epochs = 101\n",
        "runs = 1\n",
        "device = f'cuda' if torch.cuda.is_available() else 'cpu'\n",
        "device = torch.device(device)"
      ],
      "metadata": {
        "id": "zv1uGJ0QnqWm"
      },
      "execution_count": 3,
      "outputs": []
    },
    {
      "cell_type": "code",
      "source": [
        "!pip install GPUtil &> /dev/null\n",
        "\n",
        "import torch\n",
        "from GPUtil import showUtilization as gpu_usage\n",
        "from numba import cuda\n",
        "\n",
        "def free_gpu_cache():\n",
        "    print(\"Initial GPU Usage\")\n",
        "    gpu_usage()                             \n",
        "\n",
        "    torch.cuda.empty_cache()\n",
        "\n",
        "    cuda.select_device(0)\n",
        "    cuda.close()\n",
        "    cuda.select_device(0)\n",
        "\n",
        "    print(\"GPU Usage after emptying the cache\")\n",
        "    gpu_usage()"
      ],
      "metadata": {
        "id": "PlabLZrYxZFd"
      },
      "execution_count": 4,
      "outputs": []
    },
    {
      "cell_type": "markdown",
      "source": [
        "# Preparing the dataset"
      ],
      "metadata": {
        "id": "W86pdGKfsCSI"
      }
    },
    {
      "cell_type": "code",
      "source": [
        "data = dataset[0]\n",
        "no_paper = data.num_nodes_dict['paper']\n",
        "no_study_fields = data.num_nodes_dict['field_of_study']\n",
        "m_key = 'paper', 'has_topic', 'field_of_study'\n",
        "no_paper_study_fields = data.edge_index_dict[m_key].shape[1]\n",
        "print('no paper:', no_paper)\n",
        "print('no study fields:', no_study_fields)\n",
        "print('no paper study fields:', no_paper_study_fields)"
      ],
      "metadata": {
        "colab": {
          "base_uri": "https://localhost:8080/"
        },
        "id": "pTwhUFrgvGBH",
        "outputId": "443c9e55-fcc9-4bcf-9a15-f7cec64a23e2"
      },
      "execution_count": 5,
      "outputs": [
        {
          "output_type": "stream",
          "name": "stdout",
          "text": [
            "no paper: 736389\n",
            "no study fields: 59965\n",
            "no paper study fields: 7505078\n"
          ]
        }
      ]
    },
    {
      "cell_type": "code",
      "execution_count": 6,
      "metadata": {
        "colab": {
          "base_uri": "https://localhost:8080/"
        },
        "id": "xezrtqQTQUH2",
        "outputId": "e74fddf7-48c1-4048-a4bf-91d914a8e291"
      },
      "outputs": [
        {
          "output_type": "stream",
          "name": "stdout",
          "text": [
            "[  145  2215  3205 ... 21458 22283 31934]\n",
            "number of papers for each study field:  [   7 1353  609 ...    2    1    1]\n",
            "16758\n",
            "[ 87464 129205  96621  86355  70668  67323 189963 736389  71231]\n",
            "field of study with the maximum number of papers:  14055\n"
          ]
        }
      ],
      "source": [
        "# selecting edges connected to field of studies\n",
        "study_fields = data.edge_index_dict[m_key][1].numpy()\n",
        "print(study_fields)\n",
        "study_fields = list(study_fields)\n",
        "study_fields_list = [0 for i in range(no_study_fields)]\n",
        "for each in study_fields:\n",
        "  study_fields_list[each] += 1\n",
        "# number of papers with each field of studies\n",
        "study_fields_list = np.array(study_fields_list)\n",
        "print('number of papers for each study field: ', study_fields_list)\n",
        "# creating a dictionary of papers and their corresponding fields of studies\n",
        "papers_dict = dict(zip([i for i in range(no_paper)], [[] for i in range(no_paper)]))\n",
        "for each in data.edge_index_dict[m_key].T.numpy():\n",
        "  paper = each[0]\n",
        "  field = each[1]\n",
        "  papers_dict[paper].append(field)\n",
        "\n",
        "print(study_fields_list[study_fields_list==1].shape[0])\n",
        "print(study_fields_list[study_fields_list>50000])\n",
        "print('field of study with the maximum number of papers: ', study_fields_list.argmax())\n",
        "field_of_study_with_max_papers = study_fields_list.argmax()"
      ]
    },
    {
      "cell_type": "markdown",
      "source": [
        "16758 fields of study are used only in one paper. Field of study \"14055\" is used in all papers. 3 papers only have 14055 as their only field of study.\n",
        "We will select the fields of study that are used in most number of papers. we will filter them based on fields that are used higher than 10000, 20000, ..., 50000 papers."
      ],
      "metadata": {
        "id": "7aNFtfigF8Mw"
      }
    },
    {
      "cell_type": "code",
      "execution_count": 7,
      "metadata": {
        "colab": {
          "base_uri": "https://localhost:8080/",
          "height": 549
        },
        "id": "YwlD97Y6XhPQ",
        "outputId": "f7f21ade-5131-419c-be3a-9caf2e4e51ce"
      },
      "outputs": [
        {
          "output_type": "display_data",
          "data": {
            "text/plain": [
              "<Figure size 432x576 with 1 Axes>"
            ],
            "image/png": "[encoded data removed]"
          },
          "metadata": {
            "needs_background": "light"
          }
        },
        {
          "output_type": "stream",
          "name": "stdout",
          "text": [
            "\n",
            "number of papers:     [0, 10000, 20000, 30000, 40000, 50000]\n",
            "number of study fields: [59965, 68, 23, 15, 11, 9]\n"
          ]
        }
      ],
      "source": [
        "# selecting threshold list for visualization of the number of papers in each field of study\n",
        "threshold_list = [i * 10000 for i in range(6)]\n",
        "# threshold_list = [0, 1, 100, 5000]\n",
        "result_list = []\n",
        "# finding the number of papers on each threshold\n",
        "for each in threshold_list:\n",
        "  result_list.append(study_fields_list[study_fields_list>each].shape[0])\n",
        "# visualization\n",
        "plt.figure(figsize=(6, 8))\n",
        "plt.scatter(threshold_list[1:], result_list[1:])\n",
        "plt.plot(threshold_list[1:], result_list[1:])\n",
        "plt.xlabel('Thresholds of the number of papers')\n",
        "plt.ylabel('The number of fields of study')\n",
        "# for i in range(len(result_list)):\n",
        "#     plt.annotate(result_list[i], (threshold_list[i], result_list[i] + 0.2))\n",
        "plt.show()\n",
        "print(f'\\nnumber of papers:     {threshold_list}')\n",
        "print(f'number of study fields: {result_list}')"
      ]
    },
    {
      "cell_type": "code",
      "source": [
        "keys = [i for i in range(no_study_fields)] # study fields\n",
        "values = list(study_fields_list) # number of papers\n",
        "study_fields_dict = dict(zip(keys, values))\n",
        "sorted_dict = dict(sorted(study_fields_dict.items(), key=lambda item: item[1]))\n",
        "\n",
        "def find_field_with_max_no_papers(temp_dict, study_fields_list_in_each_paper):\n",
        "  temp_list = []\n",
        "  # removing the most used field of study (14055)\n",
        "  if len(study_fields_list_in_each_paper) == 1: # if the list only has 14055 as study field then return it, otherwise find the next max field\n",
        "    # print(study_fields_list_in_each_paper)\n",
        "    return field_of_study_with_max_papers\n",
        "  study_fields_list_in_each_paper.remove(field_of_study_with_max_papers)\n",
        "  # find the order (higher number -> higer priority)\n",
        "  for field in study_fields_list_in_each_paper:\n",
        "    temp_list.append(temp_dict[field])\n",
        "  # finding the study field with maximum number of papers\n",
        "  maximum = max(temp_list)\n",
        "  # finding it's index\n",
        "  max_index = temp_list.index(maximum)\n",
        "  # returning the field of study itself (not the index)\n",
        "  study_field_with_max_no_papers = study_fields_list_in_each_paper[max_index]\n",
        "  return study_field_with_max_no_papers\n",
        "\n",
        "papers_study_fields = [field_of_study_with_max_papers for i in range(no_paper)]\n",
        "temp_dict = dict(zip(list(sorted_dict.keys()), [i for i in range(len(list(sorted_dict.keys())))]))\n",
        "# find the most used field of study\n",
        "for i in range(no_paper):\n",
        "  study_fields_list_in_each_paper = papers_dict[i][:]\n",
        "  study_field_with_max_no_papers = find_field_with_max_no_papers(temp_dict, study_fields_list_in_each_paper) \n",
        "  papers_study_fields[i] = study_field_with_max_no_papers\n",
        "# saving the result as it may take a while\n",
        "papers_study_fields = np.array(papers_study_fields)\n",
        "np.savetxt('saved_list.txt', papers_study_fields, fmt='%d')\n",
        "b = np.loadtxt('saved_list.txt', dtype=int)"
      ],
      "metadata": {
        "id": "rHxC-q2r0W9m"
      },
      "execution_count": 8,
      "outputs": []
    },
    {
      "cell_type": "code",
      "source": [
        "temp_set = list()\n",
        "for each in list(papers_study_fields):\n",
        "  if each not in temp_set:\n",
        "    temp_set.append(each)\n",
        "\n",
        "my_dict = dict(zip(list(temp_set), [0 for i in range(len(temp_set))]))\n",
        "for each in list(papers_study_fields):\n",
        "  my_dict[each]+=1\n",
        "\n",
        "new_y_dict = dict()\n",
        "reverse_new_y_dict = dict()\n",
        "\n",
        "for i, each in enumerate(temp_set):\n",
        "  new_y_dict[each] = i\n",
        "  reverse_new_y_dict[i] = each\n",
        "\n",
        "new_y = []\n",
        "for each in list(papers_study_fields):\n",
        "  new_y.append(new_y_dict[each])\n",
        "new_y = np.array(new_y)\n",
        "\n",
        "new_y = torch.from_numpy(new_y.reshape((new_y.shape[0], 1)))\n",
        "\n",
        "num_classes = len(temp_set)"
      ],
      "metadata": {
        "id": "jLfT3I88Tl45"
      },
      "execution_count": 9,
      "outputs": []
    },
    {
      "cell_type": "markdown",
      "source": [
        "# Pipeline"
      ],
      "metadata": {
        "id": "l-pI9lfgiIpE"
      }
    },
    {
      "cell_type": "markdown",
      "source": [
        "## model architecture"
      ],
      "metadata": {
        "id": "CVDDBd6tfKLZ"
      }
    },
    {
      "cell_type": "code",
      "source": [
        "class GCN(torch.nn.Module):\n",
        "    def __init__(self, in_channels, hidden_channels, out_channels, num_layers,\n",
        "                 dropout):\n",
        "        super(GCN, self).__init__()\n",
        "\n",
        "        self.convs = torch.nn.ModuleList()\n",
        "        self.convs.append(\n",
        "            GCNConv(in_channels, hidden_channels, normalize=False))\n",
        "        for _ in range(num_layers - 2):\n",
        "            self.convs.append(\n",
        "                GCNConv(hidden_channels, hidden_channels, normalize=False))\n",
        "        self.convs.append(\n",
        "            GCNConv(hidden_channels, out_channels, normalize=False))\n",
        "\n",
        "        self.dropout = dropout\n",
        "\n",
        "    def reset_parameters(self):\n",
        "        for conv in self.convs:\n",
        "            conv.reset_parameters()\n",
        "\n",
        "    def forward(self, x, adj_t):\n",
        "        for i, conv in enumerate(self.convs[:-1]):\n",
        "            x = conv(x, adj_t)\n",
        "            x = F.relu(x)\n",
        "            x = F.dropout(x, p=self.dropout, training=self.training)\n",
        "        x = self.convs[-1](x, adj_t)\n",
        "        return x.log_softmax(dim=-1)"
      ],
      "metadata": {
        "id": "DFwXDobQjiXt"
      },
      "execution_count": 10,
      "outputs": []
    },
    {
      "cell_type": "code",
      "source": [
        "class SAGE(torch.nn.Module):\n",
        "    def __init__(self, in_channels, hidden_channels, out_channels, num_layers,\n",
        "                 dropout):\n",
        "        super(SAGE, self).__init__()\n",
        "\n",
        "        self.convs = torch.nn.ModuleList()\n",
        "        self.convs.append(SAGEConv(in_channels, hidden_channels))\n",
        "        for _ in range(num_layers - 2):\n",
        "            self.convs.append(SAGEConv(hidden_channels, hidden_channels))\n",
        "        self.convs.append(SAGEConv(hidden_channels, out_channels))\n",
        "\n",
        "        self.dropout = dropout\n",
        "\n",
        "    def reset_parameters(self):\n",
        "        for conv in self.convs:\n",
        "            conv.reset_parameters()\n",
        "\n",
        "    def forward(self, x, adj_t):\n",
        "        for i, conv in enumerate(self.convs[:-1]):\n",
        "            x = conv(x, adj_t)\n",
        "            x = F.relu(x)\n",
        "            x = F.dropout(x, p=self.dropout, training=self.training)\n",
        "        x = self.convs[-1](x, adj_t)\n",
        "        return x.log_softmax(dim=-1)"
      ],
      "metadata": {
        "id": "IDl_g_uUj4zW"
      },
      "execution_count": 11,
      "outputs": []
    },
    {
      "cell_type": "code",
      "source": [
        "@profileit()\n",
        "def train(model, data, train_idx, optimizer):\n",
        "    model.train()\n",
        "\n",
        "    optimizer.zero_grad()\n",
        "    out = model(data.x, data.adj_t)[train_idx]\n",
        "    \n",
        "    loss = F.nll_loss(out, data.y.squeeze(1)[train_idx])\n",
        "    loss.backward()\n",
        "    optimizer.step()\n",
        "\n",
        "    return loss.item()\n",
        "  \n",
        "@torch.no_grad()\n",
        "def test(model, data, split_idx, evaluator):\n",
        "    model.eval()\n",
        "\n",
        "    out = model(data.x, data.adj_t)\n",
        "    y_pred = out.argmax(dim=-1, keepdim=True)\n",
        "\n",
        "    train_acc = evaluator.eval({\n",
        "        'y_true': data.y[split_idx['train']['paper']],\n",
        "        'y_pred': y_pred[split_idx['train']['paper']],\n",
        "    })['acc']\n",
        "    valid_acc = evaluator.eval({\n",
        "        'y_true': data.y[split_idx['valid']['paper']],\n",
        "        'y_pred': y_pred[split_idx['valid']['paper']],\n",
        "    })['acc']\n",
        "    test_acc = evaluator.eval({\n",
        "        'y_true': data.y[split_idx['test']['paper']],\n",
        "        'y_pred': y_pred[split_idx['test']['paper']],\n",
        "    })['acc']\n",
        "\n",
        "    # print(data.y[split_idx['test']['paper']])\n",
        "    # print(y_pred[split_idx['test']['paper']])\n",
        "\n",
        "    score = f1_score(data.y[split_idx['test']['paper']].cpu(), \n",
        "                     y_pred[split_idx['test']['paper']].cpu(), \n",
        "                     average='micro')\n",
        "\n",
        "    return train_acc, valid_acc, test_acc, score"
      ],
      "metadata": {
        "id": "h01iCdTsj6D6"
      },
      "execution_count": 12,
      "outputs": []
    },
    {
      "cell_type": "markdown",
      "source": [
        "## Sage graph model result"
      ],
      "metadata": {
        "id": "RZ4xizKdQoEu"
      }
    },
    {
      "cell_type": "code",
      "source": [
        "print('mem =', 'aloc:', torch.cuda.memory_allocated(0)/1024/1024/1024, 'all:', torch.cuda.memory_reserved(0)/1024/1024/1024)"
      ],
      "metadata": {
        "colab": {
          "base_uri": "https://localhost:8080/"
        },
        "id": "P0HBdduWclV9",
        "outputId": "3aeb899f-25a8-4afa-991b-b8442b1bed76"
      },
      "execution_count": null,
      "outputs": [
        {
          "output_type": "stream",
          "name": "stdout",
          "text": [
            "mem = aloc: 0.6812448501586914 all: 13.234375\n"
          ]
        }
      ]
    },
    {
      "cell_type": "code",
      "source": [
        "rel_data = dataset[0]\n",
        "\n",
        "# We are only interested in paper <-> paper relations.\n",
        "data = Data(\n",
        "    x=rel_data.x_dict['paper'],\n",
        "    edge_index=rel_data.edge_index_dict[('paper', 'cites', 'paper')],\n",
        "    y=rel_data.y_dict['paper'])\n",
        "    # y=new_y)\n",
        "\n",
        "print(data)\n",
        "\n",
        "data = T.ToSparseTensor()(data)\n",
        "data.adj_t = data.adj_t.to_symmetric()\n",
        "\n",
        "split_idx = dataset.get_idx_split()\n",
        "train_idx = split_idx['train']['paper'].to(device)\n",
        "\n",
        "which_model = 0\n",
        "\n",
        "# Sage model\n",
        "if which_model == 0:\n",
        "    model = SAGE(data.num_features, hidden_channels,\n",
        "                  num_classes, num_layers,\n",
        "                  dropout).to(device)\n",
        "# GCN model\n",
        "else:\n",
        "    model = GCN(data.num_features, hidden_channels,\n",
        "                num_classes, num_layers,\n",
        "                dropout).to(device)\n",
        "\n",
        "    # Pre-compute GCN normalization.\n",
        "    adj_t = data.adj_t.set_diag()\n",
        "    deg = adj_t.sum(dim=1).to(torch.float)\n",
        "    deg_inv_sqrt = deg.pow(-0.5)\n",
        "    deg_inv_sqrt[deg_inv_sqrt == float('inf')] = 0\n",
        "    adj_t = deg_inv_sqrt.view(-1, 1) * adj_t * deg_inv_sqrt.view(1, -1)\n",
        "    data.adj_t = adj_t"
      ],
      "metadata": {
        "colab": {
          "base_uri": "https://localhost:8080/"
        },
        "id": "OLVE8HlZoF4I",
        "outputId": "3bb54589-d7f4-4257-8623-f3a6d11e65e4"
      },
      "execution_count": null,
      "outputs": [
        {
          "output_type": "stream",
          "name": "stdout",
          "text": [
            "Data(x=[736389, 128], edge_index=[2, 5416271], y=[736389, 1])\n"
          ]
        }
      ]
    },
    {
      "cell_type": "code",
      "source": [
        "data = data.to(device)\n",
        "\n",
        "evaluator = Evaluator(name='ogbn-mag')\n",
        "loss_list = []\n",
        "train_acc_list = []\n",
        "val_acc_list = []\n",
        "test_acc_list = []\n",
        "\n",
        "for run in range(runs):\n",
        "  print(\"Run:\", run, '#'*100)\n",
        "  model.reset_parameters()\n",
        "  optimizer = torch.optim.Adam(model.parameters(), lr=lr)\n",
        "  start = time.time()\n",
        "  for epoch in range(0, epochs):\n",
        "    loss, stats = train(model, data, train_idx, optimizer)\n",
        "    result = test(model, data, split_idx, evaluator)\n",
        "    loss_list.append(loss)\n",
        "    train_acc, valid_acc, test_acc, test_f1 = result\n",
        "    train_acc_list.append(train_acc)\n",
        "    val_acc_list.append(valid_acc)\n",
        "    test_acc_list.append(test_acc)\n",
        "    if epoch % 20 == 0:\n",
        "      print(f'Run: {run + 1:02d}, '\n",
        "                  f'Epoch: {epoch:02d}, '\n",
        "                  f'Loss: {loss:.4f}, '\n",
        "                  f'Train: {100 * train_acc:.2f}%, '\n",
        "                  f'Valid: {100 * valid_acc:.2f}% '\n",
        "                  f'Test: {100 * test_acc:.2f}% '\n",
        "                  f'F1-Score: {100 * test_f1:.2f}%')\n",
        "      print(stats)\n",
        "  stop = time.time()\n",
        "  print(f\"Training time: {stop - start}s\")\n"
      ],
      "metadata": {
        "colab": {
          "base_uri": "https://localhost:8080/"
        },
        "id": "xGoarr7HrppC",
        "outputId": "eff300c7-9b68-4312-dfff-f8d381dc7940"
      },
      "execution_count": null,
      "outputs": [
        {
          "output_type": "stream",
          "name": "stdout",
          "text": [
            "Run: 0 ####################################################################################################\n",
            "Run: 01, Epoch: 00, Loss: 6.6601, Train: 30.27%, Valid: 27.39% Test: 26.49% F1-Score: 26.49%\n",
            "Stats(time=1.208510009765625, max_allocated_cuda=7894.13, max_reserved_cuda=8334.0, max_active_cuda=7894.13, nvidia_smi_free_cuda=1536.05, nvidia_smi_used_cuda=14305.73)\n",
            "Run: 01, Epoch: 20, Loss: 1.4965, Train: 62.85%, Valid: 58.41% Test: 58.86% F1-Score: 58.86%\n",
            "Stats(time=1.09498876953125, max_allocated_cuda=7897.8, max_reserved_cuda=8334.0, max_active_cuda=7897.8, nvidia_smi_free_cuda=1536.05, nvidia_smi_used_cuda=14305.73)\n",
            "Run: 01, Epoch: 40, Loss: 1.2201, Train: 67.41%, Valid: 61.88% Test: 61.82% F1-Score: 61.82%\n",
            "Stats(time=1.0693292236328125, max_allocated_cuda=7897.8, max_reserved_cuda=8334.0, max_active_cuda=7897.8, nvidia_smi_free_cuda=1536.05, nvidia_smi_used_cuda=14305.73)\n",
            "Run: 01, Epoch: 60, Loss: 1.1441, Train: 68.44%, Valid: 62.68% Test: 62.58% F1-Score: 62.58%\n",
            "Stats(time=1.08148828125, max_allocated_cuda=7897.8, max_reserved_cuda=8334.0, max_active_cuda=7897.8, nvidia_smi_free_cuda=1536.05, nvidia_smi_used_cuda=14305.73)\n",
            "Run: 01, Epoch: 80, Loss: 1.1072, Train: 68.92%, Valid: 63.02% Test: 62.87% F1-Score: 62.87%\n",
            "Stats(time=1.0738499755859374, max_allocated_cuda=7897.8, max_reserved_cuda=8334.0, max_active_cuda=7897.8, nvidia_smi_free_cuda=1536.05, nvidia_smi_used_cuda=14305.73)\n",
            "Run: 01, Epoch: 100, Loss: 1.0843, Train: 69.26%, Valid: 63.37% Test: 63.13% F1-Score: 63.13%\n",
            "Stats(time=1.088319091796875, max_allocated_cuda=7897.8, max_reserved_cuda=8334.0, max_active_cuda=7897.8, nvidia_smi_free_cuda=1536.05, nvidia_smi_used_cuda=14305.73)\n",
            "Run: 01, Epoch: 120, Loss: 1.0669, Train: 69.51%, Valid: 63.56% Test: 63.32% F1-Score: 63.32%\n",
            "Stats(time=1.0787752685546874, max_allocated_cuda=7897.8, max_reserved_cuda=8334.0, max_active_cuda=7897.8, nvidia_smi_free_cuda=1536.05, nvidia_smi_used_cuda=14305.73)\n",
            "Run: 01, Epoch: 140, Loss: 1.0545, Train: 69.71%, Valid: 63.68% Test: 63.52% F1-Score: 63.52%\n",
            "Stats(time=1.086480712890625, max_allocated_cuda=7897.8, max_reserved_cuda=8334.0, max_active_cuda=7897.8, nvidia_smi_free_cuda=1536.05, nvidia_smi_used_cuda=14305.73)\n",
            "Run: 01, Epoch: 160, Loss: 1.0443, Train: 69.87%, Valid: 63.77% Test: 63.68% F1-Score: 63.68%\n",
            "Stats(time=1.079077392578125, max_allocated_cuda=7897.8, max_reserved_cuda=8334.0, max_active_cuda=7897.8, nvidia_smi_free_cuda=1536.05, nvidia_smi_used_cuda=14305.73)\n",
            "Run: 01, Epoch: 180, Loss: 1.0355, Train: 70.01%, Valid: 63.90% Test: 63.78% F1-Score: 63.78%\n",
            "Stats(time=1.0812239990234376, max_allocated_cuda=7897.8, max_reserved_cuda=8334.0, max_active_cuda=7897.8, nvidia_smi_free_cuda=1536.05, nvidia_smi_used_cuda=14305.73)\n",
            "Run: 01, Epoch: 200, Loss: 1.0275, Train: 70.14%, Valid: 63.94% Test: 63.80% F1-Score: 63.80%\n",
            "Stats(time=1.0789329833984376, max_allocated_cuda=7897.8, max_reserved_cuda=8334.0, max_active_cuda=7897.8, nvidia_smi_free_cuda=1536.05, nvidia_smi_used_cuda=14305.73)\n",
            "Training time: 359.9534103870392s\n"
          ]
        }
      ]
    },
    {
      "cell_type": "code",
      "source": [
        "#\n",
        "plt.figure(figsize=(14, 6))\n",
        "#\n",
        "plt.subplot(121)\n",
        "plt.plot(loss_list)\n",
        "plt.xlabel('epoch')\n",
        "plt.ylabel('loss')\n",
        "#\n",
        "plt.subplot(122)\n",
        "plt.plot(train_acc_list, label='Train')\n",
        "plt.plot(val_acc_list, label='Valid')\n",
        "plt.plot(test_acc_list, label='Test')\n",
        "plt.xlabel('epoch')\n",
        "plt.ylabel('accuracy')\n",
        "#\n",
        "plt.legend()\n",
        "plt.show()"
      ],
      "metadata": {
        "colab": {
          "base_uri": "https://localhost:8080/",
          "height": 388
        },
        "id": "4l8SVpbyRlzM",
        "outputId": "ad7baf0f-4cd2-4d1d-ddca-c90dcf2a52e9"
      },
      "execution_count": null,
      "outputs": [
        {
          "output_type": "display_data",
          "data": {
            "text/plain": [
              "<Figure size 1008x432 with 2 Axes>"
            ],
            "image/png": "[encoded data removed]"
          },
          "metadata": {
            "needs_background": "light"
          }
        }
      ]
    },
    {
      "cell_type": "markdown",
      "source": [
        "## GCN model result"
      ],
      "metadata": {
        "id": "73AEkP4SQvRK"
      }
    },
    {
      "cell_type": "code",
      "source": [
        "print('mem =', 'aloc:', torch.cuda.memory_allocated(0)/1024/1024/1024, 'all:', torch.cuda.memory_reserved(0)/1024/1024/1024)"
      ],
      "metadata": {
        "colab": {
          "base_uri": "https://localhost:8080/"
        },
        "id": "M6jPWn-JcxGl",
        "outputId": "685f6be0-c2b4-49e9-85de-1b30707fa99b"
      },
      "execution_count": null,
      "outputs": [
        {
          "output_type": "stream",
          "name": "stdout",
          "text": [
            "mem = aloc: 0.6798944473266602 all: 12.53125\n"
          ]
        }
      ]
    },
    {
      "cell_type": "code",
      "source": [
        "rel_data = dataset[0]\n",
        "\n",
        "data = Data(\n",
        "    x=rel_data.x_dict['paper'],\n",
        "    edge_index=rel_data.edge_index_dict[('paper', 'cites', 'paper')],\n",
        "    # y=rel_data.y_dict['paper'])\n",
        "    y=new_y)\n",
        "\n",
        "print(data)\n",
        "\n",
        "num_classes = len(temp_set)\n",
        "\n",
        "data = T.ToSparseTensor()(data)\n",
        "data.adj_t = data.adj_t.to_symmetric()\n",
        "\n",
        "split_idx = dataset.get_idx_split()\n",
        "train_idx = split_idx['train']['paper'].to(device)\n",
        "\n",
        "which_model = 1\n",
        "\n",
        "# Sage model\n",
        "if which_model == 0:\n",
        "    model = SAGE(data.num_features, hidden_channels,\n",
        "                  num_classes, num_layers,\n",
        "                  dropout).to(device)\n",
        "# GCN model\n",
        "else:\n",
        "    model = GCN(data.num_features, 128,\n",
        "                num_classes, num_layers,\n",
        "                dropout).to(device)\n",
        "\n",
        "    # Pre-compute GCN normalization.\n",
        "    adj_t = data.adj_t.set_diag()\n",
        "    deg = adj_t.sum(dim=1).to(torch.float)\n",
        "    deg_inv_sqrt = deg.pow(-0.5)\n",
        "    deg_inv_sqrt[deg_inv_sqrt == float('inf')] = 0\n",
        "    adj_t = deg_inv_sqrt.view(-1, 1) * adj_t * deg_inv_sqrt.view(1, -1)\n",
        "    data.adj_t = adj_t"
      ],
      "metadata": {
        "id": "FrXqH7Rbx_4c",
        "colab": {
          "base_uri": "https://localhost:8080/"
        },
        "outputId": "6c116595-fc4d-41f7-b18b-86ffb3d2eb66"
      },
      "execution_count": null,
      "outputs": [
        {
          "output_type": "stream",
          "name": "stdout",
          "text": [
            "Data(x=[736389, 128], edge_index=[2, 5416271], y=[736389, 1])\n"
          ]
        }
      ]
    },
    {
      "cell_type": "code",
      "source": [
        "data = data.to(device)\n",
        "\n",
        "evaluator = Evaluator(name='ogbn-mag')\n",
        "loss_list = []\n",
        "train_acc_list = []\n",
        "val_acc_list = []\n",
        "test_acc_list = []\n",
        "\n",
        "for run in range(runs):\n",
        "  print(\"Run:\", run, '#'*100)\n",
        "  model.reset_parameters()\n",
        "  optimizer = torch.optim.Adam(model.parameters(), lr=lr)\n",
        "  start = time.time()\n",
        "  for epoch in range(0, epochs):\n",
        "    loss, stats = train(model, data, train_idx, optimizer)\n",
        "    result = test(model, data, split_idx, evaluator)\n",
        "    train_acc, valid_acc, test_acc, test_f1 = result\n",
        "    loss_list.append(loss)\n",
        "    train_acc_list.append(train_acc)\n",
        "    val_acc_list.append(valid_acc)\n",
        "    test_acc_list.append(test_acc)\n",
        "    if epoch % 20 == 0:\n",
        "      print(f'Run: {run + 1:02d}, '\n",
        "                  f'Epoch: {epoch:02d}, '\n",
        "                  f'Loss: {loss:.4f}, '\n",
        "                  f'Train: {100 * train_acc:.2f}%, '\n",
        "                  f'Valid: {100 * valid_acc:.2f}% '\n",
        "                  f'Test: {100 * test_acc:.2f}% '\n",
        "                  f'F1-Score: {100 * test_f1:.2f}%')\n",
        "      print(stats)\n",
        "  stop = time.time()\n",
        "  print(f\"Training time: {stop - start}s\")"
      ],
      "metadata": {
        "colab": {
          "base_uri": "https://localhost:8080/"
        },
        "id": "IG5VRtreQ21w",
        "outputId": "a97c68f3-c038-4c5b-8396-4ccdb43cf882"
      },
      "execution_count": null,
      "outputs": [
        {
          "output_type": "stream",
          "name": "stdout",
          "text": [
            "Run: 0 ####################################################################################################\n",
            "Run: 01, Epoch: 00, Loss: 6.7018, Train: 38.84%, Valid: 30.38% Test: 32.27% F1-Score: 32.27%\n",
            "Stats(time=1.3770419921875, max_allocated_cuda=8700.64, max_reserved_cuda=9074.0, max_active_cuda=8700.64, nvidia_smi_free_cuda=948.89, nvidia_smi_used_cuda=14892.89)\n",
            "Run: 01, Epoch: 20, Loss: 2.2167, Train: 52.43%, Valid: 45.02% Test: 45.29% F1-Score: 45.29%\n",
            "Stats(time=1.3010291748046876, max_allocated_cuda=8702.03, max_reserved_cuda=8992.0, max_active_cuda=8702.03, nvidia_smi_free_cuda=760.16, nvidia_smi_used_cuda=15081.62)\n",
            "Run: 01, Epoch: 40, Loss: 1.5989, Train: 62.86%, Valid: 57.92% Test: 58.16% F1-Score: 58.16%\n",
            "Stats(time=1.26175390625, max_allocated_cuda=8702.03, max_reserved_cuda=8992.0, max_active_cuda=8702.03, nvidia_smi_free_cuda=760.16, nvidia_smi_used_cuda=15081.62)\n",
            "Run: 01, Epoch: 60, Loss: 1.3811, Train: 66.38%, Valid: 61.06% Test: 61.06% F1-Score: 61.06%\n",
            "Stats(time=1.3159833984375, max_allocated_cuda=8702.03, max_reserved_cuda=8992.0, max_active_cuda=8702.03, nvidia_smi_free_cuda=760.16, nvidia_smi_used_cuda=15081.62)\n",
            "Run: 01, Epoch: 80, Loss: 1.2895, Train: 67.54%, Valid: 61.95% Test: 61.86% F1-Score: 61.86%\n",
            "Stats(time=1.3188399658203125, max_allocated_cuda=8702.03, max_reserved_cuda=8992.0, max_active_cuda=8702.03, nvidia_smi_free_cuda=760.16, nvidia_smi_used_cuda=15081.62)\n",
            "Run: 01, Epoch: 100, Loss: 1.2404, Train: 68.18%, Valid: 62.50% Test: 62.52% F1-Score: 62.52%\n",
            "Stats(time=1.26237890625, max_allocated_cuda=8702.03, max_reserved_cuda=8992.0, max_active_cuda=8702.03, nvidia_smi_free_cuda=760.16, nvidia_smi_used_cuda=15081.62)\n",
            "Run: 01, Epoch: 120, Loss: 1.2091, Train: 68.54%, Valid: 62.75% Test: 62.75% F1-Score: 62.75%\n",
            "Stats(time=1.3093028564453124, max_allocated_cuda=8702.03, max_reserved_cuda=8992.0, max_active_cuda=8702.03, nvidia_smi_free_cuda=760.16, nvidia_smi_used_cuda=15081.62)\n",
            "Run: 01, Epoch: 140, Loss: 1.1858, Train: 68.80%, Valid: 63.02% Test: 63.10% F1-Score: 63.10%\n",
            "Stats(time=1.265591552734375, max_allocated_cuda=8702.03, max_reserved_cuda=8992.0, max_active_cuda=8702.03, nvidia_smi_free_cuda=760.16, nvidia_smi_used_cuda=15081.62)\n",
            "Run: 01, Epoch: 160, Loss: 1.1689, Train: 69.01%, Valid: 63.17% Test: 63.11% F1-Score: 63.11%\n",
            "Stats(time=1.2588365478515624, max_allocated_cuda=8702.03, max_reserved_cuda=8992.0, max_active_cuda=8702.03, nvidia_smi_free_cuda=760.16, nvidia_smi_used_cuda=15081.62)\n",
            "Run: 01, Epoch: 180, Loss: 1.1537, Train: 69.18%, Valid: 63.29% Test: 63.21% F1-Score: 63.21%\n",
            "Stats(time=1.313676025390625, max_allocated_cuda=8702.03, max_reserved_cuda=8992.0, max_active_cuda=8702.03, nvidia_smi_free_cuda=760.16, nvidia_smi_used_cuda=15081.62)\n",
            "Run: 01, Epoch: 200, Loss: 1.1425, Train: 69.28%, Valid: 63.36% Test: 63.23% F1-Score: 63.23%\n",
            "Stats(time=1.3072398681640625, max_allocated_cuda=8702.03, max_reserved_cuda=8992.0, max_active_cuda=8702.03, nvidia_smi_free_cuda=760.16, nvidia_smi_used_cuda=15081.62)\n",
            "Training time: 422.76872301101685s\n"
          ]
        }
      ]
    },
    {
      "cell_type": "code",
      "source": [
        "#\n",
        "plt.figure(figsize=(14, 6))\n",
        "#\n",
        "plt.subplot(121)\n",
        "plt.plot(loss_list)\n",
        "plt.xlabel('epoch')\n",
        "plt.ylabel('loss')\n",
        "#\n",
        "plt.subplot(122)\n",
        "plt.plot(train_acc_list, label='Train')\n",
        "plt.plot(val_acc_list, label='Valid')\n",
        "plt.plot(test_acc_list, label='Test')\n",
        "plt.xlabel('epoch')\n",
        "plt.ylabel('accuracy')\n",
        "#\n",
        "plt.legend()\n",
        "plt.show()"
      ],
      "metadata": {
        "colab": {
          "base_uri": "https://localhost:8080/",
          "height": 388
        },
        "id": "VEZOyCC_RAMY",
        "outputId": "611451cf-d953-4ca9-9483-31de672d28e7"
      },
      "execution_count": null,
      "outputs": [
        {
          "output_type": "display_data",
          "data": {
            "text/plain": [
              "<Figure size 1008x432 with 2 Axes>"
            ],
            "image/png": "[encoded data removed]"
          },
          "metadata": {
            "needs_background": "light"
          }
        }
      ]
    },
    {
      "cell_type": "markdown",
      "source": [
        "## RGCN model result"
      ],
      "metadata": {
        "id": "gGGNaSznld38"
      }
    },
    {
      "cell_type": "code",
      "source": [
        "print('mem =', 'aloc:', torch.cuda.memory_allocated(0)/1024/1024/1024, 'all:', torch.cuda.memory_reserved(0)/1024/1024/1024, 'max_res:', torch.cuda.max_memory_reserved(0)/1024/1024/1024)"
      ],
      "metadata": {
        "colab": {
          "base_uri": "https://localhost:8080/"
        },
        "id": "vYlDsCn9e0Yj",
        "outputId": "6ece5935-3825-4a1f-ab51-4ff4902275e7"
      },
      "execution_count": null,
      "outputs": [
        {
          "output_type": "stream",
          "name": "stdout",
          "text": [
            "mem = aloc: 0.0 all: 0.0 max_res: 0.0\n"
          ]
        }
      ]
    },
    {
      "cell_type": "code",
      "source": [
        "class RGCNConv(torch.nn.Module):\n",
        "    def __init__(self, in_channels, out_channels, node_types, edge_types):\n",
        "        super(RGCNConv, self).__init__()\n",
        "\n",
        "        self.in_channels = in_channels\n",
        "        self.out_channels = out_channels\n",
        "\n",
        "        # `ModuleDict` does not allow tuples :(\n",
        "        self.rel_lins = ModuleDict({\n",
        "            f'{key[0]}_{key[1]}_{key[2]}': Linear(in_channels, out_channels,\n",
        "                                                  bias=False)\n",
        "            for key in edge_types\n",
        "        })\n",
        "\n",
        "        self.root_lins = ModuleDict({\n",
        "            key: Linear(in_channels, out_channels, bias=True)\n",
        "            for key in node_types\n",
        "        })\n",
        "\n",
        "        self.reset_parameters()\n",
        "\n",
        "    def reset_parameters(self):\n",
        "        for lin in self.rel_lins.values():\n",
        "            lin.reset_parameters()\n",
        "        for lin in self.root_lins.values():\n",
        "            lin.reset_parameters()\n",
        "\n",
        "    def forward(self, x_dict, adj_t_dict):\n",
        "        out_dict = {}\n",
        "        for key, x in x_dict.items():\n",
        "            out_dict[key] = self.root_lins[key](x)\n",
        "\n",
        "        for key, adj_t in adj_t_dict.items():\n",
        "            key_str = f'{key[0]}_{key[1]}_{key[2]}'\n",
        "            x = x_dict[key[0]]\n",
        "            out = self.rel_lins[key_str](adj_t.matmul(x, reduce='mean'))\n",
        "            out_dict[key[2]].add_(out)\n",
        "\n",
        "        return out_dict\n",
        "\n",
        "\n",
        "class RGCN(torch.nn.Module):\n",
        "    def __init__(self, in_channels, hidden_channels, out_channels, num_layers,\n",
        "                 dropout, num_nodes_dict, x_types, edge_types):\n",
        "        super(RGCN, self).__init__()\n",
        "\n",
        "        node_types = list(num_nodes_dict.keys())\n",
        "\n",
        "        self.embs = ParameterDict({\n",
        "            key: Parameter(torch.Tensor(num_nodes_dict[key], in_channels))\n",
        "            for key in set(node_types).difference(set(x_types))\n",
        "        })\n",
        "\n",
        "        self.convs = ModuleList()\n",
        "        self.convs.append(\n",
        "            RGCNConv(in_channels, hidden_channels, node_types, edge_types))\n",
        "        for _ in range(num_layers - 2):\n",
        "            self.convs.append(\n",
        "                RGCNConv(hidden_channels, hidden_channels, node_types,\n",
        "                         edge_types))\n",
        "        self.convs.append(\n",
        "            RGCNConv(hidden_channels, out_channels, node_types, edge_types))\n",
        "\n",
        "        self.dropout = dropout\n",
        "\n",
        "        self.reset_parameters()\n",
        "\n",
        "    def reset_parameters(self):\n",
        "        for emb in self.embs.values():\n",
        "            torch.nn.init.xavier_uniform_(emb)\n",
        "        for conv in self.convs:\n",
        "            conv.reset_parameters()\n",
        "\n",
        "    def forward(self, x_dict, adj_t_dict):\n",
        "        x_dict = copy.copy(x_dict)\n",
        "        for key, emb in self.embs.items():\n",
        "            x_dict[key] = emb\n",
        "\n",
        "        for conv in self.convs[:-1]:\n",
        "            x_dict = conv(x_dict, adj_t_dict)\n",
        "            for key, x in x_dict.items():\n",
        "                x_dict[key] = F.relu(x)\n",
        "                x_dict[key] = F.dropout(x, p=self.dropout,\n",
        "                                        training=self.training)\n",
        "        return self.convs[-1](x_dict, adj_t_dict)"
      ],
      "metadata": {
        "id": "lE3Vgy_blhXB"
      },
      "execution_count": null,
      "outputs": []
    },
    {
      "cell_type": "code",
      "source": [
        "@profileit()\n",
        "def train(model, x_dict, adj_t_dict, y_true, train_idx, optimizer):\n",
        "    model.train()\n",
        "\n",
        "    optimizer.zero_grad()\n",
        "    out = model(x_dict, adj_t_dict)['paper'].log_softmax(dim=-1)\n",
        "    loss = F.nll_loss(out[train_idx], y_true[train_idx].squeeze())\n",
        "    loss.backward()\n",
        "    optimizer.step()\n",
        "\n",
        "    return loss.item()\n",
        "\n",
        "\n",
        "@torch.no_grad()\n",
        "def test(model, x_dict, adj_t_dict, y_true, split_idx, evaluator):\n",
        "    model.eval()\n",
        "\n",
        "    out = model(x_dict, adj_t_dict)['paper']\n",
        "    y_pred = out.argmax(dim=-1, keepdim=True)\n",
        "\n",
        "    train_acc = evaluator.eval({\n",
        "        'y_true': y_true[split_idx['train']['paper']],\n",
        "        'y_pred': y_pred[split_idx['train']['paper']],\n",
        "    })['acc']\n",
        "    valid_acc = evaluator.eval({\n",
        "        'y_true': y_true[split_idx['valid']['paper']],\n",
        "        'y_pred': y_pred[split_idx['valid']['paper']],\n",
        "    })['acc']\n",
        "    test_acc = evaluator.eval({\n",
        "        'y_true': y_true[split_idx['test']['paper']],\n",
        "        'y_pred': y_pred[split_idx['test']['paper']],\n",
        "    })['acc']\n",
        "\n",
        "    return train_acc, valid_acc, test_acc"
      ],
      "metadata": {
        "id": "4a17FeeVrT7N"
      },
      "execution_count": null,
      "outputs": []
    },
    {
      "cell_type": "code",
      "source": [
        "split_idx = dataset.get_idx_split()\n",
        "data = dataset[0]\n",
        "data.y_dict['paper'] = new_y\n",
        "\n",
        "# We do not consider those attributes for now.\n",
        "data.node_year = None\n",
        "data.edge_reltype = None\n",
        "# data.num_nodes_dict['field_of_study'] = None\n",
        "# t_key = 'paper', 'has_topic', 'field_of_study'\n",
        "# data.edge_index_dict[t_key] = None\n",
        "print(data)\n",
        "\n",
        "epochs = 100\n",
        "device = torch.device('cuda' if torch.cuda.is_available() else 'cpu')\n",
        "# Convert to new transposed `SparseTensor` format and add reverse edges.\n",
        "data.adj_t_dict = {}\n",
        "for keys, (row, col) in data.edge_index_dict.items():\n",
        "    sizes = (data.num_nodes_dict[keys[0]], data.num_nodes_dict[keys[2]])\n",
        "    adj = SparseTensor(row=row, col=col, sparse_sizes=sizes)\n",
        "    # adj = SparseTensor(row=row, col=col)[:sizes[0], :sizes[1]] # TEST\n",
        "    if keys[0] != keys[2]:\n",
        "        data.adj_t_dict[keys] = adj.t()\n",
        "        data.adj_t_dict[(keys[2], 'to', keys[0])] = adj\n",
        "    else:\n",
        "        data.adj_t_dict[keys] = adj.to_symmetric()\n",
        "data.edge_index_dict = None\n",
        "print()\n",
        "print(data)"
      ],
      "metadata": {
        "id": "nswxREyaxPA1"
      },
      "execution_count": null,
      "outputs": []
    },
    {
      "cell_type": "code",
      "source": [
        "print('mem =', 'aloc:', torch.cuda.memory_allocated(0)/1024/1024/1024, 'all:', torch.cuda.memory_reserved(0)/1024/1024/1024, 'max_res:', torch.cuda.max_memory_reserved(0)/1024/1024/1024)"
      ],
      "metadata": {
        "id": "A63HkJlK3ydW"
      },
      "execution_count": null,
      "outputs": []
    },
    {
      "cell_type": "code",
      "source": [
        "x_types = list(data.x_dict.keys())\n",
        "edge_types = list(data.adj_t_dict.keys())\n",
        "\n",
        "# model = RGCN(data.x_dict['paper'].size(-1), 64,\n",
        "#                 dataset.num_classes, num_layers, dropout,\n",
        "#                 data.num_nodes_dict, x_types, edge_types)\n",
        "\n",
        "model = RGCN(data.x_dict['paper'].size(-1), 2,\n",
        "                num_classes, num_layers, dropout,\n",
        "                data.num_nodes_dict, x_types, edge_types)\n",
        "\n",
        "data = data.to(device)\n",
        "model = model.to(device)\n",
        "train_idx = split_idx['train']['paper'].to(device)\n",
        "\n",
        "evaluator = Evaluator(name='ogbn-mag')\n",
        "\n",
        "loss_list = []\n",
        "train_acc_list = []\n",
        "val_acc_list = []\n",
        "test_acc_list = []\n",
        "\n",
        "for run in range(runs):\n",
        "    print(\"Run:\", run, '#'*100)\n",
        "    model.reset_parameters()\n",
        "    optimizer = torch.optim.Adam(model.parameters(), lr=lr)\n",
        "    for epoch in range(0, epochs):\n",
        "        loss, stats = train(model, data.x_dict, data.adj_t_dict,\n",
        "                        data.y_dict['paper'], train_idx, optimizer)\n",
        "        result = test(model, data.x_dict, data.adj_t_dict,\n",
        "                        data.y_dict['paper'], split_idx, evaluator)\n",
        "        train_acc, valid_acc, test_acc = result\n",
        "        loss_list.append(loss)\n",
        "        train_acc_list.append(train_acc)\n",
        "        val_acc_list.append(valid_acc)\n",
        "        test_acc_list.append(test_acc)\n",
        "        if epoch % 5 == 0:\n",
        "            print(f'Run: {run + 1:02d}, '\n",
        "                        f'Epoch: {epoch:02d}, '\n",
        "                        f'Loss: {loss:.4f}, '\n",
        "                        f'Train: {100 * train_acc:.2f}%, '\n",
        "                        f'Valid: {100 * valid_acc:.2f}% '\n",
        "                        f'Test: {100 * test_acc:.2f}% ')\n",
        "            print(stats)\n",
        "        "
      ],
      "metadata": {
        "id": "8voSSAbhomDW"
      },
      "execution_count": null,
      "outputs": []
    },
    {
      "cell_type": "code",
      "source": [
        "print('mem =', 'aloc:', torch.cuda.memory_allocated(0)/1024/1024/1024, 'all:', torch.cuda.memory_reserved(0)/1024/1024/1024, 'max_res:', torch.cuda.max_memory_reserved(0)/1024/1024/1024)"
      ],
      "metadata": {
        "id": "cAsU1nu5gy4m"
      },
      "execution_count": null,
      "outputs": []
    },
    {
      "cell_type": "code",
      "source": [
        "# visualizing the loss and the train/val/test accuracies.\n",
        "plt.figure(figsize=(14, 6))\n",
        "#\n",
        "plt.subplot(121)\n",
        "plt.plot(loss_list)\n",
        "plt.xlabel('epoch')\n",
        "plt.ylabel('loss')\n",
        "#\n",
        "plt.subplot(122)\n",
        "plt.plot(train_acc_list, label='Train')\n",
        "plt.plot(val_acc_list, label='Valid')\n",
        "plt.plot(test_acc_list, label='Test')\n",
        "plt.xlabel('epoch')\n",
        "plt.ylabel('accuracy')\n",
        "#\n",
        "plt.legend()\n",
        "plt.show()"
      ],
      "metadata": {
        "id": "k76yONWZv56B"
      },
      "execution_count": null,
      "outputs": []
    },
    {
      "cell_type": "markdown",
      "source": [
        "## GRAPHSAINT model result"
      ],
      "metadata": {
        "id": "YQAmgnbLlTsA"
      }
    },
    {
      "cell_type": "code",
      "source": [
        "device = f'cuda' if torch.cuda.is_available() else 'cpu'"
      ],
      "metadata": {
        "id": "tx_8k68KEnR2"
      },
      "execution_count": 13,
      "outputs": []
    },
    {
      "cell_type": "code",
      "source": [
        "data = dataset[0]\n",
        "split_idx = dataset.get_idx_split()\n",
        "evaluator = Evaluator(name='ogbn-mag')\n",
        "\n",
        "# We do not consider those attributes for now.\n",
        "data.node_year_dict = None\n",
        "data.edge_reltype_dict = None\n",
        "\n",
        "# print(data)\n",
        "\n",
        "edge_index_dict = data.edge_index_dict\n",
        "\n",
        "# We need to add reverse edges to the heterogeneous graph.\n",
        "r, c = edge_index_dict[('author', 'affiliated_with', 'institution')]\n",
        "edge_index_dict[('institution', 'to', 'author')] = torch.stack([c, r])\n",
        "\n",
        "r, c = edge_index_dict[('author', 'writes', 'paper')]\n",
        "edge_index_dict[('paper', 'to', 'author')] = torch.stack([c, r])\n",
        "\n",
        "r, c = edge_index_dict[('paper', 'has_topic', 'field_of_study')]\n",
        "edge_index_dict[('field_of_study', 'to', 'paper')] = torch.stack([c, r])\n",
        "\n",
        "# Convert to undirected paper <-> paper relation.\n",
        "edge_index = to_undirected(edge_index_dict[('paper', 'cites', 'paper')])\n",
        "edge_index_dict[('paper', 'cites', 'paper')] = edge_index\n",
        "\n",
        "# We convert the individual graphs into a single big one, so that sampling\n",
        "# neighbors does not need to care about different edge types.\n",
        "# This will return the following:\n",
        "# * `edge_index`: The new global edge connectivity.\n",
        "# * `edge_type`: The edge type for each edge.\n",
        "# * `node_type`: The node type for each node.\n",
        "# * `local_node_idx`: The original index for each node.\n",
        "# * `local2global`: A dictionary mapping original (local) node indices of\n",
        "#    type `key` to global ones.\n",
        "# `key2int`: A dictionary that maps original keys to their new canonical type.\n",
        "out = group_hetero_graph(data.edge_index_dict, data.num_nodes_dict)\n",
        "edge_index, edge_type, node_type, local_node_idx, local2global, key2int = out\n",
        "\n",
        "homo_data = Data(edge_index=edge_index, edge_attr=edge_type,\n",
        "                 node_type=node_type, local_node_idx=local_node_idx,\n",
        "                 num_nodes=node_type.size(0))\n",
        "print('#'*50)\n",
        "print(homo_data)"
      ],
      "metadata": {
        "id": "de2sTbu5lbVJ",
        "colab": {
          "base_uri": "https://localhost:8080/"
        },
        "outputId": "97e2fc8a-b807-4aa5-ac0e-e068e0df06d4"
      },
      "execution_count": 14,
      "outputs": [
        {
          "output_type": "stream",
          "name": "stdout",
          "text": [
            "##################################################\n",
            "Data(edge_index=[2, 42182144], edge_attr=[42182144], node_type=[1939743], local_node_idx=[1939743], num_nodes=1939743)\n"
          ]
        }
      ]
    },
    {
      "cell_type": "code",
      "source": [
        "homo_data.y = node_type.new_full((node_type.size(0), 1), -1)\n",
        "# homo_data.y[local2global['paper']] = data.y_dict['paper']\n",
        "homo_data.y[local2global['paper']] = new_y\n",
        "\n",
        "homo_data.train_mask = torch.zeros((node_type.size(0)), dtype=torch.bool)\n",
        "homo_data.train_mask[local2global['paper'][split_idx['train']['paper']]] = True\n",
        "\n",
        "print(homo_data)"
      ],
      "metadata": {
        "colab": {
          "base_uri": "https://localhost:8080/"
        },
        "id": "-I8VjkfRC6Co",
        "outputId": "d681605c-e6e2-4ee1-d913-175493f444b3"
      },
      "execution_count": 15,
      "outputs": [
        {
          "output_type": "stream",
          "name": "stdout",
          "text": [
            "Data(edge_index=[2, 42182144], edge_attr=[42182144], node_type=[1939743], local_node_idx=[1939743], num_nodes=1939743, y=[1939743, 1], train_mask=[1939743])\n"
          ]
        }
      ]
    },
    {
      "cell_type": "code",
      "source": [
        "train_loader = GraphSAINTRandomWalkSampler(homo_data,\n",
        "                                           batch_size=batch_size,\n",
        "                                           walk_length=num_layers,\n",
        "                                           num_steps=num_steps,\n",
        "                                           sample_coverage=0,\n",
        "                                           save_dir=dataset.processed_dir)\n",
        "\n",
        "# Map informations to their canonical type.\n",
        "x_dict = {}\n",
        "for key, x in data.x_dict.items():\n",
        "    x_dict[key2int[key]] = x\n",
        "\n",
        "num_nodes_dict = {}\n",
        "for key, N in data.num_nodes_dict.items():\n",
        "    num_nodes_dict[key2int[key]] = N"
      ],
      "metadata": {
        "colab": {
          "base_uri": "https://localhost:8080/"
        },
        "id": "BQnYwj_HDHZ8",
        "outputId": "a675edb4-52be-4daf-8b0a-7ab9f33d812f"
      },
      "execution_count": 16,
      "outputs": [
        {
          "output_type": "stream",
          "name": "stderr",
          "text": [
            "/usr/local/lib/python3.7/dist-packages/torch_geometric/deprecation.py:12: UserWarning: 'data.GraphSAINTRandomWalkSampler' is deprecated, use 'loader.GraphSAINTRandomWalkSampler' instead\n",
            "  warnings.warn(out)\n"
          ]
        }
      ]
    },
    {
      "cell_type": "code",
      "source": [
        "class RGCNConv(MessagePassing):\n",
        "    def __init__(self, in_channels, out_channels, num_node_types,\n",
        "                 num_edge_types):\n",
        "        super(RGCNConv, self).__init__(aggr='mean')\n",
        "\n",
        "        self.in_channels = in_channels\n",
        "        self.out_channels = out_channels\n",
        "        self.num_node_types = num_node_types\n",
        "        self.num_edge_types = num_edge_types\n",
        "\n",
        "        self.rel_lins = ModuleList([\n",
        "            Linear(in_channels, out_channels, bias=False)\n",
        "            for _ in range(num_edge_types)\n",
        "        ])\n",
        "\n",
        "        self.root_lins = ModuleList([\n",
        "            Linear(in_channels, out_channels, bias=True)\n",
        "            for _ in range(num_node_types)\n",
        "        ])\n",
        "\n",
        "        self.reset_parameters()\n",
        "\n",
        "    def reset_parameters(self):\n",
        "        for lin in self.rel_lins:\n",
        "            lin.reset_parameters()\n",
        "        for lin in self.root_lins:\n",
        "            lin.reset_parameters()\n",
        "\n",
        "    def forward(self, x, edge_index, edge_type, node_type):\n",
        "        out = x.new_zeros(x.size(0), self.out_channels)\n",
        "\n",
        "        for i in range(self.num_edge_types):\n",
        "            mask = edge_type == i\n",
        "            out.add_(self.propagate(edge_index[:, mask], x=x, edge_type=i))\n",
        "\n",
        "        for i in range(self.num_node_types):\n",
        "            mask = node_type == i\n",
        "            out[mask] += self.root_lins[i](x[mask])\n",
        "\n",
        "        return out\n",
        "\n",
        "    def message(self, x_j, edge_type: int):\n",
        "        return self.rel_lins[edge_type](x_j)\n",
        "\n",
        "\n",
        "class RGCN(torch.nn.Module):\n",
        "    def __init__(self, in_channels, hidden_channels, out_channels, num_layers,\n",
        "                 dropout, num_nodes_dict, x_types, num_edge_types):\n",
        "        super(RGCN, self).__init__()\n",
        "\n",
        "        self.in_channels = in_channels\n",
        "        self.hidden_channels = hidden_channels\n",
        "        self.out_channels = out_channels\n",
        "        self.num_layers = num_layers\n",
        "        self.dropout = dropout\n",
        "\n",
        "        node_types = list(num_nodes_dict.keys())\n",
        "        num_node_types = len(node_types)\n",
        "\n",
        "        self.num_node_types = num_node_types\n",
        "        self.num_edge_types = num_edge_types\n",
        "\n",
        "        # Create embeddings for all node types that do not come with features.\n",
        "        self.emb_dict = ParameterDict({\n",
        "            f'{key}': Parameter(torch.Tensor(num_nodes_dict[key], in_channels))\n",
        "            for key in set(node_types).difference(set(x_types))\n",
        "        })\n",
        "\n",
        "        I, H, O = in_channels, hidden_channels, out_channels  # noqa\n",
        "\n",
        "        # Create `num_layers` many message passing layers.\n",
        "        self.convs = ModuleList()\n",
        "        self.convs.append(RGCNConv(I, H, num_node_types, num_edge_types))\n",
        "        for _ in range(num_layers - 2):\n",
        "            self.convs.append(RGCNConv(H, H, num_node_types, num_edge_types))\n",
        "        self.convs.append(RGCNConv(H, O, self.num_node_types, num_edge_types))\n",
        "\n",
        "        self.reset_parameters()\n",
        "\n",
        "    def reset_parameters(self):\n",
        "        for emb in self.emb_dict.values():\n",
        "            torch.nn.init.xavier_uniform_(emb)\n",
        "        for conv in self.convs:\n",
        "            conv.reset_parameters()\n",
        "\n",
        "    def group_input(self, x_dict, node_type, local_node_idx):\n",
        "        # Create global node feature matrix.\n",
        "        h = torch.zeros((node_type.size(0), self.in_channels),\n",
        "                        device=node_type.device)\n",
        "\n",
        "        for key, x in x_dict.items():\n",
        "            mask = node_type == key\n",
        "            h[mask] = x[local_node_idx[mask]]\n",
        "\n",
        "        for key, emb in self.emb_dict.items():\n",
        "            mask = node_type == int(key)\n",
        "            h[mask] = emb[local_node_idx[mask]]\n",
        "\n",
        "        return h\n",
        "\n",
        "    def forward(self, x_dict, edge_index, edge_type, node_type,\n",
        "                local_node_idx):\n",
        "\n",
        "        x = self.group_input(x_dict, node_type, local_node_idx)\n",
        "\n",
        "        for i, conv in enumerate(self.convs):\n",
        "            x = conv(x, edge_index, edge_type, node_type)\n",
        "            if i != self.num_layers - 1:\n",
        "                x = F.relu(x)\n",
        "                x = F.dropout(x, p=0.5, training=self.training)\n",
        "\n",
        "        return x.log_softmax(dim=-1)\n",
        "\n",
        "    def inference(self, x_dict, edge_index_dict, key2int):\n",
        "        # We can perform full-batch inference on GPU.\n",
        "\n",
        "        device = list(x_dict.values())[0].device\n",
        "\n",
        "        x_dict = copy(x_dict)\n",
        "        for key, emb in self.emb_dict.items():\n",
        "            x_dict[int(key)] = emb\n",
        "\n",
        "        adj_t_dict = {}\n",
        "        for key, (row, col) in edge_index_dict.items():\n",
        "            adj_t_dict[key] = SparseTensor(row=col, col=row).to(device)\n",
        "\n",
        "        for i, conv in enumerate(self.convs):\n",
        "            out_dict = {}\n",
        "\n",
        "            for j, x in x_dict.items():\n",
        "                out_dict[j] = conv.root_lins[j](x)\n",
        "\n",
        "            for keys, adj_t in adj_t_dict.items():\n",
        "                src_key, target_key = keys[0], keys[-1]\n",
        "                out = out_dict[key2int[target_key]]\n",
        "                tmp = adj_t.matmul(x_dict[key2int[src_key]], reduce='mean')\n",
        "                out.add_(conv.rel_lins[key2int[keys]](tmp))\n",
        "\n",
        "            if i != self.num_layers - 1:\n",
        "                for j in range(self.num_node_types):\n",
        "                    F.relu_(out_dict[j])\n",
        "\n",
        "            x_dict = out_dict\n",
        "\n",
        "        return x_dict"
      ],
      "metadata": {
        "id": "sDIiEFjDDNyP"
      },
      "execution_count": 17,
      "outputs": []
    },
    {
      "cell_type": "code",
      "source": [
        "# model = RGCN(128, hidden_channels, dataset.num_classes, num_layers,\n",
        "#              dropout, num_nodes_dict, list(x_dict.keys()),\n",
        "#              len(edge_index_dict.keys())).to(device)\n",
        "\n",
        "model = RGCN(128, hidden_channels, num_classes, num_layers,\n",
        "             dropout, num_nodes_dict, list(x_dict.keys()),\n",
        "             len(edge_index_dict.keys())).to(device)\n",
        "\n",
        "x_dict = {k: v.to(device) for k, v in x_dict.items()}"
      ],
      "metadata": {
        "id": "JxySPKi9EFXD"
      },
      "execution_count": 18,
      "outputs": []
    },
    {
      "cell_type": "code",
      "source": [
        "# @profileit()\n",
        "def train(epoch):\n",
        "    model.train()\n",
        "\n",
        "    pbar = tqdm(total=num_steps * batch_size)\n",
        "    pbar.set_description(f'Epoch {epoch:02d}')\n",
        "\n",
        "    total_loss = total_examples = 0\n",
        "    for data in train_loader:\n",
        "        data = data.to(device)\n",
        "        optimizer.zero_grad()\n",
        "        out = model(x_dict, data.edge_index, data.edge_attr, data.node_type,\n",
        "                    data.local_node_idx)\n",
        "        out = out[data.train_mask]\n",
        "        y = data.y[data.train_mask].squeeze()\n",
        "        loss = F.nll_loss(out, y)\n",
        "        loss.backward()\n",
        "        optimizer.step()\n",
        "\n",
        "        num_examples = data.train_mask.sum().item()\n",
        "        total_loss += loss.item() * num_examples\n",
        "        total_examples += num_examples\n",
        "        pbar.update(batch_size)\n",
        "\n",
        "    pbar.close()\n",
        "\n",
        "    return total_loss / total_examples\n",
        "\n",
        "@torch.no_grad()\n",
        "def test():\n",
        "    model.eval()\n",
        "\n",
        "    out = model.inference(x_dict, edge_index_dict, key2int)\n",
        "    model.inference()\n",
        "    out = out[key2int['paper']]\n",
        "\n",
        "    # train_acc, valid_acc, test_acc = 0, 0, 0\n",
        "\n",
        "    y_pred = out.argmax(dim=-1, keepdim=True).cpu()\n",
        "    y_true = data.y_dict['paper']\n",
        "\n",
        "    train_acc = evaluator.eval({\n",
        "        'y_true': y_true[split_idx['train']['paper']],\n",
        "        'y_pred': y_pred[split_idx['train']['paper']],\n",
        "    })['acc']\n",
        "    valid_acc = evaluator.eval({\n",
        "        'y_true': y_true[split_idx['valid']['paper']],\n",
        "        'y_pred': y_pred[split_idx['valid']['paper']],\n",
        "    })['acc']\n",
        "    test_acc = evaluator.eval({\n",
        "        'y_true': y_true[split_idx['test']['paper']],\n",
        "        'y_pred': y_pred[split_idx['test']['paper']],\n",
        "    })['acc']\n",
        "\n",
        "    return train_acc, valid_acc, test_acc"
      ],
      "metadata": {
        "id": "b053cLvUE9Qs"
      },
      "execution_count": 19,
      "outputs": []
    },
    {
      "cell_type": "code",
      "source": [
        "# torch.cuda.empty_cache()\n",
        "test()  # Test if inference on GPU succeeds.\n",
        "epochs = 10\n",
        "for run in range(runs):\n",
        "    print('#'*100)\n",
        "    model.reset_parameters()\n",
        "    optimizer = torch.optim.Adam(model.parameters(), lr=lr)\n",
        "    for epoch in range(0, 101):\n",
        "        # loss, stats = train(epoch)\n",
        "        loss = train(epoch)\n",
        "        # torch.cuda.empty_cache()\n",
        "        free_gpu_cache()   \n",
        "        result = test()\n",
        "        train_acc, valid_acc, test_acc = result\n",
        "        if epoch % 10 == 0:\n",
        "            print(f'Run: {run + 1:02d}, '\n",
        "                f'Epoch: {epoch:02d}, '\n",
        "                f'Loss: {loss:.4f}, '\n",
        "                f'Train: {100 * train_acc:.2f}%, '\n",
        "                f'Valid: {100 * valid_acc:.2f}%, '\n",
        "                f'Test: {100 * test_acc:.2f}%')\n",
        "            # print(stats)"
      ],
      "metadata": {
        "colab": {
          "base_uri": "https://localhost:8080/",
          "height": 415
        },
        "id": "wjTS6kyDFS3R",
        "outputId": "4e981f16-175f-4c0e-a3aa-dfaae8a26099"
      },
      "execution_count": 23,
      "outputs": [
        {
          "output_type": "error",
          "ename": "RuntimeError",
          "evalue": "ignored",
          "traceback": [
            "\u001b[0;31m---------------------------------------------------------------------------\u001b[0m",
            "\u001b[0;31mRuntimeError\u001b[0m                              Traceback (most recent call last)",
            "\u001b[0;32m<ipython-input-23-0f182ac04d4c>\u001b[0m in \u001b[0;36m<module>\u001b[0;34m\u001b[0m\n\u001b[1;32m      1\u001b[0m \u001b[0;31m# torch.cuda.empty_cache()\u001b[0m\u001b[0;34m\u001b[0m\u001b[0;34m\u001b[0m\u001b[0;34m\u001b[0m\u001b[0m\n\u001b[0;32m----> 2\u001b[0;31m \u001b[0mtest\u001b[0m\u001b[0;34m(\u001b[0m\u001b[0;34m)\u001b[0m  \u001b[0;31m# Test if inference on GPU succeeds.\u001b[0m\u001b[0;34m\u001b[0m\u001b[0;34m\u001b[0m\u001b[0m\n\u001b[0m\u001b[1;32m      3\u001b[0m \u001b[0mepochs\u001b[0m \u001b[0;34m=\u001b[0m \u001b[0;36m10\u001b[0m\u001b[0;34m\u001b[0m\u001b[0;34m\u001b[0m\u001b[0m\n\u001b[1;32m      4\u001b[0m \u001b[0;32mfor\u001b[0m \u001b[0mrun\u001b[0m \u001b[0;32min\u001b[0m \u001b[0mrange\u001b[0m\u001b[0;34m(\u001b[0m\u001b[0mruns\u001b[0m\u001b[0;34m)\u001b[0m\u001b[0;34m:\u001b[0m\u001b[0;34m\u001b[0m\u001b[0;34m\u001b[0m\u001b[0m\n\u001b[1;32m      5\u001b[0m     \u001b[0mprint\u001b[0m\u001b[0;34m(\u001b[0m\u001b[0;34m'#'\u001b[0m\u001b[0;34m*\u001b[0m\u001b[0;36m100\u001b[0m\u001b[0;34m)\u001b[0m\u001b[0;34m\u001b[0m\u001b[0;34m\u001b[0m\u001b[0m\n",
            "\u001b[0;32m/usr/local/lib/python3.7/dist-packages/torch/autograd/grad_mode.py\u001b[0m in \u001b[0;36mdecorate_context\u001b[0;34m(*args, **kwargs)\u001b[0m\n\u001b[1;32m     25\u001b[0m         \u001b[0;32mdef\u001b[0m \u001b[0mdecorate_context\u001b[0m\u001b[0;34m(\u001b[0m\u001b[0;34m*\u001b[0m\u001b[0margs\u001b[0m\u001b[0;34m,\u001b[0m \u001b[0;34m**\u001b[0m\u001b[0mkwargs\u001b[0m\u001b[0;34m)\u001b[0m\u001b[0;34m:\u001b[0m\u001b[0;34m\u001b[0m\u001b[0;34m\u001b[0m\u001b[0m\n\u001b[1;32m     26\u001b[0m             \u001b[0;32mwith\u001b[0m \u001b[0mself\u001b[0m\u001b[0;34m.\u001b[0m\u001b[0mclone\u001b[0m\u001b[0;34m(\u001b[0m\u001b[0;34m)\u001b[0m\u001b[0;34m:\u001b[0m\u001b[0;34m\u001b[0m\u001b[0;34m\u001b[0m\u001b[0m\n\u001b[0;32m---> 27\u001b[0;31m                 \u001b[0;32mreturn\u001b[0m \u001b[0mfunc\u001b[0m\u001b[0;34m(\u001b[0m\u001b[0;34m*\u001b[0m\u001b[0margs\u001b[0m\u001b[0;34m,\u001b[0m \u001b[0;34m**\u001b[0m\u001b[0mkwargs\u001b[0m\u001b[0;34m)\u001b[0m\u001b[0;34m\u001b[0m\u001b[0;34m\u001b[0m\u001b[0m\n\u001b[0m\u001b[1;32m     28\u001b[0m         \u001b[0;32mreturn\u001b[0m \u001b[0mcast\u001b[0m\u001b[0;34m(\u001b[0m\u001b[0mF\u001b[0m\u001b[0;34m,\u001b[0m \u001b[0mdecorate_context\u001b[0m\u001b[0;34m)\u001b[0m\u001b[0;34m\u001b[0m\u001b[0;34m\u001b[0m\u001b[0m\n\u001b[1;32m     29\u001b[0m \u001b[0;34m\u001b[0m\u001b[0m\n",
            "\u001b[0;32m<ipython-input-19-e673fde9418a>\u001b[0m in \u001b[0;36mtest\u001b[0;34m()\u001b[0m\n\u001b[1;32m     31\u001b[0m     \u001b[0mmodel\u001b[0m\u001b[0;34m.\u001b[0m\u001b[0meval\u001b[0m\u001b[0;34m(\u001b[0m\u001b[0;34m)\u001b[0m\u001b[0;34m\u001b[0m\u001b[0;34m\u001b[0m\u001b[0m\n\u001b[1;32m     32\u001b[0m \u001b[0;34m\u001b[0m\u001b[0m\n\u001b[0;32m---> 33\u001b[0;31m     \u001b[0mout\u001b[0m \u001b[0;34m=\u001b[0m \u001b[0mmodel\u001b[0m\u001b[0;34m.\u001b[0m\u001b[0minference\u001b[0m\u001b[0;34m(\u001b[0m\u001b[0mx_dict\u001b[0m\u001b[0;34m,\u001b[0m \u001b[0medge_index_dict\u001b[0m\u001b[0;34m,\u001b[0m \u001b[0mkey2int\u001b[0m\u001b[0;34m)\u001b[0m\u001b[0;34m\u001b[0m\u001b[0;34m\u001b[0m\u001b[0m\n\u001b[0m\u001b[1;32m     34\u001b[0m     \u001b[0mmodel\u001b[0m\u001b[0;34m.\u001b[0m\u001b[0minference\u001b[0m\u001b[0;34m(\u001b[0m\u001b[0;34m)\u001b[0m\u001b[0;34m\u001b[0m\u001b[0;34m\u001b[0m\u001b[0m\n\u001b[1;32m     35\u001b[0m     \u001b[0mout\u001b[0m \u001b[0;34m=\u001b[0m \u001b[0mout\u001b[0m\u001b[0;34m[\u001b[0m\u001b[0mkey2int\u001b[0m\u001b[0;34m[\u001b[0m\u001b[0;34m'paper'\u001b[0m\u001b[0;34m]\u001b[0m\u001b[0;34m]\u001b[0m\u001b[0;34m\u001b[0m\u001b[0;34m\u001b[0m\u001b[0m\n",
            "\u001b[0;32m<ipython-input-17-95d4236eb714>\u001b[0m in \u001b[0;36minference\u001b[0;34m(self, x_dict, edge_index_dict, key2int)\u001b[0m\n\u001b[1;32m    123\u001b[0m         \u001b[0madj_t_dict\u001b[0m \u001b[0;34m=\u001b[0m \u001b[0;34m{\u001b[0m\u001b[0;34m}\u001b[0m\u001b[0;34m\u001b[0m\u001b[0;34m\u001b[0m\u001b[0m\n\u001b[1;32m    124\u001b[0m         \u001b[0;32mfor\u001b[0m \u001b[0mkey\u001b[0m\u001b[0;34m,\u001b[0m \u001b[0;34m(\u001b[0m\u001b[0mrow\u001b[0m\u001b[0;34m,\u001b[0m \u001b[0mcol\u001b[0m\u001b[0;34m)\u001b[0m \u001b[0;32min\u001b[0m \u001b[0medge_index_dict\u001b[0m\u001b[0;34m.\u001b[0m\u001b[0mitems\u001b[0m\u001b[0;34m(\u001b[0m\u001b[0;34m)\u001b[0m\u001b[0;34m:\u001b[0m\u001b[0;34m\u001b[0m\u001b[0;34m\u001b[0m\u001b[0m\n\u001b[0;32m--> 125\u001b[0;31m             \u001b[0madj_t_dict\u001b[0m\u001b[0;34m[\u001b[0m\u001b[0mkey\u001b[0m\u001b[0;34m]\u001b[0m \u001b[0;34m=\u001b[0m \u001b[0mSparseTensor\u001b[0m\u001b[0;34m(\u001b[0m\u001b[0mrow\u001b[0m\u001b[0;34m=\u001b[0m\u001b[0mcol\u001b[0m\u001b[0;34m,\u001b[0m \u001b[0mcol\u001b[0m\u001b[0;34m=\u001b[0m\u001b[0mrow\u001b[0m\u001b[0;34m)\u001b[0m\u001b[0;34m.\u001b[0m\u001b[0mto\u001b[0m\u001b[0;34m(\u001b[0m\u001b[0mdevice\u001b[0m\u001b[0;34m)\u001b[0m\u001b[0;34m\u001b[0m\u001b[0;34m\u001b[0m\u001b[0m\n\u001b[0m\u001b[1;32m    126\u001b[0m \u001b[0;34m\u001b[0m\u001b[0m\n\u001b[1;32m    127\u001b[0m         \u001b[0;32mfor\u001b[0m \u001b[0mi\u001b[0m\u001b[0;34m,\u001b[0m \u001b[0mconv\u001b[0m \u001b[0;32min\u001b[0m \u001b[0menumerate\u001b[0m\u001b[0;34m(\u001b[0m\u001b[0mself\u001b[0m\u001b[0;34m.\u001b[0m\u001b[0mconvs\u001b[0m\u001b[0;34m)\u001b[0m\u001b[0;34m:\u001b[0m\u001b[0;34m\u001b[0m\u001b[0;34m\u001b[0m\u001b[0m\n",
            "\u001b[0;32m/usr/local/lib/python3.7/dist-packages/torch_sparse/tensor.py\u001b[0m in \u001b[0;36mto\u001b[0;34m(self, *args, **kwargs)\u001b[0m\n\u001b[1;32m    531\u001b[0m         \u001b[0mself\u001b[0m \u001b[0;34m=\u001b[0m \u001b[0mself\u001b[0m\u001b[0;34m.\u001b[0m\u001b[0mtype\u001b[0m\u001b[0;34m(\u001b[0m\u001b[0mdtype\u001b[0m\u001b[0;34m=\u001b[0m\u001b[0mdtype\u001b[0m\u001b[0;34m,\u001b[0m \u001b[0mnon_blocking\u001b[0m\u001b[0;34m=\u001b[0m\u001b[0mnon_blocking\u001b[0m\u001b[0;34m)\u001b[0m\u001b[0;34m\u001b[0m\u001b[0;34m\u001b[0m\u001b[0m\n\u001b[1;32m    532\u001b[0m     \u001b[0;32mif\u001b[0m \u001b[0mdevice\u001b[0m \u001b[0;32mis\u001b[0m \u001b[0;32mnot\u001b[0m \u001b[0;32mNone\u001b[0m\u001b[0;34m:\u001b[0m\u001b[0;34m\u001b[0m\u001b[0;34m\u001b[0m\u001b[0m\n\u001b[0;32m--> 533\u001b[0;31m         \u001b[0mself\u001b[0m \u001b[0;34m=\u001b[0m \u001b[0mself\u001b[0m\u001b[0;34m.\u001b[0m\u001b[0mto_device\u001b[0m\u001b[0;34m(\u001b[0m\u001b[0mdevice\u001b[0m\u001b[0;34m=\u001b[0m\u001b[0mdevice\u001b[0m\u001b[0;34m,\u001b[0m \u001b[0mnon_blocking\u001b[0m\u001b[0;34m=\u001b[0m\u001b[0mnon_blocking\u001b[0m\u001b[0;34m)\u001b[0m\u001b[0;34m\u001b[0m\u001b[0;34m\u001b[0m\u001b[0m\n\u001b[0m\u001b[1;32m    534\u001b[0m \u001b[0;34m\u001b[0m\u001b[0m\n\u001b[1;32m    535\u001b[0m     \u001b[0;32mreturn\u001b[0m \u001b[0mself\u001b[0m\u001b[0;34m\u001b[0m\u001b[0;34m\u001b[0m\u001b[0m\n",
            "\u001b[0;32m/usr/local/lib/python3.7/dist-packages/torch_sparse/tensor.py\u001b[0m in \u001b[0;36mto_device\u001b[0;34m(self, device, non_blocking)\u001b[0m\n\u001b[1;32m    190\u001b[0m             \u001b[0;32mreturn\u001b[0m \u001b[0mself\u001b[0m\u001b[0;34m\u001b[0m\u001b[0;34m\u001b[0m\u001b[0m\n\u001b[1;32m    191\u001b[0m         return self.from_storage(\n\u001b[0;32m--> 192\u001b[0;31m             self.storage.to_device(device=device, non_blocking=non_blocking))\n\u001b[0m\u001b[1;32m    193\u001b[0m \u001b[0;34m\u001b[0m\u001b[0m\n\u001b[1;32m    194\u001b[0m     \u001b[0;32mdef\u001b[0m \u001b[0mdevice_as\u001b[0m\u001b[0;34m(\u001b[0m\u001b[0mself\u001b[0m\u001b[0;34m,\u001b[0m \u001b[0mtensor\u001b[0m\u001b[0;34m:\u001b[0m \u001b[0mtorch\u001b[0m\u001b[0;34m.\u001b[0m\u001b[0mTensor\u001b[0m\u001b[0;34m,\u001b[0m \u001b[0mnon_blocking\u001b[0m\u001b[0;34m:\u001b[0m \u001b[0mbool\u001b[0m \u001b[0;34m=\u001b[0m \u001b[0;32mFalse\u001b[0m\u001b[0;34m)\u001b[0m\u001b[0;34m:\u001b[0m\u001b[0;34m\u001b[0m\u001b[0;34m\u001b[0m\u001b[0m\n",
            "\u001b[0;32m/usr/local/lib/python3.7/dist-packages/torch_sparse/storage.py\u001b[0m in \u001b[0;36mto_device\u001b[0;34m(self, device, non_blocking)\u001b[0m\n\u001b[1;32m    557\u001b[0m         \u001b[0mrow\u001b[0m \u001b[0;34m=\u001b[0m \u001b[0mself\u001b[0m\u001b[0;34m.\u001b[0m\u001b[0m_row\u001b[0m\u001b[0;34m\u001b[0m\u001b[0;34m\u001b[0m\u001b[0m\n\u001b[1;32m    558\u001b[0m         \u001b[0;32mif\u001b[0m \u001b[0mrow\u001b[0m \u001b[0;32mis\u001b[0m \u001b[0;32mnot\u001b[0m \u001b[0;32mNone\u001b[0m\u001b[0;34m:\u001b[0m\u001b[0;34m\u001b[0m\u001b[0;34m\u001b[0m\u001b[0m\n\u001b[0;32m--> 559\u001b[0;31m             \u001b[0mrow\u001b[0m \u001b[0;34m=\u001b[0m \u001b[0mrow\u001b[0m\u001b[0;34m.\u001b[0m\u001b[0mto\u001b[0m\u001b[0;34m(\u001b[0m\u001b[0mdevice\u001b[0m\u001b[0;34m,\u001b[0m \u001b[0mnon_blocking\u001b[0m\u001b[0;34m=\u001b[0m\u001b[0mnon_blocking\u001b[0m\u001b[0;34m)\u001b[0m\u001b[0;34m\u001b[0m\u001b[0;34m\u001b[0m\u001b[0m\n\u001b[0m\u001b[1;32m    560\u001b[0m         \u001b[0mrowptr\u001b[0m \u001b[0;34m=\u001b[0m \u001b[0mself\u001b[0m\u001b[0;34m.\u001b[0m\u001b[0m_rowptr\u001b[0m\u001b[0;34m\u001b[0m\u001b[0;34m\u001b[0m\u001b[0m\n\u001b[1;32m    561\u001b[0m         \u001b[0;32mif\u001b[0m \u001b[0mrowptr\u001b[0m \u001b[0;32mis\u001b[0m \u001b[0;32mnot\u001b[0m \u001b[0;32mNone\u001b[0m\u001b[0;34m:\u001b[0m\u001b[0;34m\u001b[0m\u001b[0;34m\u001b[0m\u001b[0m\n",
            "\u001b[0;31mRuntimeError\u001b[0m: CUDA error: invalid argument\nCUDA kernel errors might be asynchronously reported at some other API call,so the stacktrace below might be incorrect.\nFor debugging consider passing CUDA_LAUNCH_BLOCKING=1."
          ]
        }
      ]
    },
    {
      "cell_type": "code",
      "source": [
        "\n"
      ],
      "metadata": {
        "id": "ThP2aHwxGJba"
      },
      "execution_count": null,
      "outputs": []
    }
  ],
  "metadata": {
    "colab": {
      "collapsed_sections": [
        "aDbleer8iEKF",
        "W86pdGKfsCSI",
        "CVDDBd6tfKLZ",
        "RZ4xizKdQoEu",
        "73AEkP4SQvRK",
        "gGGNaSznld38"
      ],
      "provenance": [],
      "include_colab_link": true
    },
    "gpuClass": "standard",
    "kernelspec": {
      "display_name": "Python 3",
      "name": "python3"
    },
    "language_info": {
      "name": "python"
    },
    "accelerator": "GPU"
  },
  "nbformat": 4,
  "nbformat_minor": 0
}