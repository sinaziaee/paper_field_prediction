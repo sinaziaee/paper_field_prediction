{
  "cells": [
    {
      "cell_type": "markdown",
      "metadata": {
        "id": "view-in-github",
        "colab_type": "text"
      },
      "source": [
        "<a href=\"https://colab.research.google.com/github/sinaziaee/paper_field_prediction/blob/main/main.ipynb\" target=\"_parent\"><img src=\"https://colab.research.google.com/assets/colab-badge.svg\" alt=\"Open In Colab\"/></a>"
      ]
    },
    {
      "cell_type": "code",
      "execution_count": 2,
      "metadata": {
        "colab": {
          "base_uri": "https://localhost:8080/"
        },
        "id": "0cwaXYxf-bXn",
        "outputId": "fe04ff22-6a1c-431a-ff2b-4db01f69269b"
      },
      "outputs": [
        {
          "output_type": "stream",
          "name": "stdout",
          "text": [
            "PyTorch has version 1.12.1+cu113\n",
            "2.1.0\n",
            "ogbn-mag has been updated.\n",
            "Will you update the dataset now? (y/N)\n",
            "y\n",
            "Downloading http://snap.stanford.edu/ogb/data/nodeproppred/mag.zip\n"
          ]
        },
        {
          "output_type": "stream",
          "name": "stderr",
          "text": [
            "Downloaded 0.40 GB: 100%|██████████| 413/413 [00:16<00:00, 24.88it/s]\n"
          ]
        },
        {
          "output_type": "stream",
          "name": "stdout",
          "text": [
            "Extracting dataset/mag.zip\n"
          ]
        },
        {
          "output_type": "stream",
          "name": "stderr",
          "text": [
            "Processing...\n"
          ]
        },
        {
          "output_type": "stream",
          "name": "stdout",
          "text": [
            "Loading necessary files...\n",
            "This might take a while.\n",
            "Processing graphs...\n"
          ]
        },
        {
          "output_type": "stream",
          "name": "stderr",
          "text": [
            "100%|██████████| 1/1 [00:00<00:00, 5592.41it/s]\n"
          ]
        },
        {
          "output_type": "stream",
          "name": "stdout",
          "text": [
            "Converting graphs into PyG objects...\n"
          ]
        },
        {
          "output_type": "stream",
          "name": "stderr",
          "text": [
            "100%|██████████| 1/1 [00:00<00:00, 1651.30it/s]"
          ]
        },
        {
          "output_type": "stream",
          "name": "stdout",
          "text": [
            "Saving...\n"
          ]
        },
        {
          "output_type": "stream",
          "name": "stderr",
          "text": [
            "\n",
            "Done!\n"
          ]
        },
        {
          "output_type": "stream",
          "name": "stdout",
          "text": [
            "Data(\n",
            "  num_nodes_dict={\n",
            "    author=1134649,\n",
            "    field_of_study=59965,\n",
            "    institution=8740,\n",
            "    paper=736389\n",
            "  },\n",
            "  edge_index_dict={\n",
            "    (author, affiliated_with, institution)=[2, 1043998],\n",
            "    (author, writes, paper)=[2, 7145660],\n",
            "    (paper, cites, paper)=[2, 5416271],\n",
            "    (paper, has_topic, field_of_study)=[2, 7505078]\n",
            "  },\n",
            "  x_dict={ paper=[736389, 128] },\n",
            "  node_year={ paper=[736389, 1] },\n",
            "  edge_reltype={\n",
            "    (author, affiliated_with, institution)=[1043998, 1],\n",
            "    (author, writes, paper)=[7145660, 1],\n",
            "    (paper, cites, paper)=[5416271, 1],\n",
            "    (paper, has_topic, field_of_study)=[7505078, 1]\n",
            "  },\n",
            "  y_dict={ paper=[736389, 1] }\n",
            ")\n"
          ]
        }
      ],
      "source": [
        "import torch\n",
        "print(\"PyTorch has version {}\".format(torch.__version__))\n",
        "# Install torch geometric\n",
        "!pip install -q torch-scatter -f https://pytorch-geometric.com/whl/torch-1.12.0+cu113.html &> /dev/null\n",
        "!pip install -q torch-sparse -f https://pytorch-geometric.com/whl/torch-1.12.0+cu113.html &> /dev/null\n",
        "!pip install -q torch-geometric &> /dev/null\n",
        "!pip install ogb &> /dev/null\n",
        "!pip install matplotlib==3.1.3 &> /dev/null\n",
        "##\n",
        "import torch_geometric\n",
        "print(torch_geometric.__version__)\n",
        "import numpy as np\n",
        "import pandas as pd\n",
        "import matplotlib.pyplot as plt\n",
        "# Dataset loader\n",
        "from ogb.nodeproppred import PygNodePropPredDataset, Evaluator\n",
        "dataset = PygNodePropPredDataset(name='ogbn-mag')\n",
        "split_idx = dataset.get_idx_split()\n",
        "data = dataset[0]\n",
        "# data information\n",
        "print(data)"
      ]
    },
    {
      "cell_type": "code",
      "source": [
        "no_paper = data.num_nodes_dict['paper']\n",
        "no_study_fields = data.num_nodes_dict['field_of_study']\n",
        "m_key = 'paper', 'has_topic', 'field_of_study'\n",
        "no_paper_study_fields = data.edge_index_dict[m_key].shape[1]\n",
        "print('no paper:', no_paper)\n",
        "print('no study fields:', no_study_fields)\n",
        "print('no paper study fields:', no_paper_study_fields)"
      ],
      "metadata": {
        "colab": {
          "base_uri": "https://localhost:8080/"
        },
        "id": "pTwhUFrgvGBH",
        "outputId": "010830e7-fce8-4bad-b7ef-ee53020efc52"
      },
      "execution_count": 11,
      "outputs": [
        {
          "output_type": "stream",
          "name": "stdout",
          "text": [
            "no paper: 736389\n",
            "no study fields: 59965\n",
            "no paper study fields: 7505078\n"
          ]
        }
      ]
    },
    {
      "cell_type": "code",
      "execution_count": 60,
      "metadata": {
        "colab": {
          "base_uri": "https://localhost:8080/"
        },
        "id": "xezrtqQTQUH2",
        "outputId": "1a26777f-a5b1-46a7-c117-787ee660165e"
      },
      "outputs": [
        {
          "output_type": "stream",
          "name": "stdout",
          "text": [
            "[  145  2215  3205 ... 21458 22283 31934]\n",
            "number of papers for each study field:  [   7 1353  609 ...    2    1    1]\n"
          ]
        }
      ],
      "source": [
        "# selecting edges connected to field of studies\n",
        "study_fields = data.edge_index_dict[m_key][1].numpy()\n",
        "print(study_fields)\n",
        "study_fields = list(study_fields)\n",
        "study_fields_list = [0 for i in range(no_study_fields)]\n",
        "for each in study_fields:\n",
        "  study_fields_list[each] += 1\n",
        "# number of papers with each field of studies\n",
        "study_fields_list = np.array(study_fields_list)\n",
        "print('number of papers for each study field: ', study_fields_list)"
      ]
    },
    {
      "cell_type": "code",
      "execution_count": 61,
      "metadata": {
        "id": "umwVDymL1PTn"
      },
      "outputs": [],
      "source": [
        "# creating a dictionary of papers and their corresponding fields of studies\n",
        "papers_dict = dict(zip([i for i in range(no_paper)], [[] for i in range(no_paper)]))\n",
        "for each in data.edge_index_dict[m_key].T.numpy():\n",
        "  paper = each[0]\n",
        "  field = each[1]\n",
        "  papers_dict[paper].append(field)"
      ]
    },
    {
      "cell_type": "markdown",
      "source": [
        "16758 fields of study are used only in one paper. Field of study \"14055\" is used in all papers. 3 papers only have 14055 as their only field of study.\n",
        "We will select the fields of study that are used in most number of papers. we will filter them based on fields that are used higher than 10000, 20000, ..., 50000 papers."
      ],
      "metadata": {
        "id": "7aNFtfigF8Mw"
      }
    },
    {
      "cell_type": "code",
      "source": [
        "print(study_fields_list[study_fields_list==1].shape[0])"
      ],
      "metadata": {
        "colab": {
          "base_uri": "https://localhost:8080/"
        },
        "id": "W2UynnaCFgCt",
        "outputId": "679749cc-ce78-4c37-87d6-17fd03c6baf2"
      },
      "execution_count": 86,
      "outputs": [
        {
          "output_type": "stream",
          "name": "stdout",
          "text": [
            "16758\n"
          ]
        }
      ]
    },
    {
      "cell_type": "code",
      "source": [
        "study_fields_list"
      ],
      "metadata": {
        "colab": {
          "base_uri": "https://localhost:8080/"
        },
        "id": "n2AdUFy6GvFu",
        "outputId": "81c844b4-4348-439d-8d77-cbaad1dc80c8"
      },
      "execution_count": 87,
      "outputs": [
        {
          "output_type": "execute_result",
          "data": {
            "text/plain": [
              "(59965,)"
            ]
          },
          "metadata": {},
          "execution_count": 87
        }
      ]
    },
    {
      "cell_type": "code",
      "execution_count": 62,
      "metadata": {
        "colab": {
          "base_uri": "https://localhost:8080/"
        },
        "id": "5hxjykfNzGUd",
        "outputId": "e1ea5405-c9ba-4a92-e9cf-c11f6173d97a"
      },
      "outputs": [
        {
          "output_type": "stream",
          "name": "stdout",
          "text": [
            "[ 87464 129205  96621  86355  70668  67323 189963 736389  71231]\n",
            "field of study with the maximum number of papers:  14055\n"
          ]
        }
      ],
      "source": [
        "print(study_fields_list[study_fields_list>50000])\n",
        "print('field of study with the maximum number of papers: ', study_fields_list.argmax())\n",
        "field_of_study_with_max_papers = study_fields_list.argmax()"
      ]
    },
    {
      "cell_type": "code",
      "execution_count": 94,
      "metadata": {
        "colab": {
          "base_uri": "https://localhost:8080/",
          "height": 549
        },
        "id": "YwlD97Y6XhPQ",
        "outputId": "cba561fb-b1bc-45ba-df48-dd1f0af4fa4e"
      },
      "outputs": [
        {
          "output_type": "display_data",
          "data": {
            "text/plain": [
              "<Figure size 432x576 with 1 Axes>"
            ],
            "image/png": "[encoded data removed]"
          },
          "metadata": {
            "needs_background": "light"
          }
        },
        {
          "output_type": "stream",
          "name": "stdout",
          "text": [
            "\n",
            "number of papers:     [0, 1, 100, 5000]\n",
            "number of study fields: [59965, 43207, 6215, 177]\n"
          ]
        }
      ],
      "source": [
        "# selecting threshold list for visualization of the number of papers in each field of study\n",
        "# threshold_list = [i * 10000 for i in range(6)]\n",
        "threshold_list = [0, 1, 100, 5000]\n",
        "result_list = []\n",
        "# finding the number of papers on each threshold\n",
        "for each in threshold_list:\n",
        "  result_list.append(study_fields_list[study_fields_list>each].shape[0])\n",
        "# visualization\n",
        "plt.figure(figsize=(6, 8))\n",
        "plt.scatter(threshold_list[:], result_list[:])\n",
        "plt.plot(threshold_list[:], result_list[:])\n",
        "plt.xlabel('Thresholds of the number of papers')\n",
        "plt.ylabel('The number of fields of study')\n",
        "# for i in range(len(result_list)):\n",
        "#     plt.annotate(result_list[i], (threshold_list[i], result_list[i] + 0.2))\n",
        "plt.show()\n",
        "print(f'\\nnumber of papers:     {threshold_list}')\n",
        "print(f'number of study fields: {result_list}')"
      ]
    },
    {
      "cell_type": "code",
      "execution_count": 64,
      "metadata": {
        "id": "hFjN-hLyV-ML"
      },
      "outputs": [],
      "source": [
        "keys = [i for i in range(no_study_fields)] # study fields\n",
        "values = list(study_fields_list) # number of papers\n",
        "study_fields_dict = dict(zip(keys, values))\n",
        "sorted_dict = dict(sorted(study_fields_dict.items(), key=lambda item: item[1]))"
      ]
    },
    {
      "cell_type": "code",
      "source": [
        "def find_field_with_max_no_papers(temp_dict, study_fields_list_in_each_paper):\n",
        "  temp_list = []\n",
        "  # removing the most used field of study (14055)\n",
        "  if len(study_fields_list_in_each_paper) == 1: # if the list only has 14055 as study field then return it, otherwise find the next max field\n",
        "    # print(study_fields_list_in_each_paper)\n",
        "    return field_of_study_with_max_papers\n",
        "  study_fields_list_in_each_paper.remove(field_of_study_with_max_papers)\n",
        "  # find the order (higher number -> higer priority)\n",
        "  for field in study_fields_list_in_each_paper:\n",
        "    temp_list.append(temp_dict[field])\n",
        "  # finding the study field with maximum number of papers\n",
        "  maximum = max(temp_list)\n",
        "  # finding it's index\n",
        "  max_index = temp_list.index(maximum)\n",
        "  # returning the field of study itself (not the index)\n",
        "  study_field_with_max_no_papers = study_fields_list_in_each_paper[max_index]\n",
        "  return study_field_with_max_no_papers"
      ],
      "metadata": {
        "id": "rHxC-q2r0W9m"
      },
      "execution_count": 98,
      "outputs": []
    },
    {
      "cell_type": "code",
      "execution_count": 99,
      "metadata": {
        "id": "3TtaJN9gyzvp"
      },
      "outputs": [],
      "source": [
        "papers_study_fields = [field_of_study_with_max_papers for i in range(no_paper)]\n",
        "temp_dict = dict(zip(list(sorted_dict.keys()), [i for i in range(len(list(sorted_dict.keys())))]))\n",
        "# find the most used field of study\n",
        "for i in range(no_paper):\n",
        "  study_fields_list_in_each_paper = papers_dict[i][:]\n",
        "  study_field_with_max_no_papers = find_field_with_max_no_papers(temp_dict, study_fields_list_in_each_paper) \n",
        "  papers_study_fields[i] = study_field_with_max_no_papers\n",
        "# saving the result as it may take a while\n",
        "papers_study_fields = np.array(papers_study_fields)\n",
        "np.savetxt('saved_list.txt', papers_study_fields, fmt='%d')\n",
        "b = np.loadtxt('saved_list.txt', dtype=int)\n",
        "# automatically downloading the result\n",
        "# from google.colab import files\n",
        "# files.download('saved_list.txt') "
      ]
    },
    {
      "cell_type": "code",
      "source": [
        "temp_set = set()\n",
        "for each in list(papers_study_fields):\n",
        "  temp_set.add(each)"
      ],
      "metadata": {
        "id": "jLfT3I88Tl45"
      },
      "execution_count": 103,
      "outputs": []
    },
    {
      "cell_type": "code",
      "source": [
        "my_dict = dict(zip(list(temp_set), [0 for i in range(len(temp_set))]))\n",
        "for each in list(papers_study_fields):\n",
        "  my_dict[each]+=1"
      ],
      "metadata": {
        "id": "_NCdyKfQW-Pg"
      },
      "execution_count": 107,
      "outputs": []
    },
    {
      "cell_type": "code",
      "source": [
        "new_y = torch.from_numpy(papers_study_fields.reshape((papers_study_fields.shape[0], 1)))\n",
        "data.y_dict['paper'] = new_y"
      ],
      "metadata": {
        "id": "hfTTwYFycQ0I"
      },
      "execution_count": 124,
      "outputs": []
    },
    {
      "cell_type": "code",
      "source": [],
      "metadata": {
        "id": "cndMPgQCdoM9"
      },
      "execution_count": null,
      "outputs": []
    }
  ],
  "metadata": {
    "colab": {
      "collapsed_sections": [],
      "provenance": [],
      "authorship_tag": "ABX9TyMh5zoDK1UKPBqYGcvy4FOb",
      "include_colab_link": true
    },
    "gpuClass": "standard",
    "kernelspec": {
      "display_name": "Python 3",
      "name": "python3"
    },
    "language_info": {
      "name": "python"
    }
  },
  "nbformat": 4,
  "nbformat_minor": 0
}